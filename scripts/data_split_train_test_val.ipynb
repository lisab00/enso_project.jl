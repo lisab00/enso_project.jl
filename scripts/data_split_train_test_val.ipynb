{
 "cells": [
  {
   "cell_type": "markdown",
   "metadata": {},
   "source": [
    "### Split the data into training, test and validation set"
   ]
  },
  {
   "cell_type": "code",
   "execution_count": 1,
   "metadata": {},
   "outputs": [
    {
     "name": "stderr",
     "output_type": "stream",
     "text": [
      "\u001b[32m\u001b[1m  Activating\u001b[22m\u001b[39m project at `C:\\Users\\lihel\\Documents\\enso_project.jl`\n"
     ]
    }
   ],
   "source": [
    "cd(\"$(homedir())/Documents/enso_project.jl\")\n",
    "using Pkg\n",
    "Pkg.activate(\".\")"
   ]
  },
  {
   "cell_type": "code",
   "execution_count": 6,
   "metadata": {},
   "outputs": [],
   "source": [
    "using CSV, DataFrames"
   ]
  },
  {
   "cell_type": "markdown",
   "metadata": {},
   "source": [
    "we use a function similiar to the one implemented in lecture 12."
   ]
  },
  {
   "cell_type": "code",
   "execution_count": 16,
   "metadata": {},
   "outputs": [
    {
     "data": {
      "text/plain": [
       "train_val_test_split"
      ]
     },
     "metadata": {},
     "output_type": "display_data"
    }
   ],
   "source": [
    "\"\"\"\n",
    "    train_val_test_split(data; num_val_months, num_test_months, Δt = 1)\n",
    "\n",
    "Split the given data into training, validation, and test sets.\n",
    "val_percent: number of time steps wanted in the validation set.\n",
    "test_percent: number of time steps wanted in the test set.\n",
    "\"\"\"\n",
    "function train_val_test_split(data; val_percent=0.15, test_percent=0.15)\n",
    "    N = size(data, 1)\n",
    "    N_val = round(Int, val_percent*N)\n",
    "    N_test = round(Int, test_percent*N)\n",
    "    \n",
    "    ind1 = N - N_test - N_val\n",
    "    ind2 = N - N_test\n",
    "    \n",
    "    train_data = data[1:ind1, :]\n",
    "    val_data = data[ind1+1:ind2, :]\n",
    "    test_data = data[ind2+1:end, :]\n",
    "    \n",
    "    return train_data, val_data, test_data\n",
    "end"
   ]
  },
  {
   "cell_type": "markdown",
   "metadata": {},
   "source": [
    "we test it on our embedded data."
   ]
  },
  {
   "cell_type": "code",
   "execution_count": 9,
   "metadata": {},
   "outputs": [
    {
     "data": {
      "text/html": [
       "<div><div style = \"float: left;\"><span>493×5 DataFrame</span></div><div style = \"float: right;\"><span style = \"font-style: italic;\">468 rows omitted</span></div><div style = \"clear: both;\"></div></div><div class = \"data-frame\" style = \"overflow-x: scroll;\"><table class = \"data-frame\" style = \"margin-bottom: 6px;\"><thead><tr class = \"header\"><th class = \"rowNumber\" style = \"font-weight: bold; text-align: right;\">Row</th><th style = \"text-align: left;\">Column1</th><th style = \"text-align: left;\">Column2</th><th style = \"text-align: left;\">Column3</th><th style = \"text-align: left;\">Column4</th><th style = \"text-align: left;\">Column5</th></tr><tr class = \"subheader headerLastRow\"><th class = \"rowNumber\" style = \"font-weight: bold; text-align: right;\"></th><th title = \"Float64\" style = \"text-align: left;\">Float64</th><th title = \"Float64\" style = \"text-align: left;\">Float64</th><th title = \"Float64\" style = \"text-align: left;\">Float64</th><th title = \"Float64\" style = \"text-align: left;\">Float64</th><th title = \"Float64\" style = \"text-align: left;\">Float64</th></tr></thead><tbody><tr><td class = \"rowNumber\" style = \"font-weight: bold; text-align: right;\">1</td><td style = \"text-align: right;\">0.08</td><td style = \"text-align: right;\">0.27</td><td style = \"text-align: right;\">2.13</td><td style = \"text-align: right;\">-0.33</td><td style = \"text-align: right;\">-0.96</td></tr><tr><td class = \"rowNumber\" style = \"font-weight: bold; text-align: right;\">2</td><td style = \"text-align: right;\">-0.2</td><td style = \"text-align: right;\">0.86</td><td style = \"text-align: right;\">1.81</td><td style = \"text-align: right;\">-0.44</td><td style = \"text-align: right;\">-0.16</td></tr><tr><td class = \"rowNumber\" style = \"font-weight: bold; text-align: right;\">3</td><td style = \"text-align: right;\">-0.14</td><td style = \"text-align: right;\">1.24</td><td style = \"text-align: right;\">1.22</td><td style = \"text-align: right;\">-0.38</td><td style = \"text-align: right;\">-0.52</td></tr><tr><td class = \"rowNumber\" style = \"font-weight: bold; text-align: right;\">4</td><td style = \"text-align: right;\">0.02</td><td style = \"text-align: right;\">1.73</td><td style = \"text-align: right;\">0.68</td><td style = \"text-align: right;\">-1.02</td><td style = \"text-align: right;\">-0.54</td></tr><tr><td class = \"rowNumber\" style = \"font-weight: bold; text-align: right;\">5</td><td style = \"text-align: right;\">0.49</td><td style = \"text-align: right;\">1.68</td><td style = \"text-align: right;\">0.68</td><td style = \"text-align: right;\">-1.29</td><td style = \"text-align: right;\">-0.69</td></tr><tr><td class = \"rowNumber\" style = \"font-weight: bold; text-align: right;\">6</td><td style = \"text-align: right;\">0.65</td><td style = \"text-align: right;\">2.21</td><td style = \"text-align: right;\">0.45</td><td style = \"text-align: right;\">-1.16</td><td style = \"text-align: right;\">-1.03</td></tr><tr><td class = \"rowNumber\" style = \"font-weight: bold; text-align: right;\">7</td><td style = \"text-align: right;\">0.27</td><td style = \"text-align: right;\">2.13</td><td style = \"text-align: right;\">-0.33</td><td style = \"text-align: right;\">-0.96</td><td style = \"text-align: right;\">-0.68</td></tr><tr><td class = \"rowNumber\" style = \"font-weight: bold; text-align: right;\">8</td><td style = \"text-align: right;\">0.86</td><td style = \"text-align: right;\">1.81</td><td style = \"text-align: right;\">-0.44</td><td style = \"text-align: right;\">-0.16</td><td style = \"text-align: right;\">-0.54</td></tr><tr><td class = \"rowNumber\" style = \"font-weight: bold; text-align: right;\">9</td><td style = \"text-align: right;\">1.24</td><td style = \"text-align: right;\">1.22</td><td style = \"text-align: right;\">-0.38</td><td style = \"text-align: right;\">-0.52</td><td style = \"text-align: right;\">-0.41</td></tr><tr><td class = \"rowNumber\" style = \"font-weight: bold; text-align: right;\">10</td><td style = \"text-align: right;\">1.73</td><td style = \"text-align: right;\">0.68</td><td style = \"text-align: right;\">-1.02</td><td style = \"text-align: right;\">-0.54</td><td style = \"text-align: right;\">-0.75</td></tr><tr><td class = \"rowNumber\" style = \"font-weight: bold; text-align: right;\">11</td><td style = \"text-align: right;\">1.68</td><td style = \"text-align: right;\">0.68</td><td style = \"text-align: right;\">-1.29</td><td style = \"text-align: right;\">-0.69</td><td style = \"text-align: right;\">-1.3</td></tr><tr><td class = \"rowNumber\" style = \"font-weight: bold; text-align: right;\">12</td><td style = \"text-align: right;\">2.21</td><td style = \"text-align: right;\">0.45</td><td style = \"text-align: right;\">-1.16</td><td style = \"text-align: right;\">-1.03</td><td style = \"text-align: right;\">-1.48</td></tr><tr><td class = \"rowNumber\" style = \"font-weight: bold; text-align: right;\">13</td><td style = \"text-align: right;\">2.13</td><td style = \"text-align: right;\">-0.33</td><td style = \"text-align: right;\">-0.96</td><td style = \"text-align: right;\">-0.68</td><td style = \"text-align: right;\">-1.3</td></tr><tr><td style = \"text-align: right;\">&vellip;</td><td style = \"text-align: right;\">&vellip;</td><td style = \"text-align: right;\">&vellip;</td><td style = \"text-align: right;\">&vellip;</td><td style = \"text-align: right;\">&vellip;</td><td style = \"text-align: right;\">&vellip;</td></tr><tr><td class = \"rowNumber\" style = \"font-weight: bold; text-align: right;\">482</td><td style = \"text-align: right;\">-0.71</td><td style = \"text-align: right;\">-0.98</td><td style = \"text-align: right;\">-0.44</td><td style = \"text-align: right;\">1.3</td><td style = \"text-align: right;\">1.53</td></tr><tr><td class = \"rowNumber\" style = \"font-weight: bold; text-align: right;\">483</td><td style = \"text-align: right;\">-0.89</td><td style = \"text-align: right;\">-0.93</td><td style = \"text-align: right;\">-0.01</td><td style = \"text-align: right;\">1.53</td><td style = \"text-align: right;\">1.24</td></tr><tr><td class = \"rowNumber\" style = \"font-weight: bold; text-align: right;\">484</td><td style = \"text-align: right;\">-0.95</td><td style = \"text-align: right;\">-0.85</td><td style = \"text-align: right;\">0.19</td><td style = \"text-align: right;\">1.59</td><td style = \"text-align: right;\">0.81</td></tr><tr><td class = \"rowNumber\" style = \"font-weight: bold; text-align: right;\">485</td><td style = \"text-align: right;\">-1.05</td><td style = \"text-align: right;\">-0.93</td><td style = \"text-align: right;\">0.47</td><td style = \"text-align: right;\">1.9</td><td style = \"text-align: right;\">0.31</td></tr><tr><td class = \"rowNumber\" style = \"font-weight: bold; text-align: right;\">486</td><td style = \"text-align: right;\">-0.68</td><td style = \"text-align: right;\">-0.84</td><td style = \"text-align: right;\">0.88</td><td style = \"text-align: right;\">1.99</td><td style = \"text-align: right;\">0.24</td></tr><tr><td class = \"rowNumber\" style = \"font-weight: bold; text-align: right;\">487</td><td style = \"text-align: right;\">-0.62</td><td style = \"text-align: right;\">-0.69</td><td style = \"text-align: right;\">1.07</td><td style = \"text-align: right;\">1.78</td><td style = \"text-align: right;\">0.21</td></tr><tr><td class = \"rowNumber\" style = \"font-weight: bold; text-align: right;\">488</td><td style = \"text-align: right;\">-0.98</td><td style = \"text-align: right;\">-0.44</td><td style = \"text-align: right;\">1.3</td><td style = \"text-align: right;\">1.53</td><td style = \"text-align: right;\">-0.07</td></tr><tr><td class = \"rowNumber\" style = \"font-weight: bold; text-align: right;\">489</td><td style = \"text-align: right;\">-0.93</td><td style = \"text-align: right;\">-0.01</td><td style = \"text-align: right;\">1.53</td><td style = \"text-align: right;\">1.24</td><td style = \"text-align: right;\">-0.15</td></tr><tr><td class = \"rowNumber\" style = \"font-weight: bold; text-align: right;\">490</td><td style = \"text-align: right;\">-0.85</td><td style = \"text-align: right;\">0.19</td><td style = \"text-align: right;\">1.59</td><td style = \"text-align: right;\">0.81</td><td style = \"text-align: right;\">-0.28</td></tr><tr><td class = \"rowNumber\" style = \"font-weight: bold; text-align: right;\">491</td><td style = \"text-align: right;\">-0.93</td><td style = \"text-align: right;\">0.47</td><td style = \"text-align: right;\">1.9</td><td style = \"text-align: right;\">0.31</td><td style = \"text-align: right;\">-0.14</td></tr><tr><td class = \"rowNumber\" style = \"font-weight: bold; text-align: right;\">492</td><td style = \"text-align: right;\">-0.84</td><td style = \"text-align: right;\">0.88</td><td style = \"text-align: right;\">1.99</td><td style = \"text-align: right;\">0.24</td><td style = \"text-align: right;\">-0.62</td></tr><tr><td class = \"rowNumber\" style = \"font-weight: bold; text-align: right;\">493</td><td style = \"text-align: right;\">-0.69</td><td style = \"text-align: right;\">1.07</td><td style = \"text-align: right;\">1.78</td><td style = \"text-align: right;\">0.21</td><td style = \"text-align: right;\">-0.71</td></tr></tbody></table></div>"
      ],
      "text/latex": [
       "\\begin{tabular}{r|ccccc}\n",
       "\t& Column1 & Column2 & Column3 & Column4 & Column5\\\\\n",
       "\t\\hline\n",
       "\t& Float64 & Float64 & Float64 & Float64 & Float64\\\\\n",
       "\t\\hline\n",
       "\t1 & 0.08 & 0.27 & 2.13 & -0.33 & -0.96 \\\\\n",
       "\t2 & -0.2 & 0.86 & 1.81 & -0.44 & -0.16 \\\\\n",
       "\t3 & -0.14 & 1.24 & 1.22 & -0.38 & -0.52 \\\\\n",
       "\t4 & 0.02 & 1.73 & 0.68 & -1.02 & -0.54 \\\\\n",
       "\t5 & 0.49 & 1.68 & 0.68 & -1.29 & -0.69 \\\\\n",
       "\t6 & 0.65 & 2.21 & 0.45 & -1.16 & -1.03 \\\\\n",
       "\t7 & 0.27 & 2.13 & -0.33 & -0.96 & -0.68 \\\\\n",
       "\t8 & 0.86 & 1.81 & -0.44 & -0.16 & -0.54 \\\\\n",
       "\t9 & 1.24 & 1.22 & -0.38 & -0.52 & -0.41 \\\\\n",
       "\t10 & 1.73 & 0.68 & -1.02 & -0.54 & -0.75 \\\\\n",
       "\t11 & 1.68 & 0.68 & -1.29 & -0.69 & -1.3 \\\\\n",
       "\t12 & 2.21 & 0.45 & -1.16 & -1.03 & -1.48 \\\\\n",
       "\t13 & 2.13 & -0.33 & -0.96 & -0.68 & -1.3 \\\\\n",
       "\t14 & 1.81 & -0.44 & -0.16 & -0.54 & -0.92 \\\\\n",
       "\t15 & 1.22 & -0.38 & -0.52 & -0.41 & -0.89 \\\\\n",
       "\t16 & 0.68 & -1.02 & -0.54 & -0.75 & -1.1 \\\\\n",
       "\t17 & 0.68 & -1.29 & -0.69 & -1.3 & -1.08 \\\\\n",
       "\t18 & 0.45 & -1.16 & -1.03 & -1.48 & -1.08 \\\\\n",
       "\t19 & -0.33 & -0.96 & -0.68 & -1.3 & -0.8 \\\\\n",
       "\t20 & -0.44 & -0.16 & -0.54 & -0.92 & -0.63 \\\\\n",
       "\t21 & -0.38 & -0.52 & -0.41 & -0.89 & -0.77 \\\\\n",
       "\t22 & -1.02 & -0.54 & -0.75 & -1.1 & -0.74 \\\\\n",
       "\t23 & -1.29 & -0.69 & -1.3 & -1.08 & -0.59 \\\\\n",
       "\t24 & -1.16 & -1.03 & -1.48 & -1.08 & -0.59 \\\\\n",
       "\t$\\dots$ & $\\dots$ & $\\dots$ & $\\dots$ & $\\dots$ & $\\dots$ \\\\\n",
       "\\end{tabular}\n"
      ],
      "text/plain": [
       "\u001b[1m493×5 DataFrame\u001b[0m\n",
       "\u001b[1m Row \u001b[0m│\u001b[1m Column1 \u001b[0m\u001b[1m Column2 \u001b[0m\u001b[1m Column3 \u001b[0m\u001b[1m Column4 \u001b[0m\u001b[1m Column5 \u001b[0m\n",
       "     │\u001b[90m Float64 \u001b[0m\u001b[90m Float64 \u001b[0m\u001b[90m Float64 \u001b[0m\u001b[90m Float64 \u001b[0m\u001b[90m Float64 \u001b[0m\n",
       "─────┼─────────────────────────────────────────────\n",
       "   1 │    0.08     0.27     2.13    -0.33    -0.96\n",
       "   2 │   -0.2      0.86     1.81    -0.44    -0.16\n",
       "   3 │   -0.14     1.24     1.22    -0.38    -0.52\n",
       "   4 │    0.02     1.73     0.68    -1.02    -0.54\n",
       "   5 │    0.49     1.68     0.68    -1.29    -0.69\n",
       "   6 │    0.65     2.21     0.45    -1.16    -1.03\n",
       "   7 │    0.27     2.13    -0.33    -0.96    -0.68\n",
       "   8 │    0.86     1.81    -0.44    -0.16    -0.54\n",
       "  ⋮  │    ⋮        ⋮        ⋮        ⋮        ⋮\n",
       " 487 │   -0.62    -0.69     1.07     1.78     0.21\n",
       " 488 │   -0.98    -0.44     1.3      1.53    -0.07\n",
       " 489 │   -0.93    -0.01     1.53     1.24    -0.15\n",
       " 490 │   -0.85     0.19     1.59     0.81    -0.28\n",
       " 491 │   -0.93     0.47     1.9      0.31    -0.14\n",
       " 492 │   -0.84     0.88     1.99     0.24    -0.62\n",
       " 493 │   -0.69     1.07     1.78     0.21    -0.71\n",
       "\u001b[36m                                   478 rows omitted\u001b[0m"
      ]
     },
     "metadata": {},
     "output_type": "display_data"
    }
   ],
   "source": [
    "# read embedded data.\n",
    "df_embed = CSV.read(\"data/sst_34_anomaly_embedded.txt\", DataFrame; delim=',', ignorerepeated=true, header=0)"
   ]
  },
  {
   "cell_type": "code",
   "execution_count": 18,
   "metadata": {},
   "outputs": [
    {
     "data": {
      "text/plain": [
       "(\u001b[1m345×5 DataFrame\u001b[0m\n",
       "\u001b[1m Row \u001b[0m│\u001b[1m Column1 \u001b[0m\u001b[1m Column2 \u001b[0m\u001b[1m Column3 \u001b[0m\u001b[1m Column4 \u001b[0m\u001b[1m Column5 \u001b[0m\n",
       "     │\u001b[90m Float64 \u001b[0m\u001b[90m Float64 \u001b[0m\u001b[90m Float64 \u001b[0m\u001b[90m Float64 \u001b[0m\u001b[90m Float64 \u001b[0m\n",
       "─────┼─────────────────────────────────────────────\n",
       "   1 │    0.08     0.27     2.13    -0.33    -0.96\n",
       "   2 │   -0.2      0.86     1.81    -0.44    -0.16\n",
       "   3 │   -0.14     1.24     1.22    -0.38    -0.52\n",
       "   4 │    0.02     1.73     0.68    -1.02    -0.54\n",
       "   5 │    0.49     1.68     0.68    -1.29    -0.69\n",
       "   6 │    0.65     2.21     0.45    -1.16    -1.03\n",
       "   7 │    0.27     2.13    -0.33    -0.96    -0.68\n",
       "   8 │    0.86     1.81    -0.44    -0.16    -0.54\n",
       "  ⋮  │    ⋮        ⋮        ⋮        ⋮        ⋮\n",
       " 339 │    1.11    -1.31    -0.83    -0.67    -0.44\n",
       " 340 │    0.59    -1.41    -0.76    -0.71    -0.51\n",
       " 341 │   -0.11    -1.44    -0.39    -0.98    -0.19\n",
       " 342 │   -0.55    -1.21    -0.31    -0.99     0.24\n",
       " 343 │   -0.92    -1.48    -0.19    -0.65     0.27\n",
       " 344 │   -1.21    -1.19    -0.42    -0.55     0.68\n",
       " 345 │   -1.31    -0.83    -0.67    -0.44     0.44\n",
       "\u001b[36m                                   330 rows omitted\u001b[0m, \u001b[1m74×5 DataFrame\u001b[0m\n",
       "\u001b[1m Row \u001b[0m│\u001b[1m Column1 \u001b[0m\u001b[1m Column2 \u001b[0m\u001b[1m Column3 \u001b[0m\u001b[1m Column4 \u001b[0m\u001b[1m Column5 \u001b[0m\n",
       "     │\u001b[90m Float64 \u001b[0m\u001b[90m Float64 \u001b[0m\u001b[90m Float64 \u001b[0m\u001b[90m Float64 \u001b[0m\u001b[90m Float64 \u001b[0m\n",
       "─────┼─────────────────────────────────────────────\n",
       "   1 │   -1.41    -0.76    -0.71    -0.51     0.36\n",
       "   2 │   -1.44    -0.39    -0.98    -0.19     0.5\n",
       "   3 │   -1.21    -0.31    -0.99     0.24    -0.47\n",
       "   4 │   -1.48    -0.19    -0.65     0.27    -0.48\n",
       "   5 │   -1.19    -0.42    -0.55     0.68    -0.48\n",
       "   6 │   -0.83    -0.67    -0.44     0.44    -0.22\n",
       "   7 │   -0.76    -0.71    -0.51     0.36     0.11\n",
       "   8 │   -0.39    -0.98    -0.19     0.5     -0.3\n",
       "  ⋮  │    ⋮        ⋮        ⋮        ⋮        ⋮\n",
       "  68 │    0.27    -0.64     0.42    -0.91    -0.11\n",
       "  69 │    0.02    -0.33     0.39    -0.93     0.15\n",
       "  70 │   -0.42    -0.26     0.28    -0.7      0.22\n",
       "  71 │   -0.49     0.1     -0.06    -0.67     0.28\n",
       "  72 │   -0.43     0.21    -0.32    -0.73     0.33\n",
       "  73 │   -0.7      0.36    -0.37    -0.49     0.86\n",
       "  74 │   -0.64     0.42    -0.91    -0.11     0.86\n",
       "\u001b[36m                                    59 rows omitted\u001b[0m, \u001b[1m74×5 DataFrame\u001b[0m\n",
       "\u001b[1m Row \u001b[0m│\u001b[1m Column1 \u001b[0m\u001b[1m Column2 \u001b[0m\u001b[1m Column3 \u001b[0m\u001b[1m Column4 \u001b[0m\u001b[1m Column5 \u001b[0m\n",
       "     │\u001b[90m Float64 \u001b[0m\u001b[90m Float64 \u001b[0m\u001b[90m Float64 \u001b[0m\u001b[90m Float64 \u001b[0m\u001b[90m Float64 \u001b[0m\n",
       "─────┼─────────────────────────────────────────────\n",
       "   1 │   -0.33     0.39    -0.93     0.15     0.9\n",
       "   2 │   -0.26     0.28    -0.7      0.22     0.67\n",
       "   3 │    0.1     -0.06    -0.67     0.28     0.71\n",
       "   4 │    0.21    -0.32    -0.73     0.33     0.97\n",
       "   5 │    0.36    -0.37    -0.49     0.86     0.72\n",
       "   6 │    0.42    -0.91    -0.11     0.86     0.75\n",
       "   7 │    0.39    -0.93     0.15     0.9      0.6\n",
       "   8 │    0.28    -0.7      0.22     0.67     0.42\n",
       "  ⋮  │    ⋮        ⋮        ⋮        ⋮        ⋮\n",
       "  68 │   -0.62    -0.69     1.07     1.78     0.21\n",
       "  69 │   -0.98    -0.44     1.3      1.53    -0.07\n",
       "  70 │   -0.93    -0.01     1.53     1.24    -0.15\n",
       "  71 │   -0.85     0.19     1.59     0.81    -0.28\n",
       "  72 │   -0.93     0.47     1.9      0.31    -0.14\n",
       "  73 │   -0.84     0.88     1.99     0.24    -0.62\n",
       "  74 │   -0.69     1.07     1.78     0.21    -0.71\n",
       "\u001b[36m                                    59 rows omitted\u001b[0m)"
      ]
     },
     "metadata": {},
     "output_type": "display_data"
    }
   ],
   "source": [
    "train, val, test = train_val_test_split(df_embed)"
   ]
  },
  {
   "cell_type": "code",
   "execution_count": 23,
   "metadata": {},
   "outputs": [
    {
     "data": {
      "text/plain": [
       "\"data/test_sst_34_anomaly_embedded.txt\""
      ]
     },
     "metadata": {},
     "output_type": "display_data"
    }
   ],
   "source": [
    "# store data\n",
    "CSV.write(\"data/train_sst_34_anomaly_embedded.txt\", train)\n",
    "CSV.write(\"data/val_sst_34_anomaly_embedded.txt\", val)\n",
    "CSV.write(\"data/test_sst_34_anomaly_embedded.txt\", test)"
   ]
  }
 ],
 "metadata": {
  "kernelspec": {
   "display_name": "Julia 1.11.1",
   "language": "julia",
   "name": "julia-1.11"
  },
  "language_info": {
   "file_extension": ".jl",
   "mimetype": "application/julia",
   "name": "julia",
   "version": "1.11.1"
  }
 },
 "nbformat": 4,
 "nbformat_minor": 2
}

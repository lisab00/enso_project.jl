{
 "cells": [
  {
   "cell_type": "markdown",
   "metadata": {},
   "source": [
    "### Split the data into training, test and validation set"
   ]
  },
  {
   "cell_type": "code",
   "execution_count": 1,
   "metadata": {},
   "outputs": [
    {
     "name": "stderr",
     "output_type": "stream",
     "text": [
      "\u001b[32m\u001b[1m  Activating\u001b[22m\u001b[39m project at `C:\\Users\\lisah\\Documents\\Repos\\enso_project.jl`\n"
     ]
    }
   ],
   "source": [
    "cd(\"$(homedir())/Documents/Repos/enso_project.jl\")\n",
    "using Pkg\n",
    "Pkg.activate(\".\")"
   ]
  },
  {
   "cell_type": "code",
   "execution_count": 2,
   "metadata": {},
   "outputs": [
    {
     "name": "stderr",
     "output_type": "stream",
     "text": [
      "\u001b[33m\u001b[1m┌ \u001b[22m\u001b[39m\u001b[33m\u001b[1mWarning: \u001b[22m\u001b[39mPackage cuDNN not found in current path.\n",
      "\u001b[33m\u001b[1m│ \u001b[22m\u001b[39m- Run `import Pkg; Pkg.add(\"cuDNN\")` to install the cuDNN package, then restart julia.\n",
      "\u001b[33m\u001b[1m│ \u001b[22m\u001b[39m- If cuDNN is not installed, some Flux functionalities will not be available when running on the GPU.\n",
      "\u001b[33m\u001b[1m└ \u001b[22m\u001b[39m\u001b[90m@ FluxCUDAExt C:\\Users\\lisah\\.julia\\packages\\Flux\\9PibT\\ext\\FluxCUDAExt\\FluxCUDAExt.jl:10\u001b[39m\n"
     ]
    }
   ],
   "source": [
    "using CSV, DataFrames, enso_project"
   ]
  },
  {
   "cell_type": "code",
   "execution_count": 3,
   "metadata": {},
   "outputs": [
    {
     "data": {
      "text/html": [
       "<div><div style = \"float: left;\"><span>517×3 DataFrame</span></div><div style = \"float: right;\"><span style = \"font-style: italic;\">492 rows omitted</span></div><div style = \"clear: both;\"></div></div><div class = \"data-frame\" style = \"overflow-x: scroll;\"><table class = \"data-frame\" style = \"margin-bottom: 6px;\"><thead><tr class = \"header\"><th class = \"rowNumber\" style = \"font-weight: bold; text-align: right;\">Row</th><th style = \"text-align: left;\">DATE</th><th style = \"text-align: left;\">NINO3.4</th><th style = \"text-align: left;\">ANOM_3</th></tr><tr class = \"subheader headerLastRow\"><th class = \"rowNumber\" style = \"font-weight: bold; text-align: right;\"></th><th title = \"Dates.Date\" style = \"text-align: left;\">Date</th><th title = \"Float64\" style = \"text-align: left;\">Float64</th><th title = \"Float64\" style = \"text-align: left;\">Float64</th></tr></thead><tbody><tr><td class = \"rowNumber\" style = \"font-weight: bold; text-align: right;\">1</td><td style = \"text-align: left;\">1982-01-01</td><td style = \"text-align: right;\">26.65</td><td style = \"text-align: right;\">0.08</td></tr><tr><td class = \"rowNumber\" style = \"font-weight: bold; text-align: right;\">2</td><td style = \"text-align: left;\">1982-02-01</td><td style = \"text-align: right;\">26.54</td><td style = \"text-align: right;\">-0.2</td></tr><tr><td class = \"rowNumber\" style = \"font-weight: bold; text-align: right;\">3</td><td style = \"text-align: left;\">1982-03-01</td><td style = \"text-align: right;\">27.09</td><td style = \"text-align: right;\">-0.14</td></tr><tr><td class = \"rowNumber\" style = \"font-weight: bold; text-align: right;\">4</td><td style = \"text-align: left;\">1982-04-01</td><td style = \"text-align: right;\">27.83</td><td style = \"text-align: right;\">0.02</td></tr><tr><td class = \"rowNumber\" style = \"font-weight: bold; text-align: right;\">5</td><td style = \"text-align: left;\">1982-05-01</td><td style = \"text-align: right;\">28.37</td><td style = \"text-align: right;\">0.49</td></tr><tr><td class = \"rowNumber\" style = \"font-weight: bold; text-align: right;\">6</td><td style = \"text-align: left;\">1982-06-01</td><td style = \"text-align: right;\">28.35</td><td style = \"text-align: right;\">0.65</td></tr><tr><td class = \"rowNumber\" style = \"font-weight: bold; text-align: right;\">7</td><td style = \"text-align: left;\">1982-07-01</td><td style = \"text-align: right;\">27.57</td><td style = \"text-align: right;\">0.27</td></tr><tr><td class = \"rowNumber\" style = \"font-weight: bold; text-align: right;\">8</td><td style = \"text-align: left;\">1982-08-01</td><td style = \"text-align: right;\">27.76</td><td style = \"text-align: right;\">0.86</td></tr><tr><td class = \"rowNumber\" style = \"font-weight: bold; text-align: right;\">9</td><td style = \"text-align: left;\">1982-09-01</td><td style = \"text-align: right;\">28.01</td><td style = \"text-align: right;\">1.24</td></tr><tr><td class = \"rowNumber\" style = \"font-weight: bold; text-align: right;\">10</td><td style = \"text-align: left;\">1982-10-01</td><td style = \"text-align: right;\">28.5</td><td style = \"text-align: right;\">1.73</td></tr><tr><td class = \"rowNumber\" style = \"font-weight: bold; text-align: right;\">11</td><td style = \"text-align: left;\">1982-11-01</td><td style = \"text-align: right;\">28.5</td><td style = \"text-align: right;\">1.68</td></tr><tr><td class = \"rowNumber\" style = \"font-weight: bold; text-align: right;\">12</td><td style = \"text-align: left;\">1982-12-01</td><td style = \"text-align: right;\">28.85</td><td style = \"text-align: right;\">2.21</td></tr><tr><td class = \"rowNumber\" style = \"font-weight: bold; text-align: right;\">13</td><td style = \"text-align: left;\">1983-01-01</td><td style = \"text-align: right;\">28.7</td><td style = \"text-align: right;\">2.13</td></tr><tr><td style = \"text-align: right;\">&vellip;</td><td style = \"text-align: right;\">&vellip;</td><td style = \"text-align: right;\">&vellip;</td><td style = \"text-align: right;\">&vellip;</td></tr><tr><td class = \"rowNumber\" style = \"font-weight: bold; text-align: right;\">506</td><td style = \"text-align: left;\">2024-02-01</td><td style = \"text-align: right;\">28.26</td><td style = \"text-align: right;\">1.53</td></tr><tr><td class = \"rowNumber\" style = \"font-weight: bold; text-align: right;\">507</td><td style = \"text-align: left;\">2024-03-01</td><td style = \"text-align: right;\">28.47</td><td style = \"text-align: right;\">1.24</td></tr><tr><td class = \"rowNumber\" style = \"font-weight: bold; text-align: right;\">508</td><td style = \"text-align: left;\">2024-04-01</td><td style = \"text-align: right;\">28.61</td><td style = \"text-align: right;\">0.81</td></tr><tr><td class = \"rowNumber\" style = \"font-weight: bold; text-align: right;\">509</td><td style = \"text-align: left;\">2024-05-01</td><td style = \"text-align: right;\">28.19</td><td style = \"text-align: right;\">0.31</td></tr><tr><td class = \"rowNumber\" style = \"font-weight: bold; text-align: right;\">510</td><td style = \"text-align: left;\">2024-06-01</td><td style = \"text-align: right;\">27.95</td><td style = \"text-align: right;\">0.24</td></tr><tr><td class = \"rowNumber\" style = \"font-weight: bold; text-align: right;\">511</td><td style = \"text-align: left;\">2024-07-01</td><td style = \"text-align: right;\">27.51</td><td style = \"text-align: right;\">0.21</td></tr><tr><td class = \"rowNumber\" style = \"font-weight: bold; text-align: right;\">512</td><td style = \"text-align: left;\">2024-08-01</td><td style = \"text-align: right;\">26.83</td><td style = \"text-align: right;\">-0.07</td></tr><tr><td class = \"rowNumber\" style = \"font-weight: bold; text-align: right;\">513</td><td style = \"text-align: left;\">2024-09-01</td><td style = \"text-align: right;\">26.61</td><td style = \"text-align: right;\">-0.15</td></tr><tr><td class = \"rowNumber\" style = \"font-weight: bold; text-align: right;\">514</td><td style = \"text-align: left;\">2024-10-01</td><td style = \"text-align: right;\">26.49</td><td style = \"text-align: right;\">-0.28</td></tr><tr><td class = \"rowNumber\" style = \"font-weight: bold; text-align: right;\">515</td><td style = \"text-align: left;\">2024-11-01</td><td style = \"text-align: right;\">26.68</td><td style = \"text-align: right;\">-0.14</td></tr><tr><td class = \"rowNumber\" style = \"font-weight: bold; text-align: right;\">516</td><td style = \"text-align: left;\">2024-12-01</td><td style = \"text-align: right;\">26.03</td><td style = \"text-align: right;\">-0.62</td></tr><tr><td class = \"rowNumber\" style = \"font-weight: bold; text-align: right;\">517</td><td style = \"text-align: left;\">2025-01-01</td><td style = \"text-align: right;\">25.86</td><td style = \"text-align: right;\">-0.71</td></tr></tbody></table></div>"
      ],
      "text/latex": [
       "\\begin{tabular}{r|ccc}\n",
       "\t& DATE & NINO3.4 & ANOM\\_3\\\\\n",
       "\t\\hline\n",
       "\t& Date & Float64 & Float64\\\\\n",
       "\t\\hline\n",
       "\t1 & 1982-01-01 & 26.65 & 0.08 \\\\\n",
       "\t2 & 1982-02-01 & 26.54 & -0.2 \\\\\n",
       "\t3 & 1982-03-01 & 27.09 & -0.14 \\\\\n",
       "\t4 & 1982-04-01 & 27.83 & 0.02 \\\\\n",
       "\t5 & 1982-05-01 & 28.37 & 0.49 \\\\\n",
       "\t6 & 1982-06-01 & 28.35 & 0.65 \\\\\n",
       "\t7 & 1982-07-01 & 27.57 & 0.27 \\\\\n",
       "\t8 & 1982-08-01 & 27.76 & 0.86 \\\\\n",
       "\t9 & 1982-09-01 & 28.01 & 1.24 \\\\\n",
       "\t10 & 1982-10-01 & 28.5 & 1.73 \\\\\n",
       "\t11 & 1982-11-01 & 28.5 & 1.68 \\\\\n",
       "\t12 & 1982-12-01 & 28.85 & 2.21 \\\\\n",
       "\t13 & 1983-01-01 & 28.7 & 2.13 \\\\\n",
       "\t14 & 1983-02-01 & 28.54 & 1.81 \\\\\n",
       "\t15 & 1983-03-01 & 28.45 & 1.22 \\\\\n",
       "\t16 & 1983-04-01 & 28.49 & 0.68 \\\\\n",
       "\t17 & 1983-05-01 & 28.56 & 0.68 \\\\\n",
       "\t18 & 1983-06-01 & 28.16 & 0.45 \\\\\n",
       "\t19 & 1983-07-01 & 26.97 & -0.33 \\\\\n",
       "\t20 & 1983-08-01 & 26.46 & -0.44 \\\\\n",
       "\t21 & 1983-09-01 & 26.38 & -0.38 \\\\\n",
       "\t22 & 1983-10-01 & 25.75 & -1.02 \\\\\n",
       "\t23 & 1983-11-01 & 25.53 & -1.29 \\\\\n",
       "\t24 & 1983-12-01 & 25.49 & -1.16 \\\\\n",
       "\t25 & 1984-01-01 & 25.6 & -0.96 \\\\\n",
       "\t26 & 1984-02-01 & 26.57 & -0.16 \\\\\n",
       "\t27 & 1984-03-01 & 26.71 & -0.52 \\\\\n",
       "\t28 & 1984-04-01 & 27.27 & -0.54 \\\\\n",
       "\t29 & 1984-05-01 & 27.19 & -0.69 \\\\\n",
       "\t30 & 1984-06-01 & 26.68 & -1.03 \\\\\n",
       "\t$\\dots$ & $\\dots$ & $\\dots$ & $\\dots$ \\\\\n",
       "\\end{tabular}\n"
      ],
      "text/plain": [
       "\u001b[1m517×3 DataFrame\u001b[0m\n",
       "\u001b[1m Row \u001b[0m│\u001b[1m DATE       \u001b[0m\u001b[1m NINO3.4 \u001b[0m\u001b[1m ANOM_3  \u001b[0m\n",
       "     │\u001b[90m Date       \u001b[0m\u001b[90m Float64 \u001b[0m\u001b[90m Float64 \u001b[0m\n",
       "─────┼──────────────────────────────\n",
       "   1 │ 1982-01-01    26.65     0.08\n",
       "   2 │ 1982-02-01    26.54    -0.2\n",
       "   3 │ 1982-03-01    27.09    -0.14\n",
       "   4 │ 1982-04-01    27.83     0.02\n",
       "   5 │ 1982-05-01    28.37     0.49\n",
       "   6 │ 1982-06-01    28.35     0.65\n",
       "   7 │ 1982-07-01    27.57     0.27\n",
       "   8 │ 1982-08-01    27.76     0.86\n",
       "   9 │ 1982-09-01    28.01     1.24\n",
       "  10 │ 1982-10-01    28.5      1.73\n",
       "  11 │ 1982-11-01    28.5      1.68\n",
       "  ⋮  │     ⋮          ⋮        ⋮\n",
       " 508 │ 2024-04-01    28.61     0.81\n",
       " 509 │ 2024-05-01    28.19     0.31\n",
       " 510 │ 2024-06-01    27.95     0.24\n",
       " 511 │ 2024-07-01    27.51     0.21\n",
       " 512 │ 2024-08-01    26.83    -0.07\n",
       " 513 │ 2024-09-01    26.61    -0.15\n",
       " 514 │ 2024-10-01    26.49    -0.28\n",
       " 515 │ 2024-11-01    26.68    -0.14\n",
       " 516 │ 2024-12-01    26.03    -0.62\n",
       " 517 │ 2025-01-01    25.86    -0.71\n",
       "\u001b[36m                    496 rows omitted\u001b[0m"
      ]
     },
     "execution_count": 3,
     "metadata": {},
     "output_type": "execute_result"
    }
   ],
   "source": [
    "# read embedded data.\n",
    "df_embed = CSV.read(\"data/sst_data/sst_34_anomaly_embedded.txt\", DataFrame; delim=',', ignorerepeated=true, header=0)\n",
    "\n",
    "# read non-embedded data\n",
    "df_1D = CSV.read(\"data/sst_data/sst_34_format.csv\", DataFrame)"
   ]
  },
  {
   "cell_type": "markdown",
   "metadata": {},
   "source": [
    "We create different data splits to perform training on, as we want to compare the training success given the size of the training data set. \n",
    "\n",
    "We keep the size of the test data set fixed to 10%. This corresponds to more than 4 years (the literature suggests that prediction of ENSO is not reliable for more than 1 year ahead).\n",
    "\n",
    "We vary the size of the training and validation data accordingly and yield the following splits (in %):\n",
    "- 20 | 70 | 10\n",
    "- 40 | 50 | 10\n",
    "- 50 | 40 | 10\n",
    "- 60 | 30 | 10\n",
    "- 70 | 20 | 10\n",
    "- 80 | 10 | 10"
   ]
  },
  {
   "cell_type": "code",
   "execution_count": 4,
   "metadata": {},
   "outputs": [],
   "source": [
    "# embedded data\n",
    "\n",
    "percentages = [0.2, 0.4, 0.5, 0.6, 0.7, 0.8]\n",
    "\n",
    "for p in percentages\n",
    "\n",
    "    # create splits\n",
    "    train, val, test = enso_project.train_val_test_split(df_embed, val_percent=0.9-p , test_percent=0.1)\n",
    "\n",
    "    # store\n",
    "    p = Int64(100*p)\n",
    "    CSV.write(\"data/sst_34_data_split_$p/train_sst_34_anomaly_embedded_$p.txt\", train)\n",
    "    CSV.write(\"data/sst_34_data_split_$p/val_sst_34_anomaly_embedded_$p.txt\", val)\n",
    "    CSV.write(\"data/sst_34_data_split_$p/test_sst_34_anomaly_embedded_$p.txt\", test)\n",
    "end"
   ]
  },
  {
   "cell_type": "code",
   "execution_count": 6,
   "metadata": {},
   "outputs": [
    {
     "data": {
      "text/plain": [
       "\"data/sst_34_data_split_80/test_sst_34_anomaly_80.txt\""
      ]
     },
     "execution_count": 6,
     "metadata": {},
     "output_type": "execute_result"
    }
   ],
   "source": [
    "# 1D data (only 80% split for now)\n",
    "\n",
    "# create splits\n",
    "train, val, test = enso_project.train_val_test_split(df_1D, val_percent=0.1 , test_percent=0.1)\n",
    "\n",
    "# store\n",
    "p = Int64(100*0.8)\n",
    "CSV.write(\"data/sst_34_data_split_$p/train_sst_34_anomaly_$p.txt\", train)\n",
    "CSV.write(\"data/sst_34_data_split_$p/val_sst_34_anomaly_$p.txt\", val)\n",
    "CSV.write(\"data/sst_34_data_split_$p/test_sst_34_anomaly_$p.txt\", test)"
   ]
  }
 ],
 "metadata": {
  "kernelspec": {
   "display_name": "julia_enso 1.11.5",
   "language": "julia",
   "name": "julia_enso-1.11"
  },
  "language_info": {
   "file_extension": ".jl",
   "mimetype": "application/julia",
   "name": "julia",
   "version": "1.11.5"
  }
 },
 "nbformat": 4,
 "nbformat_minor": 2
}

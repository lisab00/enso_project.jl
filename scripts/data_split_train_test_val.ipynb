{
 "cells": [
  {
   "cell_type": "markdown",
   "metadata": {},
   "source": [
    "### Split the data into training, test and validation set"
   ]
  },
  {
   "cell_type": "code",
   "execution_count": 2,
   "metadata": {},
   "outputs": [
    {
     "name": "stderr",
     "output_type": "stream",
     "text": [
      "\u001b[32m\u001b[1m  Activating\u001b[22m\u001b[39m project at `C:\\Users\\lisah\\Documents\\Repos\\enso_project.jl`\n"
     ]
    }
   ],
   "source": [
    "cd(\"$(homedir())/Documents/Repos/enso_project.jl\")\n",
    "using Pkg\n",
    "Pkg.activate(\".\")"
   ]
  },
  {
   "cell_type": "code",
   "execution_count": 3,
   "metadata": {},
   "outputs": [
    {
     "name": "stderr",
     "output_type": "stream",
     "text": [
      "\u001b[33m\u001b[1m┌ \u001b[22m\u001b[39m\u001b[33m\u001b[1mWarning: \u001b[22m\u001b[39mPackage cuDNN not found in current path.\n",
      "\u001b[33m\u001b[1m│ \u001b[22m\u001b[39m- Run `import Pkg; Pkg.add(\"cuDNN\")` to install the cuDNN package, then restart julia.\n",
      "\u001b[33m\u001b[1m│ \u001b[22m\u001b[39m- If cuDNN is not installed, some Flux functionalities will not be available when running on the GPU.\n",
      "\u001b[33m\u001b[1m└ \u001b[22m\u001b[39m\u001b[90m@ FluxCUDAExt C:\\Users\\lisah\\.julia\\packages\\Flux\\9PibT\\ext\\FluxCUDAExt\\FluxCUDAExt.jl:10\u001b[39m\n"
     ]
    }
   ],
   "source": [
    "using CSV, DataFrames, enso_project"
   ]
  },
  {
   "cell_type": "code",
   "execution_count": 9,
   "metadata": {},
   "outputs": [
    {
     "data": {
      "text/html": [
       "<div><div style = \"float: left;\"><span>493×1 DataFrame</span></div><div style = \"float: right;\"><span style = \"font-style: italic;\">468 rows omitted</span></div><div style = \"clear: both;\"></div></div><div class = \"data-frame\" style = \"overflow-x: scroll;\"><table class = \"data-frame\" style = \"margin-bottom: 6px;\"><thead><tr class = \"header\"><th class = \"rowNumber\" style = \"font-weight: bold; text-align: right;\">Row</th><th style = \"text-align: left;\">ANOM_3</th></tr><tr class = \"subheader headerLastRow\"><th class = \"rowNumber\" style = \"font-weight: bold; text-align: right;\"></th><th title = \"Float64\" style = \"text-align: left;\">Float64</th></tr></thead><tbody><tr><td class = \"rowNumber\" style = \"font-weight: bold; text-align: right;\">1</td><td style = \"text-align: right;\">0.08</td></tr><tr><td class = \"rowNumber\" style = \"font-weight: bold; text-align: right;\">2</td><td style = \"text-align: right;\">-0.2</td></tr><tr><td class = \"rowNumber\" style = \"font-weight: bold; text-align: right;\">3</td><td style = \"text-align: right;\">-0.14</td></tr><tr><td class = \"rowNumber\" style = \"font-weight: bold; text-align: right;\">4</td><td style = \"text-align: right;\">0.02</td></tr><tr><td class = \"rowNumber\" style = \"font-weight: bold; text-align: right;\">5</td><td style = \"text-align: right;\">0.49</td></tr><tr><td class = \"rowNumber\" style = \"font-weight: bold; text-align: right;\">6</td><td style = \"text-align: right;\">0.65</td></tr><tr><td class = \"rowNumber\" style = \"font-weight: bold; text-align: right;\">7</td><td style = \"text-align: right;\">0.27</td></tr><tr><td class = \"rowNumber\" style = \"font-weight: bold; text-align: right;\">8</td><td style = \"text-align: right;\">0.86</td></tr><tr><td class = \"rowNumber\" style = \"font-weight: bold; text-align: right;\">9</td><td style = \"text-align: right;\">1.24</td></tr><tr><td class = \"rowNumber\" style = \"font-weight: bold; text-align: right;\">10</td><td style = \"text-align: right;\">1.73</td></tr><tr><td class = \"rowNumber\" style = \"font-weight: bold; text-align: right;\">11</td><td style = \"text-align: right;\">1.68</td></tr><tr><td class = \"rowNumber\" style = \"font-weight: bold; text-align: right;\">12</td><td style = \"text-align: right;\">2.21</td></tr><tr><td class = \"rowNumber\" style = \"font-weight: bold; text-align: right;\">13</td><td style = \"text-align: right;\">2.13</td></tr><tr><td style = \"text-align: right;\">&vellip;</td><td style = \"text-align: right;\">&vellip;</td></tr><tr><td class = \"rowNumber\" style = \"font-weight: bold; text-align: right;\">482</td><td style = \"text-align: right;\">-0.71</td></tr><tr><td class = \"rowNumber\" style = \"font-weight: bold; text-align: right;\">483</td><td style = \"text-align: right;\">-0.89</td></tr><tr><td class = \"rowNumber\" style = \"font-weight: bold; text-align: right;\">484</td><td style = \"text-align: right;\">-0.95</td></tr><tr><td class = \"rowNumber\" style = \"font-weight: bold; text-align: right;\">485</td><td style = \"text-align: right;\">-1.05</td></tr><tr><td class = \"rowNumber\" style = \"font-weight: bold; text-align: right;\">486</td><td style = \"text-align: right;\">-0.68</td></tr><tr><td class = \"rowNumber\" style = \"font-weight: bold; text-align: right;\">487</td><td style = \"text-align: right;\">-0.62</td></tr><tr><td class = \"rowNumber\" style = \"font-weight: bold; text-align: right;\">488</td><td style = \"text-align: right;\">-0.98</td></tr><tr><td class = \"rowNumber\" style = \"font-weight: bold; text-align: right;\">489</td><td style = \"text-align: right;\">-0.93</td></tr><tr><td class = \"rowNumber\" style = \"font-weight: bold; text-align: right;\">490</td><td style = \"text-align: right;\">-0.85</td></tr><tr><td class = \"rowNumber\" style = \"font-weight: bold; text-align: right;\">491</td><td style = \"text-align: right;\">-0.93</td></tr><tr><td class = \"rowNumber\" style = \"font-weight: bold; text-align: right;\">492</td><td style = \"text-align: right;\">-0.84</td></tr><tr><td class = \"rowNumber\" style = \"font-weight: bold; text-align: right;\">493</td><td style = \"text-align: right;\">-0.69</td></tr></tbody></table></div>"
      ],
      "text/latex": [
       "\\begin{tabular}{r|c}\n",
       "\t& ANOM\\_3\\\\\n",
       "\t\\hline\n",
       "\t& Float64\\\\\n",
       "\t\\hline\n",
       "\t1 & 0.08 \\\\\n",
       "\t2 & -0.2 \\\\\n",
       "\t3 & -0.14 \\\\\n",
       "\t4 & 0.02 \\\\\n",
       "\t5 & 0.49 \\\\\n",
       "\t6 & 0.65 \\\\\n",
       "\t7 & 0.27 \\\\\n",
       "\t8 & 0.86 \\\\\n",
       "\t9 & 1.24 \\\\\n",
       "\t10 & 1.73 \\\\\n",
       "\t11 & 1.68 \\\\\n",
       "\t12 & 2.21 \\\\\n",
       "\t13 & 2.13 \\\\\n",
       "\t14 & 1.81 \\\\\n",
       "\t15 & 1.22 \\\\\n",
       "\t16 & 0.68 \\\\\n",
       "\t17 & 0.68 \\\\\n",
       "\t18 & 0.45 \\\\\n",
       "\t19 & -0.33 \\\\\n",
       "\t20 & -0.44 \\\\\n",
       "\t21 & -0.38 \\\\\n",
       "\t22 & -1.02 \\\\\n",
       "\t23 & -1.29 \\\\\n",
       "\t24 & -1.16 \\\\\n",
       "\t25 & -0.96 \\\\\n",
       "\t26 & -0.16 \\\\\n",
       "\t27 & -0.52 \\\\\n",
       "\t28 & -0.54 \\\\\n",
       "\t29 & -0.69 \\\\\n",
       "\t30 & -1.03 \\\\\n",
       "\t$\\dots$ & $\\dots$ \\\\\n",
       "\\end{tabular}\n"
      ],
      "text/plain": [
       "\u001b[1m493×1 DataFrame\u001b[0m\n",
       "\u001b[1m Row \u001b[0m│\u001b[1m ANOM_3  \u001b[0m\n",
       "     │\u001b[90m Float64 \u001b[0m\n",
       "─────┼─────────\n",
       "   1 │    0.08\n",
       "   2 │   -0.2\n",
       "   3 │   -0.14\n",
       "   4 │    0.02\n",
       "   5 │    0.49\n",
       "   6 │    0.65\n",
       "   7 │    0.27\n",
       "   8 │    0.86\n",
       "   9 │    1.24\n",
       "  10 │    1.73\n",
       "  11 │    1.68\n",
       "  ⋮  │    ⋮\n",
       " 484 │   -0.95\n",
       " 485 │   -1.05\n",
       " 486 │   -0.68\n",
       " 487 │   -0.62\n",
       " 488 │   -0.98\n",
       " 489 │   -0.93\n",
       " 490 │   -0.85\n",
       " 491 │   -0.93\n",
       " 492 │   -0.84\n",
       " 493 │   -0.69\n",
       "\u001b[36m472 rows omitted\u001b[0m"
      ]
     },
     "execution_count": 9,
     "metadata": {},
     "output_type": "execute_result"
    }
   ],
   "source": [
    "# read embedded data.\n",
    "df_embed = CSV.read(\"data/sst_data/sst_34_anomaly_embedded.txt\", DataFrame; delim=',', ignorerepeated=true, header=0)\n",
    "\n",
    "# read non-embedded data\n",
    "df_1D = CSV.read(\"data/sst_data/sst_34_format.csv\", DataFrame)\n",
    "df_1D = df_1D[1:493,[\"ANOM_3\"]]"
   ]
  },
  {
   "cell_type": "markdown",
   "metadata": {},
   "source": [
    "We create different data splits to perform training on, as we want to compare the training success given the size of the training data set. \n",
    "\n",
    "We keep the size of the test data set fixed to 10%. This corresponds to more than 4 years (the literature suggests that prediction of ENSO is not reliable for more than 1 year ahead).\n",
    "\n",
    "We vary the size of the training and validation data accordingly and yield the following splits (in %):\n",
    "- 20 | 70 | 10\n",
    "- 40 | 50 | 10\n",
    "- 50 | 40 | 10\n",
    "- 60 | 30 | 10\n",
    "- 70 | 20 | 10\n",
    "- 80 | 10 | 10"
   ]
  },
  {
   "cell_type": "code",
   "execution_count": null,
   "metadata": {},
   "outputs": [],
   "source": [
    "# embedded data\n",
    "\n",
    "percentages = [0.2, 0.4, 0.5, 0.6, 0.7, 0.8]\n",
    "\n",
    "for p in percentages\n",
    "\n",
    "    # create splits\n",
    "    train, val, test = enso_project.train_val_test_split(df_embed, val_percent=0.9-p , test_percent=0.1)\n",
    "\n",
    "    # store\n",
    "    p = Int64(100*p)\n",
    "    CSV.write(\"data/sst_34_data_split_$p/train_sst_34_anomaly_embedded_$p.txt\", train)\n",
    "    CSV.write(\"data/sst_34_data_split_$p/val_sst_34_anomaly_embedded_$p.txt\", val)\n",
    "    CSV.write(\"data/sst_34_data_split_$p/test_sst_34_anomaly_embedded_$p.txt\", test)\n",
    "end"
   ]
  },
  {
   "cell_type": "code",
   "execution_count": 13,
   "metadata": {},
   "outputs": [
    {
     "data": {
      "text/plain": [
       "\"data/sst_34_data_split_80/test_sst_34_anomaly_80.txt\""
      ]
     },
     "execution_count": 13,
     "metadata": {},
     "output_type": "execute_result"
    }
   ],
   "source": [
    "# 1D data (only 80% split for now)\n",
    "\n",
    "# create splits\n",
    "train, val, test = enso_project.train_val_test_split(df_1D, val_percent=0.1 , test_percent=0.1)\n",
    "\n",
    "# store\n",
    "p = Int64(100*0.8)\n",
    "CSV.write(\"data/sst_34_data_split_$p/train_sst_34_anomaly_$p.txt\", train)\n",
    "CSV.write(\"data/sst_34_data_split_$p/val_sst_34_anomaly_$p.txt\", val)\n",
    "CSV.write(\"data/sst_34_data_split_$p/test_sst_34_anomaly_$p.txt\", test)"
   ]
  }
 ],
 "metadata": {
  "kernelspec": {
   "display_name": "julia_enso 1.11.5",
   "language": "julia",
   "name": "julia_enso-1.11"
  },
  "language_info": {
   "file_extension": ".jl",
   "mimetype": "application/julia",
   "name": "julia",
   "version": "1.11.5"
  }
 },
 "nbformat": 4,
 "nbformat_minor": 2
}

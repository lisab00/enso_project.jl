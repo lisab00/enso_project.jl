{
 "cells": [
  {
   "cell_type": "code",
   "execution_count": 19,
   "metadata": {},
   "outputs": [],
   "source": [
    "using DataFrames, CSV, Plots, Dates"
   ]
  },
  {
   "cell_type": "markdown",
   "metadata": {},
   "source": [
    "Standardized SOI"
   ]
  },
  {
   "cell_type": "code",
   "execution_count": 20,
   "metadata": {},
   "outputs": [
    {
     "name": "stderr",
     "output_type": "stream",
     "text": [
      "┌ Warning: thread = 1 warning: only found 2 / 13 columns around data row: 75. Filling remaining columns with `missing`\n",
      "└ @ CSV C:\\Users\\Andrea\\.julia\\packages\\CSV\\XLcqT\\src\\file.jl:592\n"
     ]
    },
    {
     "data": {
      "text/html": [
       "<div><div style = \"float: left;\"><span>75×13 DataFrame</span></div><div style = \"float: right;\"><span style = \"font-style: italic;\">50 rows omitted</span></div><div style = \"clear: both;\"></div></div><div class = \"data-frame\" style = \"overflow-x: scroll;\"><table class = \"data-frame\" style = \"margin-bottom: 6px;\"><thead><tr class = \"header\"><th class = \"rowNumber\" style = \"font-weight: bold; text-align: right;\">Row</th><th style = \"text-align: left;\">YEAR</th><th style = \"text-align: left;\">JAN</th><th style = \"text-align: left;\">FEB</th><th style = \"text-align: left;\">MAR</th><th style = \"text-align: left;\">APR</th><th style = \"text-align: left;\">MAY</th><th style = \"text-align: left;\">JUN</th><th style = \"text-align: left;\">JUL</th><th style = \"text-align: left;\">AUG</th><th style = \"text-align: left;\">SEP</th><th style = \"text-align: left;\">OCT</th><th style = \"text-align: left;\">NOV</th><th style = \"text-align: left;\">DEC</th></tr><tr class = \"subheader headerLastRow\"><th class = \"rowNumber\" style = \"font-weight: bold; text-align: right;\"></th><th title = \"Int64\" style = \"text-align: left;\">Int64</th><th title = \"Float64\" style = \"text-align: left;\">Float64</th><th title = \"Union{Missing, Float64}\" style = \"text-align: left;\">Float64?</th><th title = \"Union{Missing, Float64}\" style = \"text-align: left;\">Float64?</th><th title = \"Union{Missing, Float64}\" style = \"text-align: left;\">Float64?</th><th title = \"Union{Missing, Float64}\" style = \"text-align: left;\">Float64?</th><th title = \"Union{Missing, Float64}\" style = \"text-align: left;\">Float64?</th><th title = \"Union{Missing, Float64}\" style = \"text-align: left;\">Float64?</th><th title = \"Union{Missing, Float64}\" style = \"text-align: left;\">Float64?</th><th title = \"Union{Missing, Float64}\" style = \"text-align: left;\">Float64?</th><th title = \"Union{Missing, Float64}\" style = \"text-align: left;\">Float64?</th><th title = \"Union{Missing, Float64}\" style = \"text-align: left;\">Float64?</th><th title = \"Union{Missing, Float64}\" style = \"text-align: left;\">Float64?</th></tr></thead><tbody><tr><td class = \"rowNumber\" style = \"font-weight: bold; text-align: right;\">1</td><td style = \"text-align: right;\">1951</td><td style = \"text-align: right;\">1.5</td><td style = \"text-align: right;\">0.9</td><td style = \"text-align: right;\">-0.1</td><td style = \"text-align: right;\">-0.3</td><td style = \"text-align: right;\">-0.7</td><td style = \"text-align: right;\">0.2</td><td style = \"text-align: right;\">-1.0</td><td style = \"text-align: right;\">-0.2</td><td style = \"text-align: right;\">-1.1</td><td style = \"text-align: right;\">-1.0</td><td style = \"text-align: right;\">-0.8</td><td style = \"text-align: right;\">-0.7</td></tr><tr><td class = \"rowNumber\" style = \"font-weight: bold; text-align: right;\">2</td><td style = \"text-align: right;\">1952</td><td style = \"text-align: right;\">-0.9</td><td style = \"text-align: right;\">-0.6</td><td style = \"text-align: right;\">0.5</td><td style = \"text-align: right;\">-0.2</td><td style = \"text-align: right;\">0.8</td><td style = \"text-align: right;\">0.7</td><td style = \"text-align: right;\">0.5</td><td style = \"text-align: right;\">0.1</td><td style = \"text-align: right;\">-0.2</td><td style = \"text-align: right;\">0.4</td><td style = \"text-align: right;\">0.0</td><td style = \"text-align: right;\">-1.2</td></tr><tr><td class = \"rowNumber\" style = \"font-weight: bold; text-align: right;\">3</td><td style = \"text-align: right;\">1953</td><td style = \"text-align: right;\">0.3</td><td style = \"text-align: right;\">-0.5</td><td style = \"text-align: right;\">-0.2</td><td style = \"text-align: right;\">0.2</td><td style = \"text-align: right;\">-1.7</td><td style = \"text-align: right;\">0.1</td><td style = \"text-align: right;\">-0.0</td><td style = \"text-align: right;\">-1.2</td><td style = \"text-align: right;\">-1.2</td><td style = \"text-align: right;\">0.1</td><td style = \"text-align: right;\">-0.3</td><td style = \"text-align: right;\">-0.5</td></tr><tr><td class = \"rowNumber\" style = \"font-weight: bold; text-align: right;\">4</td><td style = \"text-align: right;\">1954</td><td style = \"text-align: right;\">0.7</td><td style = \"text-align: right;\">-0.3</td><td style = \"text-align: right;\">0.3</td><td style = \"text-align: right;\">0.6</td><td style = \"text-align: right;\">0.5</td><td style = \"text-align: right;\">0.1</td><td style = \"text-align: right;\">0.4</td><td style = \"text-align: right;\">1.1</td><td style = \"text-align: right;\">0.2</td><td style = \"text-align: right;\">0.3</td><td style = \"text-align: right;\">0.1</td><td style = \"text-align: right;\">1.4</td></tr><tr><td class = \"rowNumber\" style = \"font-weight: bold; text-align: right;\">5</td><td style = \"text-align: right;\">1955</td><td style = \"text-align: right;\">-0.5</td><td style = \"text-align: right;\">1.9</td><td style = \"text-align: right;\">0.6</td><td style = \"text-align: right;\">-0.1</td><td style = \"text-align: right;\">1.0</td><td style = \"text-align: right;\">1.3</td><td style = \"text-align: right;\">1.6</td><td style = \"text-align: right;\">1.5</td><td style = \"text-align: right;\">1.3</td><td style = \"text-align: right;\">1.5</td><td style = \"text-align: right;\">1.2</td><td style = \"text-align: right;\">1.0</td></tr><tr><td class = \"rowNumber\" style = \"font-weight: bold; text-align: right;\">6</td><td style = \"text-align: right;\">1956</td><td style = \"text-align: right;\">1.3</td><td style = \"text-align: right;\">1.6</td><td style = \"text-align: right;\">1.3</td><td style = \"text-align: right;\">0.9</td><td style = \"text-align: right;\">1.4</td><td style = \"text-align: right;\">1.1</td><td style = \"text-align: right;\">1.1</td><td style = \"text-align: right;\">1.2</td><td style = \"text-align: right;\">0.1</td><td style = \"text-align: right;\">1.8</td><td style = \"text-align: right;\">0.2</td><td style = \"text-align: right;\">1.1</td></tr><tr><td class = \"rowNumber\" style = \"font-weight: bold; text-align: right;\">7</td><td style = \"text-align: right;\">1957</td><td style = \"text-align: right;\">0.6</td><td style = \"text-align: right;\">-0.1</td><td style = \"text-align: right;\">0.2</td><td style = \"text-align: right;\">0.2</td><td style = \"text-align: right;\">-0.7</td><td style = \"text-align: right;\">0.2</td><td style = \"text-align: right;\">0.2</td><td style = \"text-align: right;\">-0.5</td><td style = \"text-align: right;\">-0.9</td><td style = \"text-align: right;\">0.0</td><td style = \"text-align: right;\">-1.0</td><td style = \"text-align: right;\">-0.3</td></tr><tr><td class = \"rowNumber\" style = \"font-weight: bold; text-align: right;\">8</td><td style = \"text-align: right;\">1958</td><td style = \"text-align: right;\">-1.9</td><td style = \"text-align: right;\">-0.5</td><td style = \"text-align: right;\">0.3</td><td style = \"text-align: right;\">0.4</td><td style = \"text-align: right;\">-0.5</td><td style = \"text-align: right;\">0.3</td><td style = \"text-align: right;\">0.4</td><td style = \"text-align: right;\">0.9</td><td style = \"text-align: right;\">-0.3</td><td style = \"text-align: right;\">0.1</td><td style = \"text-align: right;\">-0.4</td><td style = \"text-align: right;\">-0.6</td></tr><tr><td class = \"rowNumber\" style = \"font-weight: bold; text-align: right;\">9</td><td style = \"text-align: right;\">1959</td><td style = \"text-align: right;\">-0.9</td><td style = \"text-align: right;\">-1.4</td><td style = \"text-align: right;\">1.3</td><td style = \"text-align: right;\">0.4</td><td style = \"text-align: right;\">0.5</td><td style = \"text-align: right;\">-0.1</td><td style = \"text-align: right;\">-0.3</td><td style = \"text-align: right;\">-0.1</td><td style = \"text-align: right;\">0.0</td><td style = \"text-align: right;\">0.5</td><td style = \"text-align: right;\">0.9</td><td style = \"text-align: right;\">0.9</td></tr><tr><td class = \"rowNumber\" style = \"font-weight: bold; text-align: right;\">10</td><td style = \"text-align: right;\">1960</td><td style = \"text-align: right;\">0.1</td><td style = \"text-align: right;\">0.1</td><td style = \"text-align: right;\">1.0</td><td style = \"text-align: right;\">0.8</td><td style = \"text-align: right;\">0.5</td><td style = \"text-align: right;\">0.1</td><td style = \"text-align: right;\">0.5</td><td style = \"text-align: right;\">0.8</td><td style = \"text-align: right;\">0.7</td><td style = \"text-align: right;\">0.1</td><td style = \"text-align: right;\">0.5</td><td style = \"text-align: right;\">0.8</td></tr><tr><td class = \"rowNumber\" style = \"font-weight: bold; text-align: right;\">11</td><td style = \"text-align: right;\">1961</td><td style = \"text-align: right;\">-0.3</td><td style = \"text-align: right;\">0.9</td><td style = \"text-align: right;\">-1.8</td><td style = \"text-align: right;\">0.8</td><td style = \"text-align: right;\">0.3</td><td style = \"text-align: right;\">0.1</td><td style = \"text-align: right;\">0.2</td><td style = \"text-align: right;\">0.2</td><td style = \"text-align: right;\">0.1</td><td style = \"text-align: right;\">-0.3</td><td style = \"text-align: right;\">0.5</td><td style = \"text-align: right;\">1.5</td></tr><tr><td class = \"rowNumber\" style = \"font-weight: bold; text-align: right;\">12</td><td style = \"text-align: right;\">1962</td><td style = \"text-align: right;\">2.0</td><td style = \"text-align: right;\">-0.3</td><td style = \"text-align: right;\">0.1</td><td style = \"text-align: right;\">0.2</td><td style = \"text-align: right;\">1.1</td><td style = \"text-align: right;\">0.7</td><td style = \"text-align: right;\">0.1</td><td style = \"text-align: right;\">0.6</td><td style = \"text-align: right;\">0.4</td><td style = \"text-align: right;\">1.0</td><td style = \"text-align: right;\">0.3</td><td style = \"text-align: right;\">0.2</td></tr><tr><td class = \"rowNumber\" style = \"font-weight: bold; text-align: right;\">13</td><td style = \"text-align: right;\">1963</td><td style = \"text-align: right;\">1.0</td><td style = \"text-align: right;\">0.6</td><td style = \"text-align: right;\">1.1</td><td style = \"text-align: right;\">0.8</td><td style = \"text-align: right;\">0.4</td><td style = \"text-align: right;\">-0.5</td><td style = \"text-align: right;\">-0.1</td><td style = \"text-align: right;\">0.0</td><td style = \"text-align: right;\">-0.6</td><td style = \"text-align: right;\">-1.2</td><td style = \"text-align: right;\">-0.8</td><td style = \"text-align: right;\">-1.2</td></tr><tr><td style = \"text-align: right;\">&vellip;</td><td style = \"text-align: right;\">&vellip;</td><td style = \"text-align: right;\">&vellip;</td><td style = \"text-align: right;\">&vellip;</td><td style = \"text-align: right;\">&vellip;</td><td style = \"text-align: right;\">&vellip;</td><td style = \"text-align: right;\">&vellip;</td><td style = \"text-align: right;\">&vellip;</td><td style = \"text-align: right;\">&vellip;</td><td style = \"text-align: right;\">&vellip;</td><td style = \"text-align: right;\">&vellip;</td><td style = \"text-align: right;\">&vellip;</td><td style = \"text-align: right;\">&vellip;</td><td style = \"text-align: right;\">&vellip;</td></tr><tr><td class = \"rowNumber\" style = \"font-weight: bold; text-align: right;\">64</td><td style = \"text-align: right;\">2014</td><td style = \"text-align: right;\">1.4</td><td style = \"text-align: right;\">0.1</td><td style = \"text-align: right;\">-0.9</td><td style = \"text-align: right;\">0.8</td><td style = \"text-align: right;\">0.5</td><td style = \"text-align: right;\">0.2</td><td style = \"text-align: right;\">-0.2</td><td style = \"text-align: right;\">-0.7</td><td style = \"text-align: right;\">-0.7</td><td style = \"text-align: right;\">-0.6</td><td style = \"text-align: right;\">-0.9</td><td style = \"text-align: right;\">-0.6</td></tr><tr><td class = \"rowNumber\" style = \"font-weight: bold; text-align: right;\">65</td><td style = \"text-align: right;\">2015</td><td style = \"text-align: right;\">-0.8</td><td style = \"text-align: right;\">0.2</td><td style = \"text-align: right;\">-0.7</td><td style = \"text-align: right;\">-0.0</td><td style = \"text-align: right;\">-0.7</td><td style = \"text-align: right;\">-0.6</td><td style = \"text-align: right;\">-1.1</td><td style = \"text-align: right;\">-1.4</td><td style = \"text-align: right;\">-1.6</td><td style = \"text-align: right;\">-1.7</td><td style = \"text-align: right;\">-0.5</td><td style = \"text-align: right;\">-0.6</td></tr><tr><td class = \"rowNumber\" style = \"font-weight: bold; text-align: right;\">66</td><td style = \"text-align: right;\">2016</td><td style = \"text-align: right;\">-2.2</td><td style = \"text-align: right;\">-2.0</td><td style = \"text-align: right;\">-0.1</td><td style = \"text-align: right;\">-1.2</td><td style = \"text-align: right;\">0.4</td><td style = \"text-align: right;\">0.6</td><td style = \"text-align: right;\">0.4</td><td style = \"text-align: right;\">0.7</td><td style = \"text-align: right;\">1.2</td><td style = \"text-align: right;\">-0.3</td><td style = \"text-align: right;\">-0.1</td><td style = \"text-align: right;\">0.3</td></tr><tr><td class = \"rowNumber\" style = \"font-weight: bold; text-align: right;\">67</td><td style = \"text-align: right;\">2017</td><td style = \"text-align: right;\">0.2</td><td style = \"text-align: right;\">-0.1</td><td style = \"text-align: right;\">0.9</td><td style = \"text-align: right;\">-0.2</td><td style = \"text-align: right;\">0.3</td><td style = \"text-align: right;\">-0.4</td><td style = \"text-align: right;\">0.8</td><td style = \"text-align: right;\">0.5</td><td style = \"text-align: right;\">0.6</td><td style = \"text-align: right;\">0.9</td><td style = \"text-align: right;\">0.9</td><td style = \"text-align: right;\">-0.1</td></tr><tr><td class = \"rowNumber\" style = \"font-weight: bold; text-align: right;\">68</td><td style = \"text-align: right;\">2018</td><td style = \"text-align: right;\">1.1</td><td style = \"text-align: right;\">-0.5</td><td style = \"text-align: right;\">1.5</td><td style = \"text-align: right;\">0.5</td><td style = \"text-align: right;\">0.4</td><td style = \"text-align: right;\">-0.1</td><td style = \"text-align: right;\">0.2</td><td style = \"text-align: right;\">-0.3</td><td style = \"text-align: right;\">-0.9</td><td style = \"text-align: right;\">0.4</td><td style = \"text-align: right;\">-0.1</td><td style = \"text-align: right;\">1.0</td></tr><tr><td class = \"rowNumber\" style = \"font-weight: bold; text-align: right;\">69</td><td style = \"text-align: right;\">2019</td><td style = \"text-align: right;\">-0.0</td><td style = \"text-align: right;\">-1.4</td><td style = \"text-align: right;\">-0.3</td><td style = \"text-align: right;\">0.1</td><td style = \"text-align: right;\">-0.4</td><td style = \"text-align: right;\">-0.5</td><td style = \"text-align: right;\">-0.4</td><td style = \"text-align: right;\">-0.1</td><td style = \"text-align: right;\">-1.2</td><td style = \"text-align: right;\">-0.4</td><td style = \"text-align: right;\">-0.8</td><td style = \"text-align: right;\">-0.6</td></tr><tr><td class = \"rowNumber\" style = \"font-weight: bold; text-align: right;\">70</td><td style = \"text-align: right;\">2020</td><td style = \"text-align: right;\">0.2</td><td style = \"text-align: right;\">-0.1</td><td style = \"text-align: right;\">-0.1</td><td style = \"text-align: right;\">0.2</td><td style = \"text-align: right;\">0.4</td><td style = \"text-align: right;\">-0.4</td><td style = \"text-align: right;\">0.4</td><td style = \"text-align: right;\">1.1</td><td style = \"text-align: right;\">0.9</td><td style = \"text-align: right;\">0.5</td><td style = \"text-align: right;\">0.7</td><td style = \"text-align: right;\">1.8</td></tr><tr><td class = \"rowNumber\" style = \"font-weight: bold; text-align: right;\">71</td><td style = \"text-align: right;\">2021</td><td style = \"text-align: right;\">1.9</td><td style = \"text-align: right;\">1.5</td><td style = \"text-align: right;\">0.4</td><td style = \"text-align: right;\">0.3</td><td style = \"text-align: right;\">0.5</td><td style = \"text-align: right;\">0.4</td><td style = \"text-align: right;\">1.4</td><td style = \"text-align: right;\">0.6</td><td style = \"text-align: right;\">0.8</td><td style = \"text-align: right;\">0.7</td><td style = \"text-align: right;\">1.0</td><td style = \"text-align: right;\">1.5</td></tr><tr><td class = \"rowNumber\" style = \"font-weight: bold; text-align: right;\">72</td><td style = \"text-align: right;\">2022</td><td style = \"text-align: right;\">0.5</td><td style = \"text-align: right;\">1.1</td><td style = \"text-align: right;\">1.8</td><td style = \"text-align: right;\">1.7</td><td style = \"text-align: right;\">1.4</td><td style = \"text-align: right;\">1.7</td><td style = \"text-align: right;\">0.8</td><td style = \"text-align: right;\">1.0</td><td style = \"text-align: right;\">1.6</td><td style = \"text-align: right;\">1.7</td><td style = \"text-align: right;\">0.3</td><td style = \"text-align: right;\">2.1</td></tr><tr><td class = \"rowNumber\" style = \"font-weight: bold; text-align: right;\">73</td><td style = \"text-align: right;\">2023</td><td style = \"text-align: right;\">1.4</td><td style = \"text-align: right;\">1.4</td><td style = \"text-align: right;\">0.2</td><td style = \"text-align: right;\">0.2</td><td style = \"text-align: right;\">-1.0</td><td style = \"text-align: right;\">0.3</td><td style = \"text-align: right;\">-0.3</td><td style = \"text-align: right;\">-0.8</td><td style = \"text-align: right;\">-1.3</td><td style = \"text-align: right;\">-0.5</td><td style = \"text-align: right;\">-0.8</td><td style = \"text-align: right;\">-0.2</td></tr><tr><td class = \"rowNumber\" style = \"font-weight: bold; text-align: right;\">74</td><td style = \"text-align: right;\">2024</td><td style = \"text-align: right;\">0.5</td><td style = \"text-align: right;\">-1.4</td><td style = \"text-align: right;\">0.4</td><td style = \"text-align: right;\">-0.2</td><td style = \"text-align: right;\">0.5</td><td style = \"text-align: right;\">0.0</td><td style = \"text-align: right;\">-0.7</td><td style = \"text-align: right;\">0.9</td><td style = \"text-align: right;\">-0.1</td><td style = \"text-align: right;\">0.5</td><td style = \"text-align: right;\">0.5</td><td style = \"text-align: right;\">1.2</td></tr><tr><td class = \"rowNumber\" style = \"font-weight: bold; text-align: right;\">75</td><td style = \"text-align: right;\">2025</td><td style = \"text-align: right;\">0.2</td><td style = \"font-style: italic; text-align: right;\">missing</td><td style = \"font-style: italic; text-align: right;\">missing</td><td style = \"font-style: italic; text-align: right;\">missing</td><td style = \"font-style: italic; text-align: right;\">missing</td><td style = \"font-style: italic; text-align: right;\">missing</td><td style = \"font-style: italic; text-align: right;\">missing</td><td style = \"font-style: italic; text-align: right;\">missing</td><td style = \"font-style: italic; text-align: right;\">missing</td><td style = \"font-style: italic; text-align: right;\">missing</td><td style = \"font-style: italic; text-align: right;\">missing</td><td style = \"font-style: italic; text-align: right;\">missing</td></tr></tbody></table></div>"
      ],
      "text/latex": [
       "\\begin{tabular}{r|cccccccccc}\n",
       "\t& YEAR & JAN & FEB & MAR & APR & MAY & JUN & JUL & AUG & \\\\\n",
       "\t\\hline\n",
       "\t& Int64 & Float64 & Float64? & Float64? & Float64? & Float64? & Float64? & Float64? & Float64? & \\\\\n",
       "\t\\hline\n",
       "\t1 & 1951 & 1.5 & 0.9 & -0.1 & -0.3 & -0.7 & 0.2 & -1.0 & -0.2 & $\\dots$ \\\\\n",
       "\t2 & 1952 & -0.9 & -0.6 & 0.5 & -0.2 & 0.8 & 0.7 & 0.5 & 0.1 & $\\dots$ \\\\\n",
       "\t3 & 1953 & 0.3 & -0.5 & -0.2 & 0.2 & -1.7 & 0.1 & -0.0 & -1.2 & $\\dots$ \\\\\n",
       "\t4 & 1954 & 0.7 & -0.3 & 0.3 & 0.6 & 0.5 & 0.1 & 0.4 & 1.1 & $\\dots$ \\\\\n",
       "\t5 & 1955 & -0.5 & 1.9 & 0.6 & -0.1 & 1.0 & 1.3 & 1.6 & 1.5 & $\\dots$ \\\\\n",
       "\t6 & 1956 & 1.3 & 1.6 & 1.3 & 0.9 & 1.4 & 1.1 & 1.1 & 1.2 & $\\dots$ \\\\\n",
       "\t7 & 1957 & 0.6 & -0.1 & 0.2 & 0.2 & -0.7 & 0.2 & 0.2 & -0.5 & $\\dots$ \\\\\n",
       "\t8 & 1958 & -1.9 & -0.5 & 0.3 & 0.4 & -0.5 & 0.3 & 0.4 & 0.9 & $\\dots$ \\\\\n",
       "\t9 & 1959 & -0.9 & -1.4 & 1.3 & 0.4 & 0.5 & -0.1 & -0.3 & -0.1 & $\\dots$ \\\\\n",
       "\t10 & 1960 & 0.1 & 0.1 & 1.0 & 0.8 & 0.5 & 0.1 & 0.5 & 0.8 & $\\dots$ \\\\\n",
       "\t11 & 1961 & -0.3 & 0.9 & -1.8 & 0.8 & 0.3 & 0.1 & 0.2 & 0.2 & $\\dots$ \\\\\n",
       "\t12 & 1962 & 2.0 & -0.3 & 0.1 & 0.2 & 1.1 & 0.7 & 0.1 & 0.6 & $\\dots$ \\\\\n",
       "\t13 & 1963 & 1.0 & 0.6 & 1.1 & 0.8 & 0.4 & -0.5 & -0.1 & 0.0 & $\\dots$ \\\\\n",
       "\t14 & 1964 & -0.4 & 0.0 & 1.1 & 1.1 & 0.2 & 0.8 & 0.6 & 1.5 & $\\dots$ \\\\\n",
       "\t15 & 1965 & -0.4 & 0.4 & 0.8 & -0.5 & 0.2 & -0.6 & -1.8 & -0.7 & $\\dots$ \\\\\n",
       "\t16 & 1966 & -1.3 & -0.2 & -0.9 & -0.2 & -0.4 & 0.3 & 0.1 & 0.6 & $\\dots$ \\\\\n",
       "\t17 & 1967 & 1.7 & 1.7 & 1.2 & -0.0 & -0.0 & 0.6 & 0.2 & 0.7 & $\\dots$ \\\\\n",
       "\t18 & 1968 & 0.5 & 1.3 & 0.1 & 0.0 & 1.2 & 1.1 & 0.7 & 0.3 & $\\dots$ \\\\\n",
       "\t19 & 1969 & -1.5 & -0.5 & 0.4 & -0.4 & -0.2 & 0.2 & -0.5 & -0.1 & $\\dots$ \\\\\n",
       "\t20 & 1970 & -1.1 & -1.0 & 0.6 & -0.1 & 0.4 & 1.0 & -0.4 & 0.6 & $\\dots$ \\\\\n",
       "\t21 & 1971 & 0.4 & 2.0 & 2.3 & 1.7 & 0.9 & 0.4 & 0.2 & 1.5 & $\\dots$ \\\\\n",
       "\t22 & 1972 & 0.5 & 1.1 & 0.6 & -0.1 & -1.6 & -0.5 & -1.4 & -0.5 & $\\dots$ \\\\\n",
       "\t23 & 1973 & -0.3 & -1.4 & 0.7 & 0.1 & 0.4 & 1.1 & 0.6 & 1.3 & $\\dots$ \\\\\n",
       "\t24 & 1974 & 2.4 & 2.1 & 2.4 & 0.9 & 1.0 & 0.4 & 1.1 & 0.8 & $\\dots$ \\\\\n",
       "\t$\\dots$ & $\\dots$ & $\\dots$ & $\\dots$ & $\\dots$ & $\\dots$ & $\\dots$ & $\\dots$ & $\\dots$ & $\\dots$ &  \\\\\n",
       "\\end{tabular}\n"
      ],
      "text/plain": [
       "\u001b[1m75×13 DataFrame\u001b[0m\n",
       "\u001b[1m Row \u001b[0m│\u001b[1m YEAR  \u001b[0m\u001b[1m JAN     \u001b[0m\u001b[1m FEB       \u001b[0m\u001b[1m MAR       \u001b[0m\u001b[1m APR       \u001b[0m\u001b[1m MAY       \u001b[0m\u001b[1m JUN       \u001b[0m\u001b[1m \u001b[0m ⋯\n",
       "     │\u001b[90m Int64 \u001b[0m\u001b[90m Float64 \u001b[0m\u001b[90m Float64?  \u001b[0m\u001b[90m Float64?  \u001b[0m\u001b[90m Float64?  \u001b[0m\u001b[90m Float64?  \u001b[0m\u001b[90m Float64?  \u001b[0m\u001b[90m \u001b[0m ⋯\n",
       "─────┼──────────────────────────────────────────────────────────────────────────\n",
       "   1 │  1951      1.5        0.9       -0.1       -0.3       -0.7        0.2   ⋯\n",
       "   2 │  1952     -0.9       -0.6        0.5       -0.2        0.8        0.7\n",
       "   3 │  1953      0.3       -0.5       -0.2        0.2       -1.7        0.1\n",
       "   4 │  1954      0.7       -0.3        0.3        0.6        0.5        0.1\n",
       "   5 │  1955     -0.5        1.9        0.6       -0.1        1.0        1.3   ⋯\n",
       "   6 │  1956      1.3        1.6        1.3        0.9        1.4        1.1\n",
       "   7 │  1957      0.6       -0.1        0.2        0.2       -0.7        0.2\n",
       "   8 │  1958     -1.9       -0.5        0.3        0.4       -0.5        0.3\n",
       "  ⋮  │   ⋮       ⋮         ⋮          ⋮          ⋮          ⋮          ⋮       ⋱\n",
       "  69 │  2019     -0.0       -1.4       -0.3        0.1       -0.4       -0.5   ⋯\n",
       "  70 │  2020      0.2       -0.1       -0.1        0.2        0.4       -0.4\n",
       "  71 │  2021      1.9        1.5        0.4        0.3        0.5        0.4\n",
       "  72 │  2022      0.5        1.1        1.8        1.7        1.4        1.7\n",
       "  73 │  2023      1.4        1.4        0.2        0.2       -1.0        0.3   ⋯\n",
       "  74 │  2024      0.5       -1.4        0.4       -0.2        0.5        0.0\n",
       "  75 │  2025      0.2 \u001b[90m missing   \u001b[0m\u001b[90m missing   \u001b[0m\u001b[90m missing   \u001b[0m\u001b[90m missing   \u001b[0m\u001b[90m missing   \u001b[0m\u001b[90m \u001b[0m\n",
       "\u001b[36m                                                   6 columns and 60 rows omitted\u001b[0m"
      ]
     },
     "metadata": {},
     "output_type": "display_data"
    }
   ],
   "source": [
    "df_soi = CSV.read(\"c:/Users/Andrea/OneDrive/Documents/GitHub/enso_project.jl/data/soi_standardized.txt\", DataFrame; delim = ' ', ignorerepeated = true)"
   ]
  },
  {
   "cell_type": "code",
   "execution_count": 21,
   "metadata": {},
   "outputs": [
    {
     "data": {
      "text/html": [
       "<div><div style = \"float: left;\"><span>889×2 DataFrame</span></div><div style = \"float: right;\"><span style = \"font-style: italic;\">864 rows omitted</span></div><div style = \"clear: both;\"></div></div><div class = \"data-frame\" style = \"overflow-x: scroll;\"><table class = \"data-frame\" style = \"margin-bottom: 6px;\"><thead><tr class = \"header\"><th class = \"rowNumber\" style = \"font-weight: bold; text-align: right;\">Row</th><th style = \"text-align: left;\">YR</th><th style = \"text-align: left;\">MON</th></tr><tr class = \"subheader headerLastRow\"><th class = \"rowNumber\" style = \"font-weight: bold; text-align: right;\"></th><th title = \"Int64\" style = \"text-align: left;\">Int64</th><th title = \"Int64\" style = \"text-align: left;\">Int64</th></tr></thead><tbody><tr><td class = \"rowNumber\" style = \"font-weight: bold; text-align: right;\">1</td><td style = \"text-align: right;\">1951</td><td style = \"text-align: right;\">1</td></tr><tr><td class = \"rowNumber\" style = \"font-weight: bold; text-align: right;\">2</td><td style = \"text-align: right;\">1951</td><td style = \"text-align: right;\">2</td></tr><tr><td class = \"rowNumber\" style = \"font-weight: bold; text-align: right;\">3</td><td style = \"text-align: right;\">1951</td><td style = \"text-align: right;\">3</td></tr><tr><td class = \"rowNumber\" style = \"font-weight: bold; text-align: right;\">4</td><td style = \"text-align: right;\">1951</td><td style = \"text-align: right;\">4</td></tr><tr><td class = \"rowNumber\" style = \"font-weight: bold; text-align: right;\">5</td><td style = \"text-align: right;\">1951</td><td style = \"text-align: right;\">5</td></tr><tr><td class = \"rowNumber\" style = \"font-weight: bold; text-align: right;\">6</td><td style = \"text-align: right;\">1951</td><td style = \"text-align: right;\">6</td></tr><tr><td class = \"rowNumber\" style = \"font-weight: bold; text-align: right;\">7</td><td style = \"text-align: right;\">1951</td><td style = \"text-align: right;\">7</td></tr><tr><td class = \"rowNumber\" style = \"font-weight: bold; text-align: right;\">8</td><td style = \"text-align: right;\">1951</td><td style = \"text-align: right;\">8</td></tr><tr><td class = \"rowNumber\" style = \"font-weight: bold; text-align: right;\">9</td><td style = \"text-align: right;\">1951</td><td style = \"text-align: right;\">9</td></tr><tr><td class = \"rowNumber\" style = \"font-weight: bold; text-align: right;\">10</td><td style = \"text-align: right;\">1951</td><td style = \"text-align: right;\">10</td></tr><tr><td class = \"rowNumber\" style = \"font-weight: bold; text-align: right;\">11</td><td style = \"text-align: right;\">1951</td><td style = \"text-align: right;\">11</td></tr><tr><td class = \"rowNumber\" style = \"font-weight: bold; text-align: right;\">12</td><td style = \"text-align: right;\">1951</td><td style = \"text-align: right;\">12</td></tr><tr><td class = \"rowNumber\" style = \"font-weight: bold; text-align: right;\">13</td><td style = \"text-align: right;\">1952</td><td style = \"text-align: right;\">1</td></tr><tr><td style = \"text-align: right;\">&vellip;</td><td style = \"text-align: right;\">&vellip;</td><td style = \"text-align: right;\">&vellip;</td></tr><tr><td class = \"rowNumber\" style = \"font-weight: bold; text-align: right;\">878</td><td style = \"text-align: right;\">2024</td><td style = \"text-align: right;\">2</td></tr><tr><td class = \"rowNumber\" style = \"font-weight: bold; text-align: right;\">879</td><td style = \"text-align: right;\">2024</td><td style = \"text-align: right;\">3</td></tr><tr><td class = \"rowNumber\" style = \"font-weight: bold; text-align: right;\">880</td><td style = \"text-align: right;\">2024</td><td style = \"text-align: right;\">4</td></tr><tr><td class = \"rowNumber\" style = \"font-weight: bold; text-align: right;\">881</td><td style = \"text-align: right;\">2024</td><td style = \"text-align: right;\">5</td></tr><tr><td class = \"rowNumber\" style = \"font-weight: bold; text-align: right;\">882</td><td style = \"text-align: right;\">2024</td><td style = \"text-align: right;\">6</td></tr><tr><td class = \"rowNumber\" style = \"font-weight: bold; text-align: right;\">883</td><td style = \"text-align: right;\">2024</td><td style = \"text-align: right;\">7</td></tr><tr><td class = \"rowNumber\" style = \"font-weight: bold; text-align: right;\">884</td><td style = \"text-align: right;\">2024</td><td style = \"text-align: right;\">8</td></tr><tr><td class = \"rowNumber\" style = \"font-weight: bold; text-align: right;\">885</td><td style = \"text-align: right;\">2024</td><td style = \"text-align: right;\">9</td></tr><tr><td class = \"rowNumber\" style = \"font-weight: bold; text-align: right;\">886</td><td style = \"text-align: right;\">2024</td><td style = \"text-align: right;\">10</td></tr><tr><td class = \"rowNumber\" style = \"font-weight: bold; text-align: right;\">887</td><td style = \"text-align: right;\">2024</td><td style = \"text-align: right;\">11</td></tr><tr><td class = \"rowNumber\" style = \"font-weight: bold; text-align: right;\">888</td><td style = \"text-align: right;\">2024</td><td style = \"text-align: right;\">12</td></tr><tr><td class = \"rowNumber\" style = \"font-weight: bold; text-align: right;\">889</td><td style = \"text-align: right;\">2025</td><td style = \"text-align: right;\">1</td></tr></tbody></table></div>"
      ],
      "text/latex": [
       "\\begin{tabular}{r|cc}\n",
       "\t& YR & MON\\\\\n",
       "\t\\hline\n",
       "\t& Int64 & Int64\\\\\n",
       "\t\\hline\n",
       "\t1 & 1951 & 1 \\\\\n",
       "\t2 & 1951 & 2 \\\\\n",
       "\t3 & 1951 & 3 \\\\\n",
       "\t4 & 1951 & 4 \\\\\n",
       "\t5 & 1951 & 5 \\\\\n",
       "\t6 & 1951 & 6 \\\\\n",
       "\t7 & 1951 & 7 \\\\\n",
       "\t8 & 1951 & 8 \\\\\n",
       "\t9 & 1951 & 9 \\\\\n",
       "\t10 & 1951 & 10 \\\\\n",
       "\t11 & 1951 & 11 \\\\\n",
       "\t12 & 1951 & 12 \\\\\n",
       "\t13 & 1952 & 1 \\\\\n",
       "\t14 & 1952 & 2 \\\\\n",
       "\t15 & 1952 & 3 \\\\\n",
       "\t16 & 1952 & 4 \\\\\n",
       "\t17 & 1952 & 5 \\\\\n",
       "\t18 & 1952 & 6 \\\\\n",
       "\t19 & 1952 & 7 \\\\\n",
       "\t20 & 1952 & 8 \\\\\n",
       "\t21 & 1952 & 9 \\\\\n",
       "\t22 & 1952 & 10 \\\\\n",
       "\t23 & 1952 & 11 \\\\\n",
       "\t24 & 1952 & 12 \\\\\n",
       "\t$\\dots$ & $\\dots$ & $\\dots$ \\\\\n",
       "\\end{tabular}\n"
      ],
      "text/plain": [
       "\u001b[1m889×2 DataFrame\u001b[0m\n",
       "\u001b[1m Row \u001b[0m│\u001b[1m YR    \u001b[0m\u001b[1m MON   \u001b[0m\n",
       "     │\u001b[90m Int64 \u001b[0m\u001b[90m Int64 \u001b[0m\n",
       "─────┼──────────────\n",
       "   1 │  1951      1\n",
       "   2 │  1951      2\n",
       "   3 │  1951      3\n",
       "   4 │  1951      4\n",
       "   5 │  1951      5\n",
       "   6 │  1951      6\n",
       "   7 │  1951      7\n",
       "   8 │  1951      8\n",
       "  ⋮  │   ⋮      ⋮\n",
       " 883 │  2024      7\n",
       " 884 │  2024      8\n",
       " 885 │  2024      9\n",
       " 886 │  2024     10\n",
       " 887 │  2024     11\n",
       " 888 │  2024     12\n",
       " 889 │  2025      1\n",
       "\u001b[36m    874 rows omitted\u001b[0m"
      ]
     },
     "metadata": {},
     "output_type": "display_data"
    }
   ],
   "source": [
    "df_soi_format = DataFrame(YR = repeat(1951:2025, inner=12), MON = repeat(1:12, outer=75))\n",
    "delete!(df_soi_format, collect(890:900))"
   ]
  },
  {
   "cell_type": "code",
   "execution_count": 22,
   "metadata": {},
   "outputs": [
    {
     "data": {
      "text/plain": [
       "889-element Vector{Any}:\n",
       "  1.5\n",
       "  0.9\n",
       " -0.1\n",
       " -0.3\n",
       " -0.7\n",
       "  0.2\n",
       " -1.0\n",
       " -0.2\n",
       " -1.1\n",
       " -1.0\n",
       "  ⋮\n",
       "  0.5\n",
       "  0.0\n",
       " -0.7\n",
       "  0.9\n",
       " -0.1\n",
       "  0.5\n",
       "  0.5\n",
       "  1.2\n",
       "  0.2"
      ]
     },
     "metadata": {},
     "output_type": "display_data"
    }
   ],
   "source": [
    "# fill up df with SOI values\n",
    "soi = []\n",
    "for i in 1:nrow(df_soi)\n",
    "    for j in 2:ncol(df_soi)\n",
    "        push!(soi, df_soi[i,j])\n",
    "    end\n",
    "end\n",
    "\n",
    "filter!(soi -> !ismissing(soi), soi)\n",
    "df_soi_format.SOI = soi"
   ]
  },
  {
   "cell_type": "code",
   "execution_count": 23,
   "metadata": {},
   "outputs": [
    {
     "data": {
      "text/html": [
       "<div><div style = \"float: left;\"><span>889×2 DataFrame</span></div><div style = \"float: right;\"><span style = \"font-style: italic;\">864 rows omitted</span></div><div style = \"clear: both;\"></div></div><div class = \"data-frame\" style = \"overflow-x: scroll;\"><table class = \"data-frame\" style = \"margin-bottom: 6px;\"><thead><tr class = \"header\"><th class = \"rowNumber\" style = \"font-weight: bold; text-align: right;\">Row</th><th style = \"text-align: left;\">DATE</th><th style = \"text-align: left;\">SOI</th></tr><tr class = \"subheader headerLastRow\"><th class = \"rowNumber\" style = \"font-weight: bold; text-align: right;\"></th><th title = \"Date\" style = \"text-align: left;\">Date</th><th title = \"Any\" style = \"text-align: left;\">Any</th></tr></thead><tbody><tr><td class = \"rowNumber\" style = \"font-weight: bold; text-align: right;\">1</td><td style = \"text-align: left;\">1951-01-01</td><td style = \"text-align: left;\">1.5</td></tr><tr><td class = \"rowNumber\" style = \"font-weight: bold; text-align: right;\">2</td><td style = \"text-align: left;\">1951-02-01</td><td style = \"text-align: left;\">0.9</td></tr><tr><td class = \"rowNumber\" style = \"font-weight: bold; text-align: right;\">3</td><td style = \"text-align: left;\">1951-03-01</td><td style = \"text-align: left;\">-0.1</td></tr><tr><td class = \"rowNumber\" style = \"font-weight: bold; text-align: right;\">4</td><td style = \"text-align: left;\">1951-04-01</td><td style = \"text-align: left;\">-0.3</td></tr><tr><td class = \"rowNumber\" style = \"font-weight: bold; text-align: right;\">5</td><td style = \"text-align: left;\">1951-05-01</td><td style = \"text-align: left;\">-0.7</td></tr><tr><td class = \"rowNumber\" style = \"font-weight: bold; text-align: right;\">6</td><td style = \"text-align: left;\">1951-06-01</td><td style = \"text-align: left;\">0.2</td></tr><tr><td class = \"rowNumber\" style = \"font-weight: bold; text-align: right;\">7</td><td style = \"text-align: left;\">1951-07-01</td><td style = \"text-align: left;\">-1.0</td></tr><tr><td class = \"rowNumber\" style = \"font-weight: bold; text-align: right;\">8</td><td style = \"text-align: left;\">1951-08-01</td><td style = \"text-align: left;\">-0.2</td></tr><tr><td class = \"rowNumber\" style = \"font-weight: bold; text-align: right;\">9</td><td style = \"text-align: left;\">1951-09-01</td><td style = \"text-align: left;\">-1.1</td></tr><tr><td class = \"rowNumber\" style = \"font-weight: bold; text-align: right;\">10</td><td style = \"text-align: left;\">1951-10-01</td><td style = \"text-align: left;\">-1.0</td></tr><tr><td class = \"rowNumber\" style = \"font-weight: bold; text-align: right;\">11</td><td style = \"text-align: left;\">1951-11-01</td><td style = \"text-align: left;\">-0.8</td></tr><tr><td class = \"rowNumber\" style = \"font-weight: bold; text-align: right;\">12</td><td style = \"text-align: left;\">1951-12-01</td><td style = \"text-align: left;\">-0.7</td></tr><tr><td class = \"rowNumber\" style = \"font-weight: bold; text-align: right;\">13</td><td style = \"text-align: left;\">1952-01-01</td><td style = \"text-align: left;\">-0.9</td></tr><tr><td style = \"text-align: right;\">&vellip;</td><td style = \"text-align: right;\">&vellip;</td><td style = \"text-align: right;\">&vellip;</td></tr><tr><td class = \"rowNumber\" style = \"font-weight: bold; text-align: right;\">878</td><td style = \"text-align: left;\">2024-02-01</td><td style = \"text-align: left;\">-1.4</td></tr><tr><td class = \"rowNumber\" style = \"font-weight: bold; text-align: right;\">879</td><td style = \"text-align: left;\">2024-03-01</td><td style = \"text-align: left;\">0.4</td></tr><tr><td class = \"rowNumber\" style = \"font-weight: bold; text-align: right;\">880</td><td style = \"text-align: left;\">2024-04-01</td><td style = \"text-align: left;\">-0.2</td></tr><tr><td class = \"rowNumber\" style = \"font-weight: bold; text-align: right;\">881</td><td style = \"text-align: left;\">2024-05-01</td><td style = \"text-align: left;\">0.5</td></tr><tr><td class = \"rowNumber\" style = \"font-weight: bold; text-align: right;\">882</td><td style = \"text-align: left;\">2024-06-01</td><td style = \"text-align: left;\">0.0</td></tr><tr><td class = \"rowNumber\" style = \"font-weight: bold; text-align: right;\">883</td><td style = \"text-align: left;\">2024-07-01</td><td style = \"text-align: left;\">-0.7</td></tr><tr><td class = \"rowNumber\" style = \"font-weight: bold; text-align: right;\">884</td><td style = \"text-align: left;\">2024-08-01</td><td style = \"text-align: left;\">0.9</td></tr><tr><td class = \"rowNumber\" style = \"font-weight: bold; text-align: right;\">885</td><td style = \"text-align: left;\">2024-09-01</td><td style = \"text-align: left;\">-0.1</td></tr><tr><td class = \"rowNumber\" style = \"font-weight: bold; text-align: right;\">886</td><td style = \"text-align: left;\">2024-10-01</td><td style = \"text-align: left;\">0.5</td></tr><tr><td class = \"rowNumber\" style = \"font-weight: bold; text-align: right;\">887</td><td style = \"text-align: left;\">2024-11-01</td><td style = \"text-align: left;\">0.5</td></tr><tr><td class = \"rowNumber\" style = \"font-weight: bold; text-align: right;\">888</td><td style = \"text-align: left;\">2024-12-01</td><td style = \"text-align: left;\">1.2</td></tr><tr><td class = \"rowNumber\" style = \"font-weight: bold; text-align: right;\">889</td><td style = \"text-align: left;\">2025-01-01</td><td style = \"text-align: left;\">0.2</td></tr></tbody></table></div>"
      ],
      "text/latex": [
       "\\begin{tabular}{r|cc}\n",
       "\t& DATE & SOI\\\\\n",
       "\t\\hline\n",
       "\t& Date & Any\\\\\n",
       "\t\\hline\n",
       "\t1 & 1951-01-01 & 1.5 \\\\\n",
       "\t2 & 1951-02-01 & 0.9 \\\\\n",
       "\t3 & 1951-03-01 & -0.1 \\\\\n",
       "\t4 & 1951-04-01 & -0.3 \\\\\n",
       "\t5 & 1951-05-01 & -0.7 \\\\\n",
       "\t6 & 1951-06-01 & 0.2 \\\\\n",
       "\t7 & 1951-07-01 & -1.0 \\\\\n",
       "\t8 & 1951-08-01 & -0.2 \\\\\n",
       "\t9 & 1951-09-01 & -1.1 \\\\\n",
       "\t10 & 1951-10-01 & -1.0 \\\\\n",
       "\t11 & 1951-11-01 & -0.8 \\\\\n",
       "\t12 & 1951-12-01 & -0.7 \\\\\n",
       "\t13 & 1952-01-01 & -0.9 \\\\\n",
       "\t14 & 1952-02-01 & -0.6 \\\\\n",
       "\t15 & 1952-03-01 & 0.5 \\\\\n",
       "\t16 & 1952-04-01 & -0.2 \\\\\n",
       "\t17 & 1952-05-01 & 0.8 \\\\\n",
       "\t18 & 1952-06-01 & 0.7 \\\\\n",
       "\t19 & 1952-07-01 & 0.5 \\\\\n",
       "\t20 & 1952-08-01 & 0.1 \\\\\n",
       "\t21 & 1952-09-01 & -0.2 \\\\\n",
       "\t22 & 1952-10-01 & 0.4 \\\\\n",
       "\t23 & 1952-11-01 & 0.0 \\\\\n",
       "\t24 & 1952-12-01 & -1.2 \\\\\n",
       "\t$\\dots$ & $\\dots$ & $\\dots$ \\\\\n",
       "\\end{tabular}\n"
      ],
      "text/plain": [
       "\u001b[1m889×2 DataFrame\u001b[0m\n",
       "\u001b[1m Row \u001b[0m│\u001b[1m DATE       \u001b[0m\u001b[1m SOI  \u001b[0m\n",
       "     │\u001b[90m Date       \u001b[0m\u001b[90m Any  \u001b[0m\n",
       "─────┼──────────────────\n",
       "   1 │ 1951-01-01  1.5\n",
       "   2 │ 1951-02-01  0.9\n",
       "   3 │ 1951-03-01  -0.1\n",
       "   4 │ 1951-04-01  -0.3\n",
       "   5 │ 1951-05-01  -0.7\n",
       "   6 │ 1951-06-01  0.2\n",
       "   7 │ 1951-07-01  -1.0\n",
       "   8 │ 1951-08-01  -0.2\n",
       "  ⋮  │     ⋮        ⋮\n",
       " 883 │ 2024-07-01  -0.7\n",
       " 884 │ 2024-08-01  0.9\n",
       " 885 │ 2024-09-01  -0.1\n",
       " 886 │ 2024-10-01  0.5\n",
       " 887 │ 2024-11-01  0.5\n",
       " 888 │ 2024-12-01  1.2\n",
       " 889 │ 2025-01-01  0.2\n",
       "\u001b[36m        874 rows omitted\u001b[0m"
      ]
     },
     "metadata": {},
     "output_type": "display_data"
    }
   ],
   "source": [
    "df_soi_format.DATE = Date.(df_soi_format.YR, df_soi_format.MON, 1)\n",
    "df_soi_format = df_soi_format[:, [\"DATE\", \"SOI\"]]"
   ]
  },
  {
   "cell_type": "code",
   "execution_count": 24,
   "metadata": {},
   "outputs": [
    {
     "data": {
      "text/plain": [
       "\"c:/Users/Andrea/OneDrive/Documents/GitHub/enso_project.jl/data/soi_standardized_format.csv\""
      ]
     },
     "metadata": {},
     "output_type": "display_data"
    }
   ],
   "source": [
    "# Save formatted data frame\n",
    "CSV.write(\"c:/Users/Andrea/OneDrive/Documents/GitHub/enso_project.jl/data/soi_standardized_format.csv\", df_soi_format)"
   ]
  }
 ],
 "metadata": {
  "kernelspec": {
   "display_name": "Julia 1.11.1",
   "language": "julia",
   "name": "julia-1.11"
  },
  "language_info": {
   "file_extension": ".jl",
   "mimetype": "application/julia",
   "name": "julia",
   "version": "1.11.1"
  }
 },
 "nbformat": 4,
 "nbformat_minor": 2
}

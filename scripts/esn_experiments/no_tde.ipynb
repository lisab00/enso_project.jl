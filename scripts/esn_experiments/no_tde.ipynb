{
 "cells": [
  {
   "cell_type": "markdown",
   "id": "bb1545ef",
   "metadata": {},
   "source": [
    "in this script we try to reproduce the results from .\\enso_project.jl\\scripts\\train_and_validate_esn.ipynb without performing a TDE on the input data."
   ]
  },
  {
   "cell_type": "code",
   "execution_count": null,
   "id": "3c337240",
   "metadata": {},
   "outputs": [
    {
     "ename": "LoadError",
     "evalue": "IOError: cd(\"C:\\\\Users\\\\lisah/Documents/enso_project.jl\"): no such file or directory (ENOENT)",
     "output_type": "error",
     "traceback": [
      "IOError: cd(\"C:\\\\Users\\\\lisah/Documents/enso_project.jl\"): no such file or directory (ENOENT)",
      "",
      "Stacktrace:",
      " [1] \u001b[0m\u001b[1muv_error\u001b[22m",
      "\u001b[90m   @\u001b[39m \u001b[90m.\\\u001b[39m\u001b[90m\u001b[4mlibuv.jl:106\u001b[24m\u001b[39m\u001b[90m [inlined]\u001b[39m",
      " [2] \u001b[0m\u001b[1mcd\u001b[22m\u001b[0m\u001b[1m(\u001b[22m\u001b[90mdir\u001b[39m::\u001b[0mString\u001b[0m\u001b[1m)\u001b[22m",
      "\u001b[90m   @\u001b[39m \u001b[90mBase.Filesystem\u001b[39m \u001b[90m.\\\u001b[39m\u001b[90m\u001b[4mfile.jl:91\u001b[24m\u001b[39m",
      " [3] top-level scope",
      "\u001b[90m   @\u001b[39m \u001b[90m\u001b[4mIn[1]:1\u001b[24m\u001b[39m"
     ]
    }
   ],
   "source": [
    "cd(\"$(homedir())/Documents/Repos/enso_project.jl\")\n",
    "using Pkg\n",
    "Pkg.activate(\".\")"
   ]
  },
  {
   "cell_type": "code",
   "execution_count": null,
   "id": "d2aea484",
   "metadata": {},
   "outputs": [],
   "source": [
    "using ReservoirComputing, CSV, DataFrames, DynamicalSystems, Plots, enso_project"
   ]
  }
 ],
 "metadata": {
  "kernelspec": {
   "display_name": "julia_enso 1.11.5",
   "language": "julia",
   "name": "julia_enso-1.11"
  },
  "language_info": {
   "file_extension": ".jl",
   "mimetype": "application/julia",
   "name": "julia",
   "version": "1.11.5"
  }
 },
 "nbformat": 4,
 "nbformat_minor": 5
}

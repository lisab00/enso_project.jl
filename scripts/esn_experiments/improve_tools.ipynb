{
 "cells": [
  {
   "cell_type": "markdown",
   "id": "8613302f",
   "metadata": {},
   "source": [
    "start prediction from later time step without retraining network"
   ]
  }
 ],
 "metadata": {
  "language_info": {
   "name": "python"
  }
 },
 "nbformat": 4,
 "nbformat_minor": 5
}

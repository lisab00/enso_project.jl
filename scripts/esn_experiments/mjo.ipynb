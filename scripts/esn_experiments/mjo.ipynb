{
 "cells": [
  {
   "cell_type": "markdown",
   "id": "774843ee",
   "metadata": {},
   "source": [
    "## ESN predicitons on MJO"
   ]
  },
  {
   "cell_type": "code",
   "execution_count": 1,
   "id": "48f91ebb",
   "metadata": {},
   "outputs": [
    {
     "name": "stderr",
     "output_type": "stream",
     "text": [
      "\u001b[32m\u001b[1m  Activating\u001b[22m\u001b[39m project at `C:\\Users\\lisah\\Documents\\Repos\\enso_project.jl`\n"
     ]
    }
   ],
   "source": [
    "cd(\"$(homedir())/Documents/Repos/enso_project.jl\")\n",
    "using Pkg\n",
    "Pkg.activate(\".\")"
   ]
  },
  {
   "cell_type": "code",
   "execution_count": 2,
   "id": "cb1f7d98",
   "metadata": {},
   "outputs": [
    {
     "name": "stderr",
     "output_type": "stream",
     "text": [
      "\u001b[33m\u001b[1m┌ \u001b[22m\u001b[39m\u001b[33m\u001b[1mWarning: \u001b[22m\u001b[39mPackage cuDNN not found in current path.\n",
      "\u001b[33m\u001b[1m│ \u001b[22m\u001b[39m- Run `import Pkg; Pkg.add(\"cuDNN\")` to install the cuDNN package, then restart julia.\n",
      "\u001b[33m\u001b[1m│ \u001b[22m\u001b[39m- If cuDNN is not installed, some Flux functionalities will not be available when running on the GPU.\n",
      "\u001b[33m\u001b[1m└ \u001b[22m\u001b[39m\u001b[90m@ FluxCUDAExt C:\\Users\\lisah\\.julia\\packages\\Flux\\9PibT\\ext\\FluxCUDAExt\\FluxCUDAExt.jl:10\u001b[39m\n"
     ]
    }
   ],
   "source": [
    "using ReservoirComputing, CSV, DataFrames, DynamicalSystems, Plots, enso_project"
   ]
  },
  {
   "cell_type": "code",
   "execution_count": 5,
   "id": "ab6d82dd",
   "metadata": {},
   "outputs": [
    {
     "data": {
      "text/html": [
       "<div><div style = \"float: left;\"><span>12603×7 DataFrame</span></div><div style = \"float: right;\"><span style = \"font-style: italic;\">12578 rows omitted</span></div><div style = \"clear: both;\"></div></div><div class = \"data-frame\" style = \"overflow-x: scroll;\"><table class = \"data-frame\" style = \"margin-bottom: 6px;\"><thead><tr class = \"header\"><th class = \"rowNumber\" style = \"font-weight: bold; text-align: right;\">Row</th><th style = \"text-align: left;\">Column1</th><th style = \"text-align: left;\">Column2</th><th style = \"text-align: left;\">Column3</th><th style = \"text-align: left;\">Column4</th><th style = \"text-align: left;\">Column5</th><th style = \"text-align: left;\">Column6</th><th style = \"text-align: left;\">Column7</th></tr><tr class = \"subheader headerLastRow\"><th class = \"rowNumber\" style = \"font-weight: bold; text-align: right;\"></th><th title = \"Int64\" style = \"text-align: left;\">Int64</th><th title = \"Int64\" style = \"text-align: left;\">Int64</th><th title = \"Int64\" style = \"text-align: left;\">Int64</th><th title = \"Int64\" style = \"text-align: left;\">Int64</th><th title = \"Float64\" style = \"text-align: left;\">Float64</th><th title = \"Float64\" style = \"text-align: left;\">Float64</th><th title = \"Float64\" style = \"text-align: left;\">Float64</th></tr></thead><tbody><tr><td class = \"rowNumber\" style = \"font-weight: bold; text-align: right;\">1</td><td style = \"text-align: right;\">1991</td><td style = \"text-align: right;\">1</td><td style = \"text-align: right;\">1</td><td style = \"text-align: right;\">0</td><td style = \"text-align: right;\">0.12526</td><td style = \"text-align: right;\">-0.06945</td><td style = \"text-align: right;\">0.14323</td></tr><tr><td class = \"rowNumber\" style = \"font-weight: bold; text-align: right;\">2</td><td style = \"text-align: right;\">1991</td><td style = \"text-align: right;\">1</td><td style = \"text-align: right;\">2</td><td style = \"text-align: right;\">0</td><td style = \"text-align: right;\">0.18542</td><td style = \"text-align: right;\">-0.04887</td><td style = \"text-align: right;\">0.19175</td></tr><tr><td class = \"rowNumber\" style = \"font-weight: bold; text-align: right;\">3</td><td style = \"text-align: right;\">1991</td><td style = \"text-align: right;\">1</td><td style = \"text-align: right;\">3</td><td style = \"text-align: right;\">0</td><td style = \"text-align: right;\">0.2396</td><td style = \"text-align: right;\">-0.03933</td><td style = \"text-align: right;\">0.24281</td></tr><tr><td class = \"rowNumber\" style = \"font-weight: bold; text-align: right;\">4</td><td style = \"text-align: right;\">1991</td><td style = \"text-align: right;\">1</td><td style = \"text-align: right;\">4</td><td style = \"text-align: right;\">0</td><td style = \"text-align: right;\">0.27446</td><td style = \"text-align: right;\">0.0199</td><td style = \"text-align: right;\">0.27518</td></tr><tr><td class = \"rowNumber\" style = \"font-weight: bold; text-align: right;\">5</td><td style = \"text-align: right;\">1991</td><td style = \"text-align: right;\">1</td><td style = \"text-align: right;\">5</td><td style = \"text-align: right;\">0</td><td style = \"text-align: right;\">0.27714</td><td style = \"text-align: right;\">0.07555</td><td style = \"text-align: right;\">0.28725</td></tr><tr><td class = \"rowNumber\" style = \"font-weight: bold; text-align: right;\">6</td><td style = \"text-align: right;\">1991</td><td style = \"text-align: right;\">1</td><td style = \"text-align: right;\">6</td><td style = \"text-align: right;\">0</td><td style = \"text-align: right;\">0.37999</td><td style = \"text-align: right;\">0.23959</td><td style = \"text-align: right;\">0.44922</td></tr><tr><td class = \"rowNumber\" style = \"font-weight: bold; text-align: right;\">7</td><td style = \"text-align: right;\">1991</td><td style = \"text-align: right;\">1</td><td style = \"text-align: right;\">7</td><td style = \"text-align: right;\">0</td><td style = \"text-align: right;\">0.42803</td><td style = \"text-align: right;\">0.26655</td><td style = \"text-align: right;\">0.50424</td></tr><tr><td class = \"rowNumber\" style = \"font-weight: bold; text-align: right;\">8</td><td style = \"text-align: right;\">1991</td><td style = \"text-align: right;\">1</td><td style = \"text-align: right;\">8</td><td style = \"text-align: right;\">0</td><td style = \"text-align: right;\">0.49339</td><td style = \"text-align: right;\">0.34553</td><td style = \"text-align: right;\">0.60235</td></tr><tr><td class = \"rowNumber\" style = \"font-weight: bold; text-align: right;\">9</td><td style = \"text-align: right;\">1991</td><td style = \"text-align: right;\">1</td><td style = \"text-align: right;\">9</td><td style = \"text-align: right;\">0</td><td style = \"text-align: right;\">0.50765</td><td style = \"text-align: right;\">0.41978</td><td style = \"text-align: right;\">0.65873</td></tr><tr><td class = \"rowNumber\" style = \"font-weight: bold; text-align: right;\">10</td><td style = \"text-align: right;\">1991</td><td style = \"text-align: right;\">1</td><td style = \"text-align: right;\">10</td><td style = \"text-align: right;\">0</td><td style = \"text-align: right;\">0.46603</td><td style = \"text-align: right;\">0.45432</td><td style = \"text-align: right;\">0.65084</td></tr><tr><td class = \"rowNumber\" style = \"font-weight: bold; text-align: right;\">11</td><td style = \"text-align: right;\">1991</td><td style = \"text-align: right;\">1</td><td style = \"text-align: right;\">11</td><td style = \"text-align: right;\">0</td><td style = \"text-align: right;\">0.43921</td><td style = \"text-align: right;\">0.44696</td><td style = \"text-align: right;\">0.62664</td></tr><tr><td class = \"rowNumber\" style = \"font-weight: bold; text-align: right;\">12</td><td style = \"text-align: right;\">1991</td><td style = \"text-align: right;\">1</td><td style = \"text-align: right;\">12</td><td style = \"text-align: right;\">0</td><td style = \"text-align: right;\">0.38635</td><td style = \"text-align: right;\">0.44401</td><td style = \"text-align: right;\">0.58857</td></tr><tr><td class = \"rowNumber\" style = \"font-weight: bold; text-align: right;\">13</td><td style = \"text-align: right;\">1991</td><td style = \"text-align: right;\">1</td><td style = \"text-align: right;\">13</td><td style = \"text-align: right;\">0</td><td style = \"text-align: right;\">0.36751</td><td style = \"text-align: right;\">0.39319</td><td style = \"text-align: right;\">0.5382</td></tr><tr><td style = \"text-align: right;\">&vellip;</td><td style = \"text-align: right;\">&vellip;</td><td style = \"text-align: right;\">&vellip;</td><td style = \"text-align: right;\">&vellip;</td><td style = \"text-align: right;\">&vellip;</td><td style = \"text-align: right;\">&vellip;</td><td style = \"text-align: right;\">&vellip;</td><td style = \"text-align: right;\">&vellip;</td></tr><tr><td class = \"rowNumber\" style = \"font-weight: bold; text-align: right;\">12592</td><td style = \"text-align: right;\">2025</td><td style = \"text-align: right;\">6</td><td style = \"text-align: right;\">22</td><td style = \"text-align: right;\">0</td><td style = \"text-align: right;\">-0.2696</td><td style = \"text-align: right;\">0.10834</td><td style = \"text-align: right;\">0.29056</td></tr><tr><td class = \"rowNumber\" style = \"font-weight: bold; text-align: right;\">12593</td><td style = \"text-align: right;\">2025</td><td style = \"text-align: right;\">6</td><td style = \"text-align: right;\">23</td><td style = \"text-align: right;\">0</td><td style = \"text-align: right;\">-0.39975</td><td style = \"text-align: right;\">0.06371</td><td style = \"text-align: right;\">0.4048</td></tr><tr><td class = \"rowNumber\" style = \"font-weight: bold; text-align: right;\">12594</td><td style = \"text-align: right;\">2025</td><td style = \"text-align: right;\">6</td><td style = \"text-align: right;\">24</td><td style = \"text-align: right;\">0</td><td style = \"text-align: right;\">-0.43881</td><td style = \"text-align: right;\">0.00233</td><td style = \"text-align: right;\">0.43881</td></tr><tr><td class = \"rowNumber\" style = \"font-weight: bold; text-align: right;\">12595</td><td style = \"text-align: right;\">2025</td><td style = \"text-align: right;\">6</td><td style = \"text-align: right;\">25</td><td style = \"text-align: right;\">0</td><td style = \"text-align: right;\">-0.48935</td><td style = \"text-align: right;\">-0.04809</td><td style = \"text-align: right;\">0.49171</td></tr><tr><td class = \"rowNumber\" style = \"font-weight: bold; text-align: right;\">12596</td><td style = \"text-align: right;\">2025</td><td style = \"text-align: right;\">6</td><td style = \"text-align: right;\">26</td><td style = \"text-align: right;\">0</td><td style = \"text-align: right;\">-0.58475</td><td style = \"text-align: right;\">-0.16275</td><td style = \"text-align: right;\">0.60698</td></tr><tr><td class = \"rowNumber\" style = \"font-weight: bold; text-align: right;\">12597</td><td style = \"text-align: right;\">2025</td><td style = \"text-align: right;\">6</td><td style = \"text-align: right;\">27</td><td style = \"text-align: right;\">0</td><td style = \"text-align: right;\">-0.66268</td><td style = \"text-align: right;\">-0.26311</td><td style = \"text-align: right;\">0.713</td></tr><tr><td class = \"rowNumber\" style = \"font-weight: bold; text-align: right;\">12598</td><td style = \"text-align: right;\">2025</td><td style = \"text-align: right;\">6</td><td style = \"text-align: right;\">28</td><td style = \"text-align: right;\">0</td><td style = \"text-align: right;\">-0.6561</td><td style = \"text-align: right;\">-0.27416</td><td style = \"text-align: right;\">0.71108</td></tr><tr><td class = \"rowNumber\" style = \"font-weight: bold; text-align: right;\">12599</td><td style = \"text-align: right;\">2025</td><td style = \"text-align: right;\">6</td><td style = \"text-align: right;\">29</td><td style = \"text-align: right;\">0</td><td style = \"text-align: right;\">-0.60538</td><td style = \"text-align: right;\">-0.30815</td><td style = \"text-align: right;\">0.6793</td></tr><tr><td class = \"rowNumber\" style = \"font-weight: bold; text-align: right;\">12600</td><td style = \"text-align: right;\">2025</td><td style = \"text-align: right;\">6</td><td style = \"text-align: right;\">30</td><td style = \"text-align: right;\">0</td><td style = \"text-align: right;\">-0.53046</td><td style = \"text-align: right;\">-0.34925</td><td style = \"text-align: right;\">0.63511</td></tr><tr><td class = \"rowNumber\" style = \"font-weight: bold; text-align: right;\">12601</td><td style = \"text-align: right;\">2025</td><td style = \"text-align: right;\">7</td><td style = \"text-align: right;\">1</td><td style = \"text-align: right;\">0</td><td style = \"text-align: right;\">-0.40529</td><td style = \"text-align: right;\">-0.40887</td><td style = \"text-align: right;\">0.57571</td></tr><tr><td class = \"rowNumber\" style = \"font-weight: bold; text-align: right;\">12602</td><td style = \"text-align: right;\">2025</td><td style = \"text-align: right;\">7</td><td style = \"text-align: right;\">2</td><td style = \"text-align: right;\">0</td><td style = \"text-align: right;\">-0.33531</td><td style = \"text-align: right;\">-0.38871</td><td style = \"text-align: right;\">0.51335</td></tr><tr><td class = \"rowNumber\" style = \"font-weight: bold; text-align: right;\">12603</td><td style = \"text-align: right;\">2025</td><td style = \"text-align: right;\">7</td><td style = \"text-align: right;\">3</td><td style = \"text-align: right;\">0</td><td style = \"text-align: right;\">-0.37026</td><td style = \"text-align: right;\">-0.34477</td><td style = \"text-align: right;\">0.50593</td></tr></tbody></table></div>"
      ],
      "text/latex": [
       "\\begin{tabular}{r|ccccccc}\n",
       "\t& Column1 & Column2 & Column3 & Column4 & Column5 & Column6 & Column7\\\\\n",
       "\t\\hline\n",
       "\t& Int64 & Int64 & Int64 & Int64 & Float64 & Float64 & Float64\\\\\n",
       "\t\\hline\n",
       "\t1 & 1991 & 1 & 1 & 0 & 0.12526 & -0.06945 & 0.14323 \\\\\n",
       "\t2 & 1991 & 1 & 2 & 0 & 0.18542 & -0.04887 & 0.19175 \\\\\n",
       "\t3 & 1991 & 1 & 3 & 0 & 0.2396 & -0.03933 & 0.24281 \\\\\n",
       "\t4 & 1991 & 1 & 4 & 0 & 0.27446 & 0.0199 & 0.27518 \\\\\n",
       "\t5 & 1991 & 1 & 5 & 0 & 0.27714 & 0.07555 & 0.28725 \\\\\n",
       "\t6 & 1991 & 1 & 6 & 0 & 0.37999 & 0.23959 & 0.44922 \\\\\n",
       "\t7 & 1991 & 1 & 7 & 0 & 0.42803 & 0.26655 & 0.50424 \\\\\n",
       "\t8 & 1991 & 1 & 8 & 0 & 0.49339 & 0.34553 & 0.60235 \\\\\n",
       "\t9 & 1991 & 1 & 9 & 0 & 0.50765 & 0.41978 & 0.65873 \\\\\n",
       "\t10 & 1991 & 1 & 10 & 0 & 0.46603 & 0.45432 & 0.65084 \\\\\n",
       "\t11 & 1991 & 1 & 11 & 0 & 0.43921 & 0.44696 & 0.62664 \\\\\n",
       "\t12 & 1991 & 1 & 12 & 0 & 0.38635 & 0.44401 & 0.58857 \\\\\n",
       "\t13 & 1991 & 1 & 13 & 0 & 0.36751 & 0.39319 & 0.5382 \\\\\n",
       "\t14 & 1991 & 1 & 14 & 0 & 0.41747 & 0.31856 & 0.52513 \\\\\n",
       "\t15 & 1991 & 1 & 15 & 0 & 0.42911 & 0.30929 & 0.52896 \\\\\n",
       "\t16 & 1991 & 1 & 16 & 0 & 0.38285 & 0.33681 & 0.50991 \\\\\n",
       "\t17 & 1991 & 1 & 17 & 0 & 0.30184 & 0.36904 & 0.47676 \\\\\n",
       "\t18 & 1991 & 1 & 18 & 0 & 0.20248 & 0.42847 & 0.4739 \\\\\n",
       "\t19 & 1991 & 1 & 19 & 0 & 0.18513 & 0.50673 & 0.53949 \\\\\n",
       "\t20 & 1991 & 1 & 20 & 0 & 0.18808 & 0.66463 & 0.69072 \\\\\n",
       "\t21 & 1991 & 1 & 21 & 0 & 0.16147 & 0.81402 & 0.82988 \\\\\n",
       "\t22 & 1991 & 1 & 22 & 0 & 0.09035 & 0.96613 & 0.97035 \\\\\n",
       "\t23 & 1991 & 1 & 23 & 0 & -0.09186 & 1.09647 & 1.10031 \\\\\n",
       "\t24 & 1991 & 1 & 24 & 0 & -0.25139 & 1.20131 & 1.22733 \\\\\n",
       "\t25 & 1991 & 1 & 25 & 0 & -0.37571 & 1.24241 & 1.29798 \\\\\n",
       "\t26 & 1991 & 1 & 26 & 0 & -0.56887 & 1.21328 & 1.34003 \\\\\n",
       "\t27 & 1991 & 1 & 27 & 0 & -0.76543 & 1.21517 & 1.43615 \\\\\n",
       "\t28 & 1991 & 1 & 28 & 0 & -0.87351 & 1.24032 & 1.51704 \\\\\n",
       "\t29 & 1991 & 1 & 29 & 0 & -0.95656 & 1.20034 & 1.53487 \\\\\n",
       "\t30 & 1991 & 1 & 30 & 0 & -1.05156 & 1.19385 & 1.59093 \\\\\n",
       "\t$\\dots$ & $\\dots$ & $\\dots$ & $\\dots$ & $\\dots$ & $\\dots$ & $\\dots$ & $\\dots$ \\\\\n",
       "\\end{tabular}\n"
      ],
      "text/plain": [
       "\u001b[1m12603×7 DataFrame\u001b[0m\n",
       "\u001b[1m   Row \u001b[0m│\u001b[1m Column1 \u001b[0m\u001b[1m Column2 \u001b[0m\u001b[1m Column3 \u001b[0m\u001b[1m Column4 \u001b[0m\u001b[1m Column5  \u001b[0m\u001b[1m Column6  \u001b[0m\u001b[1m Column7 \u001b[0m\n",
       "       │\u001b[90m Int64   \u001b[0m\u001b[90m Int64   \u001b[0m\u001b[90m Int64   \u001b[0m\u001b[90m Int64   \u001b[0m\u001b[90m Float64  \u001b[0m\u001b[90m Float64  \u001b[0m\u001b[90m Float64 \u001b[0m\n",
       "───────┼─────────────────────────────────────────────────────────────────\n",
       "     1 │    1991        1        1        0   0.12526  -0.06945  0.14323\n",
       "     2 │    1991        1        2        0   0.18542  -0.04887  0.19175\n",
       "     3 │    1991        1        3        0   0.2396   -0.03933  0.24281\n",
       "     4 │    1991        1        4        0   0.27446   0.0199   0.27518\n",
       "     5 │    1991        1        5        0   0.27714   0.07555  0.28725\n",
       "     6 │    1991        1        6        0   0.37999   0.23959  0.44922\n",
       "     7 │    1991        1        7        0   0.42803   0.26655  0.50424\n",
       "     8 │    1991        1        8        0   0.49339   0.34553  0.60235\n",
       "     9 │    1991        1        9        0   0.50765   0.41978  0.65873\n",
       "    10 │    1991        1       10        0   0.46603   0.45432  0.65084\n",
       "    11 │    1991        1       11        0   0.43921   0.44696  0.62664\n",
       "   ⋮   │    ⋮        ⋮        ⋮        ⋮        ⋮         ⋮         ⋮\n",
       " 12594 │    2025        6       24        0  -0.43881   0.00233  0.43881\n",
       " 12595 │    2025        6       25        0  -0.48935  -0.04809  0.49171\n",
       " 12596 │    2025        6       26        0  -0.58475  -0.16275  0.60698\n",
       " 12597 │    2025        6       27        0  -0.66268  -0.26311  0.713\n",
       " 12598 │    2025        6       28        0  -0.6561   -0.27416  0.71108\n",
       " 12599 │    2025        6       29        0  -0.60538  -0.30815  0.6793\n",
       " 12600 │    2025        6       30        0  -0.53046  -0.34925  0.63511\n",
       " 12601 │    2025        7        1        0  -0.40529  -0.40887  0.57571\n",
       " 12602 │    2025        7        2        0  -0.33531  -0.38871  0.51335\n",
       " 12603 │    2025        7        3        0  -0.37026  -0.34477  0.50593\n",
       "\u001b[36m                                                       12582 rows omitted\u001b[0m"
      ]
     },
     "execution_count": 5,
     "metadata": {},
     "output_type": "execute_result"
    }
   ],
   "source": [
    "data = CSV.read(\"data/mjo_data/mjo_romi.txt\", DataFrame; delim=\" \", ignorerepeated=true, header=false)"
   ]
  }
 ],
 "metadata": {
  "kernelspec": {
   "display_name": "julia_enso 1.11.5",
   "language": "julia",
   "name": "julia_enso-1.11"
  },
  "language_info": {
   "file_extension": ".jl",
   "mimetype": "application/julia",
   "name": "julia",
   "version": "1.11.5"
  }
 },
 "nbformat": 4,
 "nbformat_minor": 5
}

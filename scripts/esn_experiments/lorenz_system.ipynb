{
 "cells": [
  {
   "cell_type": "markdown",
   "id": "72a6dbae",
   "metadata": {},
   "source": [
    "We test whether TDE can enhace prediction abilities of ESNs applied to the Lorenz System."
   ]
  },
  {
   "cell_type": "code",
   "execution_count": 1,
   "id": "cb7ddddc",
   "metadata": {},
   "outputs": [
    {
     "name": "stderr",
     "output_type": "stream",
     "text": [
      "\u001b[32m\u001b[1m  Activating\u001b[22m\u001b[39m project at `C:\\Users\\lisah\\Documents\\Repos\\enso_project.jl`\n"
     ]
    }
   ],
   "source": [
    "cd(\"$(homedir())/Documents/Repos/enso_project.jl\")\n",
    "using Pkg\n",
    "Pkg.activate(\".\")"
   ]
  },
  {
   "cell_type": "code",
   "execution_count": 2,
   "id": "3475950c",
   "metadata": {},
   "outputs": [
    {
     "name": "stderr",
     "output_type": "stream",
     "text": [
      "\u001b[33m\u001b[1m┌ \u001b[22m\u001b[39m\u001b[33m\u001b[1mWarning: \u001b[22m\u001b[39mPackage cuDNN not found in current path.\n",
      "\u001b[33m\u001b[1m│ \u001b[22m\u001b[39m- Run `import Pkg; Pkg.add(\"cuDNN\")` to install the cuDNN package, then restart julia.\n",
      "\u001b[33m\u001b[1m│ \u001b[22m\u001b[39m- If cuDNN is not installed, some Flux functionalities will not be available when running on the GPU.\n",
      "\u001b[33m\u001b[1m└ \u001b[22m\u001b[39m\u001b[90m@ FluxCUDAExt C:\\Users\\lisah\\.julia\\packages\\Flux\\9PibT\\ext\\FluxCUDAExt\\FluxCUDAExt.jl:10\u001b[39m\n"
     ]
    }
   ],
   "source": [
    "using ReservoirComputing, CSV, DataFrames, DynamicalSystems, Plots, enso_project"
   ]
  },
  {
   "cell_type": "markdown",
   "id": "4bb37da6",
   "metadata": {},
   "source": [
    "#### Simulating Lorenz Data"
   ]
  },
  {
   "cell_type": "code",
   "execution_count": null,
   "id": "488695ca",
   "metadata": {},
   "outputs": [
    {
     "data": {
      "text/plain": [
       "3×2001 Matrix{Float64}:\n",
       "  -7.9554  -15.3466  -13.1091  -3.50536  …   2.60804   4.85809   9.20262\n",
       " -14.5316  -21.0154   -3.5192   3.71577      4.24185   7.98143  14.6799\n",
       "  12.6248   30.0779   41.0784  30.7804      17.4522   15.3366   18.8447"
      ]
     },
     "execution_count": 5,
     "metadata": {},
     "output_type": "execute_result"
    }
   ],
   "source": [
    "# Set up the Lorenz system and generate data\n",
    "lorenz = Systems.lorenz63()\n",
    "\n",
    "# Integrate the system\n",
    "T = 200.0\n",
    "Δt = 0.1\n",
    "Ttr = 100.0  # Transient that will be discarded\n",
    "\n",
    "tr = trajectory(lorenz, T, Δt = Δt, Ttr = Ttr)\n",
    "x, y, z = columns(tr[1])\n",
    "\n",
    "# Put the data in the matrix format (n_features, n_samples) required by ReservoirComputing.jl \n",
    "data = copy(hcat(x, y, z)')"
   ]
  },
  {
   "cell_type": "markdown",
   "id": "89098d92",
   "metadata": {},
   "source": [
    "##### TDE"
   ]
  },
  {
   "cell_type": "code",
   "execution_count": null,
   "id": "541129c8",
   "metadata": {},
   "outputs": [],
   "source": [
    "# do a TDE on the data"
   ]
  }
 ],
 "metadata": {
  "kernelspec": {
   "display_name": "julia_enso 1.11.5",
   "language": "julia",
   "name": "julia_enso-1.11"
  },
  "language_info": {
   "file_extension": ".jl",
   "mimetype": "application/julia",
   "name": "julia",
   "version": "1.11.5"
  }
 },
 "nbformat": 4,
 "nbformat_minor": 5
}

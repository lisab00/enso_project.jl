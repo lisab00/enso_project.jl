{
 "cells": [
  {
   "cell_type": "markdown",
   "metadata": {},
   "source": [
    "# Using an Echo-State Network to predict ENSO"
   ]
  },
  {
   "cell_type": "markdown",
   "metadata": {},
   "source": [
    "## Preparations"
   ]
  },
  {
   "cell_type": "code",
   "execution_count": 1,
   "metadata": {},
   "outputs": [
    {
     "name": "stderr",
     "output_type": "stream",
     "text": [
      "\u001b[32m\u001b[1m  Activating\u001b[22m\u001b[39m project at `C:\\Users\\lihel\\Documents\\enso_project.jl`\n"
     ]
    }
   ],
   "source": [
    "cd(\"$(homedir())/Documents/enso_project.jl\")\n",
    "using Pkg\n",
    "Pkg.activate(\".\")"
   ]
  },
  {
   "cell_type": "code",
   "execution_count": 2,
   "metadata": {},
   "outputs": [
    {
     "name": "stderr",
     "output_type": "stream",
     "text": [
      "┌ Warning: Circular dependency detected. Precompilation will be skipped for:\n",
      "│   Base.PkgId(Base.UUID(\"e3ecd195-ca82-5397-9546-f380c1e34951\"), \"NonlinearSolveBaseSparseMatrixColoringsExt\")\n",
      "│   Base.PkgId(Base.UUID(\"385e4588-a1a0-5c1d-98fa-d45bf6f8ecf9\"), \"LinearSolveKernelAbstractionsExt\")\n",
      "│   Base.PkgId(Base.UUID(\"3bcf3b12-2128-5d18-8b3b-bcdd6f83637b\"), \"WeightInitializersGPUArraysExt\")\n",
      "│   Base.PkgId(Base.UUID(\"b00db79b-61e3-50fb-b26f-2d35b2d9e4ed\"), \"DiffEqBaseChainRulesCoreExt\")\n",
      "│   Base.PkgId(Base.UUID(\"8913a72c-1f9b-4ce2-8d82-65094dcecaec\"), \"NonlinearSolve\")\n",
      "│   Base.PkgId(Base.UUID(\"7edab7de-1038-5e4f-97a7-6bfc75d44324\"), \"NonlinearSolveQuasiNewtonForwardDiffExt\")\n",
      "│   Base.PkgId(Base.UUID(\"1dea7af3-3e70-54e6-95c3-0bf5283fa5ed\"), \"OrdinaryDiffEq\")\n",
      "│   Base.PkgId(Base.UUID(\"0d7ed370-da01-4f52-bd93-41d350b8b718\"), \"StaticArrayInterface\")\n",
      "│   Base.PkgId(Base.UUID(\"693f0f32-89f9-59b4-b981-3d79b82ef24b\"), \"SparseDiffToolsEnzymeExt\")\n",
      "│   Base.PkgId(Base.UUID(\"63d416d0-6995-5965-81e0-55251226d976\"), \"NonlinearSolveBaseForwardDiffExt\")\n",
      "│   Base.PkgId(Base.UUID(\"63c18a36-062a-441e-b654-da1e3ab1ce7c\"), \"KernelAbstractions\")\n",
      "│   Base.PkgId(Base.UUID(\"8d20b31a-8b56-511a-b573-0bef60e8c8c7\"), \"LineSearchLineSearchesExt\")\n",
      "│   Base.PkgId(Base.UUID(\"0b1bfda6-eb8a-41d2-88d8-f5af5cad476f\"), \"OneHotArrays\")\n",
      "│   Base.PkgId(Base.UUID(\"5865c103-18d1-586a-9b11-010bbc2260a8\"), \"ZygoteDistancesExt\")\n",
      "│   Base.PkgId(Base.UUID(\"d3585ca7-f5d3-4ba6-8057-292ed1abd90f\"), \"OrdinaryDiffEqFunctionMap\")\n",
      "│   Base.PkgId(Base.UUID(\"bb5d69b7-63fc-4a16-80bd-7e42200c7bdb\"), \"MaybeInplace\")\n",
      "│   Base.PkgId(Base.UUID(\"133222a9-3015-5ee0-8b28-65fc8ed13c28\"), \"LinearSolveEnzymeExt\")\n",
      "│   Base.PkgId(Base.UUID(\"f517fe37-dbe3-4b94-8317-1923a5111588\"), \"Polyester\")\n",
      "│   Base.PkgId(Base.UUID(\"521117fe-8c41-49f8-b3b6-30780b3f0fb5\"), \"OrdinaryDiffEqLinear\")\n",
      "│   Base.PkgId(Base.UUID(\"d41bc354-129a-5804-8e4c-c37616107c6c\"), \"NLSolversBase\")\n",
      "│   Base.PkgId(Base.UUID(\"587475ba-b771-5e3f-ad9e-33799f191a9c\"), \"Flux\")\n",
      "│   Base.PkgId(Base.UUID(\"699899dd-2948-59d9-a4f6-ce210f3f1f61\"), \"FiniteDiffSparseArraysExt\")\n",
      "│   Base.PkgId(Base.UUID(\"10f19ff3-798f-405d-979b-55457f8fc047\"), \"LayoutPointers\")\n",
      "│   Base.PkgId(Base.UUID(\"b1df2697-797e-41e3-8120-5422d3b24e4a\"), \"OrdinaryDiffEqTsit5\")\n",
      "│   Base.PkgId(Base.UUID(\"8a688d86-d2bc-5ad3-8ed1-384f9f2c8cc5\"), \"NNlibCUDAExt\")\n",
      "│   Base.PkgId(Base.UUID(\"6ad6398a-0878-4a85-9266-38940aa047c8\"), \"OrdinaryDiffEqBDF\")\n",
      "│   Base.PkgId(Base.UUID(\"8bfb2b13-0715-5af1-8e3a-77651e178280\"), \"RCSparseArraysExt\")\n",
      "│   Base.PkgId(Base.UUID(\"6a86dc24-6348-571c-b903-95158fe2bd41\"), \"FiniteDiff\")\n",
      "│   Base.PkgId(Base.UUID(\"eae2faf6-b232-58cb-a410-7764fda2830c\"), \"ChainRulesCoreExt\")\n",
      "│   Base.PkgId(Base.UUID(\"47a9eef4-7e08-11e9-0b38-333d64bd3804\"), \"SparseDiffTools\")\n",
      "│   Base.PkgId(Base.UUID(\"872c559c-99b0-510c-b3b7-b6c96a88d5cd\"), \"NNlib\")\n",
      "│   Base.PkgId(Base.UUID(\"5b33eab2-c0f1-4480-b2c3-94bc1e80bda1\"), \"OrdinaryDiffEqPRK\")\n",
      "│   Base.PkgId(Base.UUID(\"50262376-6c5a-4cf5-baba-aaf4f84d72d7\"), \"OrdinaryDiffEqDefault\")\n",
      "│   Base.PkgId(Base.UUID(\"7d52e85c-72bb-51a3-82f3-f6aed919620f\"), \"ExponentialUtilitiesStaticArraysExt\")\n",
      "│   Base.PkgId(Base.UUID(\"75b8c125-561c-596e-9db0-c79879254aa3\"), \"MLDataDevicesCUDAExt\")\n",
      "│   Base.PkgId(Base.UUID(\"1fe0b789-d9ca-5274-abe4-f8a8503e5a20\"), \"DiffEqBaseForwardDiffExt\")\n",
      "│   Base.PkgId(Base.UUID(\"bb716554-e89b-5af4-bfb6-0f88eb8bb218\"), \"BracketingNonlinearSolveForwardDiffExt\")\n",
      "│   Base.PkgId(Base.UUID(\"a8fab69c-de6f-5f74-aba3-bef19c2d033f\"), \"StaticArrayInterfaceOffsetArraysExt\")\n",
      "│   Base.PkgId(Base.UUID(\"61744808-ddfa-5f27-97ff-6e42cc95d634\"), \"DynamicalSystems\")\n",
      "│   Base.PkgId(Base.UUID(\"acf9803d-64eb-5f69-b965-a71e3e6e1ed4\"), \"LinearSolveSparseArraysExt\")\n",
      "│   Base.PkgId(Base.UUID(\"43230ef6-c299-4910-a778-202eb28ce4ce\"), \"OrdinaryDiffEqRosenbrock\")\n",
      "│   Base.PkgId(Base.UUID(\"9c97de4a-2903-5b9c-add6-4b1aaffe4ab8\"), \"MaybeInplaceSparseArraysExt\")\n",
      "│   Base.PkgId(Base.UUID(\"5ef07d41-9f15-5fb1-919e-6a30dc1fea2b\"), \"MLDataDevicesChainRulesExt\")\n",
      "│   Base.PkgId(Base.UUID(\"89bda076-bce5-4f1c-845f-551c83cdda9a\"), \"OrdinaryDiffEqAdamsBashforthMoulton\")\n",
      "│   Base.PkgId(Base.UUID(\"75e56524-3a34-51de-85ea-03aa6eac4b64\"), \"FiniteDiffStaticArraysExt\")\n",
      "│   Base.PkgId(Base.UUID(\"9286f039-9fbf-40e8-bf65-aa933bdc4db0\"), \"OrdinaryDiffEqExplicitRK\")\n",
      "│   Base.PkgId(Base.UUID(\"70df07ce-3d50-431d-a3e7-ca6ddb60ac1e\"), \"BracketingNonlinearSolve\")\n",
      "│   Base.PkgId(Base.UUID(\"da5c29d0-fa7d-589e-88eb-ea29b0a81949\"), \"EllipsisNotation\")\n",
      "│   Base.PkgId(Base.UUID(\"bbf590c4-e513-4bbe-9b18-05decba2e5d8\"), \"OrdinaryDiffEqCore\")\n",
      "│   Base.PkgId(Base.UUID(\"1285c0f1-ff9f-5867-b66e-0f359bcf09ba\"), \"SpecialFunctionsExt\")\n",
      "│   Base.PkgId(Base.UUID(\"18c65b70-2546-5492-ac4c-dad4ac5611e8\"), \"FastPowerTrackerExt\")\n",
      "│   Base.PkgId(Base.UUID(\"ca1c724a-f4aa-55ef-b8e4-2f05449449ac\"), \"OrdinaryDiffEqCoreEnzymeCoreExt\")\n",
      "│   Base.PkgId(Base.UUID(\"0c68f7d7-f131-5f86-a1c3-88cf8149b2d7\"), \"GPUArrays\")\n",
      "│   Base.PkgId(Base.UUID(\"abc30e1f-b6a1-519c-974d-a38484004f35\"), \"MLDataDevicesTrackerExt\")\n",
      "│   Base.PkgId(Base.UUID(\"5dd0a6cf-3d4b-4314-aa06-06d4e299bc89\"), \"OrdinaryDiffEqPDIRK\")\n",
      "│   Base.PkgId(Base.UUID(\"dd41ee52-2073-581e-92e8-26baf003f19a\"), \"FluxCUDAExt\")\n",
      "│   Base.PkgId(Base.UUID(\"58f75c21-254d-53c4-ab12-ca382cd58dd6\"), \"SimpleNonlinearSolveReverseDiffExt\")\n",
      "│   Base.PkgId(Base.UUID(\"90d8b1a4-4ff6-5c56-8cd9-0f1832f7d8af\"), \"WeightInitializersCUDAExt\")\n",
      "│   Base.PkgId(Base.UUID(\"7792a7ef-975c-4747-a70f-980b88e8d1da\"), \"StrideArraysCore\")\n",
      "│   Base.PkgId(Base.UUID(\"6e36e845-645a-534a-86f2-f5d4aa5a06b4\"), \"DynamicalSystemsBase\")\n",
      "│   Base.PkgId(Base.UUID(\"9f7883ad-71c0-57eb-9f7f-b5c9e6d3789c\"), \"Tracker\")\n",
      "│   Base.PkgId(Base.UUID(\"358294b1-0aab-51c3-aafe-ad5ab194a2ad\"), \"OrdinaryDiffEqStabilizedRK\")\n",
      "│   Base.PkgId(Base.UUID(\"669c94d9-1f4b-4b64-b377-1aa079aa2388\"), \"OrdinaryDiffEqSSPRK\")\n",
      "│   Base.PkgId(Base.UUID(\"338a49bd-c049-5b4c-976b-5ff9d2bfb7e7\"), \"MLDataDevicesOneHotArraysExt\")\n",
      "│   Base.PkgId(Base.UUID(\"b638a555-8f07-5bb7-814d-c429cc18ac6b\"), \"FluxEnzymeExt\")\n",
      "│   Base.PkgId(Base.UUID(\"56c15bac-5c7d-45b6-b0e6-74117a5d8120\"), \"NODEData\")\n",
      "│   Base.PkgId(Base.UUID(\"ca12507f-4cf6-5922-b1f9-e0da61ef4aa8\"), \"NNlibSpecialFunctionsExt\")\n",
      "│   Base.PkgId(Base.UUID(\"8494477e-8a74-521a-b11a-5a22161b1bc8\"), \"NonlinearSolveBaseSparseArraysExt\")\n",
      "│   Base.PkgId(Base.UUID(\"052768ef-5323-5732-b1bb-66c8b64840ba\"), \"CUDA\")\n",
      "│   Base.PkgId(Base.UUID(\"85068d23-b5fb-53f1-8204-05c2aba6942f\"), \"SparseArraysExt\")\n",
      "│   Base.PkgId(Base.UUID(\"13011619-4c7c-5ef0-948f-5fc81565cd05\"), \"AtomixCUDAExt\")\n",
      "│   Base.PkgId(Base.UUID(\"37b8f99f-6f97-57a3-b9f9-a4dd545e3a97\"), \"MLDataDevicesZygoteExt\")\n",
      "│   Base.PkgId(Base.UUID(\"1ed8b502-d754-442c-8d5d-10ac956f44a1\"), \"SciMLSensitivity\")\n",
      "│   Base.PkgId(Base.UUID(\"5d45cd70-030a-50f9-801c-65d027cb0d7a\"), \"DifferentiationInterfaceTrackerExt\")\n",
      "│   Base.PkgId(Base.UUID(\"7c2d2b1e-3dd4-11ea-355a-8f6a8116e294\"), \"ReservoirComputing\")\n",
      "│   Base.PkgId(Base.UUID(\"06b0261c-7a9b-5753-9bdf-fd6840237b4a\"), \"StaticArrayInterfaceStaticArraysExt\")\n",
      "│   Base.PkgId(Base.UUID(\"af6ede74-add8-4cfd-b1df-9a4dbb109d7a\"), \"OrdinaryDiffEqRKN\")\n",
      "│   Base.PkgId(Base.UUID(\"26075421-4e9a-44e1-8bd1-420ed7ad02b2\"), \"NonlinearSolveSpectralMethods\")\n",
      "│   Base.PkgId(Base.UUID(\"53ae85a6-f571-4167-b2af-e1d143709226\"), \"SciMLStructures\")\n",
      "│   Base.PkgId(Base.UUID(\"18fca43e-4a0b-515d-9822-068bb149f8e9\"), \"NonlinearSolveSpectralMethodsForwardDiffExt\")\n",
      "│   Base.PkgId(Base.UUID(\"7ed4a6bd-45f5-4d41-b270-4a48e9bafcae\"), \"LinearSolve\")\n",
      "│   Base.PkgId(Base.UUID(\"04162be5-8125-4266-98ed-640baecc6514\"), \"OrdinaryDiffEqQPRK\")\n",
      "│   Base.PkgId(Base.UUID(\"14203109-85fb-5f77-af23-1cb7d9032242\"), \"RecursiveArrayToolsForwardDiffExt\")\n",
      "│   Base.PkgId(Base.UUID(\"2203d700-20ca-554d-9228-defc17349bb5\"), \"ZygoteTrackerExt\")\n",
      "│   Base.PkgId(Base.UUID(\"4131c53f-b1d6-5635-a7a3-57f6f930b644\"), \"DiffEqBaseSparseArraysExt\")\n",
      "│   Base.PkgId(Base.UUID(\"e24d4dde-ed20-5ee7-b465-f1dd73f9b6ba\"), \"LinearSolveCUDAExt\")\n",
      "│   Base.PkgId(Base.UUID(\"723d033e-e474-5c37-8984-530550ab56d4\"), \"PreallocationToolsReverseDiffExt\")\n",
      "│   Base.PkgId(Base.UUID(\"eb0c05c4-6780-5852-a67e-5d31d2970b9a\"), \"ArrayInterfaceTrackerExt\")\n",
      "│   Base.PkgId(Base.UUID(\"5959db7a-ea39-4486-b5fe-2dd0bf03d60d\"), \"NonlinearSolveFirstOrder\")\n",
      "│   Base.PkgId(Base.UUID(\"d236fae5-4411-538c-8e31-a6e3d9e00b46\"), \"PreallocationTools\")\n",
      "│   Base.PkgId(Base.UUID(\"8fc09678-be9c-5e02-9277-3b8563c9ff11\"), \"SparseDiffToolsZygoteExt\")\n",
      "│   Base.PkgId(Base.UUID(\"a2df0a61-553a-563b-aed7-0ce21874eb58\"), \"SciMLOperatorsStaticArraysCoreExt\")\n",
      "│   Base.PkgId(Base.UUID(\"42296aa8-c874-5f57-b5c1-8d6f5ebd5400\"), \"RecursiveArrayToolsFastBroadcastExt\")\n",
      "│   Base.PkgId(Base.UUID(\"0bca4576-84f4-4d90-8ffe-ffa030f20462\"), \"SciMLBase\")\n",
      "│   Base.PkgId(Base.UUID(\"78064ecb-8a7e-51fd-a998-f0197ddca326\"), \"DiffEqBaseCUDAExt\")\n",
      "│   Base.PkgId(Base.UUID(\"d28bc4f8-55e1-4f49-af69-84c1a99f0f58\"), \"OrdinaryDiffEqHighOrderRK\")\n",
      "│   Base.PkgId(Base.UUID(\"b0944070-b475-4768-8dec-fb6eb410534d\"), \"OrdinaryDiffEqLowStorageRK\")\n",
      "│   Base.PkgId(Base.UUID(\"fa646aed-7ef9-47eb-84c4-9443fc8cbfa8\"), \"OrdinaryDiffEqSymplecticRK\")\n",
      "│   Base.PkgId(Base.UUID(\"e3e12d00-db14-5390-b879-ac3dd2ef6296\"), \"OrdinaryDiffEqStabilizedIRK\")\n",
      "│   Base.PkgId(Base.UUID(\"b7a43d79-68b1-555e-8052-5fba48570bb1\"), \"MLDataDevicesGPUArraysExt\")\n",
      "│   Base.PkgId(Base.UUID(\"1344f307-1e59-4825-a18e-ace9aa3fa4c6\"), \"OrdinaryDiffEqLowOrderRK\")\n",
      "│   Base.PkgId(Base.UUID(\"e0540318-69ee-4070-8777-9e2de6de23de\"), \"OrdinaryDiffEqExponentialRK\")\n",
      "│   Base.PkgId(Base.UUID(\"c8a29c40-e0ac-5e6e-8984-8da3115ac879\"), \"NNlibEnzymeCoreExt\")\n",
      "│   Base.PkgId(Base.UUID(\"f030c83e-7d7f-544f-a855-333e4a237e34\"), \"DiffEqBaseMeasurementsExt\")\n",
      "│   Base.PkgId(Base.UUID(\"6044458a-139e-583a-bc2f-a730a9b54282\"), \"DifferentiationInterfaceFiniteDiffExt\")\n",
      "│   Base.PkgId(Base.UUID(\"7034ab61-46d4-4ed7-9d0f-46aef9175898\"), \"FastBroadcast\")\n",
      "│   Base.PkgId(Base.UUID(\"4302a76b-040a-498a-8c04-15b101fed76b\"), \"OrdinaryDiffEqDifferentiation\")\n",
      "│   Base.PkgId(Base.UUID(\"d4d017d3-3776-5f7e-afef-a10c40355c18\"), \"ExponentialUtilities\")\n",
      "│   Base.PkgId(Base.UUID(\"ac004708-0488-5d74-bdd8-3e2743d441a0\"), \"SimpleNonlinearSolveTrackerExt\")\n",
      "│   Base.PkgId(Base.UUID(\"127b3ac7-2247-4354-8eb6-78cf4e7c58e8\"), \"OrdinaryDiffEqNonlinearSolve\")\n",
      "│   Base.PkgId(Base.UUID(\"9f049cbb-7c7d-5dfe-91f7-cf323d5306ff\"), \"SparseDiffToolsPolyesterExt\")\n",
      "│   Base.PkgId(Base.UUID(\"cbbf52aa-d660-55d4-8a5a-33845bbaa85d\"), \"StructArraysGPUArraysCoreExt\")\n",
      "│   Base.PkgId(Base.UUID(\"2d112036-d095-4a1e-ab9a-08536f3ecdbf\"), \"OrdinaryDiffEqSDIRK\")\n",
      "│   Base.PkgId(Base.UUID(\"6283b665-1224-52f5-a8f0-5953a1198cc4\"), \"RecursiveArrayToolsZygoteExt\")\n",
      "│   Base.PkgId(Base.UUID(\"87fe0de2-c867-4266-b59a-2f0a94fc965b\"), \"LineSearch\")\n",
      "│   Base.PkgId(Base.UUID(\"66d79d19-2cc4-5b0b-ac7a-b340256d1ecd\"), \"LinearAlgebraExt\")\n",
      "│   Base.PkgId(Base.UUID(\"6425d1ab-ad86-5f6e-82f1-f5118e0dc800\"), \"EnzymeExt\")\n",
      "│   Base.PkgId(Base.UUID(\"4676cac9-c8e0-5d6e-a4e0-e3351593cdf5\"), \"SciMLBaseChainRulesCoreExt\")\n",
      "│   Base.PkgId(Base.UUID(\"becaefa8-8ca2-5cf9-886d-c06f3d2bd2c4\"), \"OrdinaryDiffEqExtrapolation\")\n",
      "│   Base.PkgId(Base.UUID(\"dc05e6ec-7185-572c-9405-d65ccff0d4b4\"), \"RecursiveArrayToolsMeasurementsExt\")\n",
      "│   Base.PkgId(Base.UUID(\"79d7bb75-1356-48c1-b8c0-6832512096c2\"), \"OrdinaryDiffEqVerner\")\n",
      "│   Base.PkgId(Base.UUID(\"073a8d7d-86ee-5d75-9348-f9bf6155b014\"), \"SimpleNonlinearSolveChainRulesCoreExt\")\n",
      "│   Base.PkgId(Base.UUID(\"459566f4-90b8-5000-8ac3-15dfb0a30def\"), \"DiffEqCallbacks\")\n",
      "│   Base.PkgId(Base.UUID(\"96386cae-6b62-59ad-b532-a94eae05753e\"), \"NNlibFFTWExt\")\n",
      "│   Base.PkgId(Base.UUID(\"24f3332a-0dc5-5d65-94b6-25e75cab9690\"), \"DiffEqBaseDistributionsExt\")\n",
      "│   Base.PkgId(Base.UUID(\"c0aeaf25-5076-4817-a8d5-81caf7dfa961\"), \"SciMLOperators\")\n",
      "│   Base.PkgId(Base.UUID(\"731186ca-8d62-57ce-b412-fbd966d074cd\"), \"RecursiveArrayTools\")\n",
      "│   Base.PkgId(Base.UUID(\"d3d80556-e9d4-5f37-9878-2ab0fcc64255\"), \"LineSearches\")\n",
      "│   Base.PkgId(Base.UUID(\"101fe9f7-ebb6-4678-b671-3a81e7194747\"), \"OrdinaryDiffEqFeagin\")\n",
      "│   Base.PkgId(Base.UUID(\"f3fd9213-ca85-4dba-9dfd-7fc91308fec7\"), \"Attractors\")\n",
      "│   Base.PkgId(Base.UUID(\"2b5f629d-d688-5b77-993f-72d75c75574e\"), \"DiffEqBase\")\n",
      "│   Base.PkgId(Base.UUID(\"082447d4-558c-5d27-93f4-14fc19e9eca2\"), \"ChainRules\")\n",
      "│   Base.PkgId(Base.UUID(\"9a2c21bd-3a47-402d-9113-8faf9a0ee114\"), \"NonlinearSolveQuasiNewton\")\n",
      "│   Base.PkgId(Base.UUID(\"07510ace-05c5-59ac-8535-cc0df8d4a157\"), \"RecursiveArrayToolsStructArraysExt\")\n",
      "│   Base.PkgId(Base.UUID(\"73e54eaf-3344-511d-b088-1ac5413eca63\"), \"RecursiveArrayToolsSparseArraysExt\")\n",
      "│   Base.PkgId(Base.UUID(\"904f2055-56f7-5591-b06b-453cba458f4b\"), \"SimpleNonlinearSolveDiffEqBaseExt\")\n",
      "│   Base.PkgId(Base.UUID(\"f78586ac-ba87-5ec7-b3a5-84bc1b258ee3\"), \"ArrayInterfaceCUDAExt\")\n",
      "│   Base.PkgId(Base.UUID(\"429524aa-4258-5aef-a3af-852621145aeb\"), \"Optim\")\n",
      "│   Base.PkgId(Base.UUID(\"608a59af-f2a3-5ad4-90b4-758bdf3122a7\"), \"ChaosTools\")\n",
      "│   Base.PkgId(Base.UUID(\"413474bb-43f3-55e9-965b-d5648011ca3f\"), \"TrackerPDMatsExt\")\n",
      "│   Base.PkgId(Base.UUID(\"fb6a15b2-703c-40df-9091-08a04967cfa9\"), \"CloseOpenIntervals\")\n",
      "│   Base.PkgId(Base.UUID(\"54891929-e0db-55d3-b096-c0f3ec60df6b\"), \"SciMLBaseMLStyleExt\")\n",
      "│   Base.PkgId(Base.UUID(\"19f34311-ddf3-4b8b-af20-060888a46c0e\"), \"SciMLJacobianOperators\")\n",
      "│   Base.PkgId(Base.UUID(\"a65b7766-7c26-554a-8b8d-165d7f96f890\"), \"NonlinearSolveBaseLineSearchExt\")\n",
      "│   Base.PkgId(Base.UUID(\"527f56d1-b64a-561a-bf18-c49fb85fda5d\"), \"DiffEqNoiseProcessReverseDiffExt\")\n",
      "│   Base.PkgId(Base.UUID(\"77a26b50-5914-5dd7-bc55-306e6241c503\"), \"DiffEqNoiseProcess\")\n",
      "│   Base.PkgId(Base.UUID(\"201bfbae-74a9-54d9-992e-8e72788965ed\"), \"RecursiveArrayToolsTrackerExt\")\n",
      "│   Base.PkgId(Base.UUID(\"392c259a-06a8-538e-8884-4698e7892fb5\"), \"SciMLBaseZygoteExt\")\n",
      "│   Base.PkgId(Base.UUID(\"c5f39a36-1949-51cd-b5fc-0f226c89d745\"), \"RecursiveArrayToolsReverseDiffExt\")\n",
      "│   Base.PkgId(Base.UUID(\"aeb06bb4-539b-5a1b-8332-034ed9f8ca66\"), \"DiffEqBaseUnitfulExt\")\n",
      "│   Base.PkgId(Base.UUID(\"e68c091a-8ea5-5ca7-be4f-380657d4ad79\"), \"ZygoteColorsExt\")\n",
      "│   Base.PkgId(Base.UUID(\"1ba67e42-7aa7-5162-ac9b-c09642cdebbf\"), \"DiffEqBaseTrackerExt\")\n",
      "│   Base.PkgId(Base.UUID(\"3d4538b4-647b-544e-b0c2-b52d0495c932\"), \"NonlinearSolveBaseLinearSolveExt\")\n",
      "│   Base.PkgId(Base.UUID(\"c9986a66-5c92-4813-8696-a7ec84c806c8\"), \"OrdinaryDiffEqNordsieck\")\n",
      "│   Base.PkgId(Base.UUID(\"92f8d58f-31a9-439a-b05e-792ebdf1e7ff\"), \"enso_project\")\n",
      "│   Base.PkgId(Base.UUID(\"f08752e2-9bef-53a6-94a4-9c20ca55f0a4\"), \"DiffEqBaseEnzymeExt\")\n",
      "│   Base.PkgId(Base.UUID(\"5960d6e9-dd7a-4743-88e7-cf307b64f125\"), \"OrdinaryDiffEqFIRK\")\n",
      "│   Base.PkgId(Base.UUID(\"58a0a981-ddd9-5446-b230-82741bf17c47\"), \"DiffEqBaseReverseDiffExt\")\n",
      "│   Base.PkgId(Base.UUID(\"c3ed20f3-746d-5a71-99a7-df1cca8c2b90\"), \"EnzymeCoreExt\")\n",
      "│   Base.PkgId(Base.UUID(\"c6a149b2-afdf-53b0-83bb-237b19d30693\"), \"MLDataDevicesRecursiveArrayToolsExt\")\n",
      "│   Base.PkgId(Base.UUID(\"e8958739-db86-5f80-9e4c-f7c96aa15038\"), \"NNlibForwardDiffExt\")\n",
      "│   Base.PkgId(Base.UUID(\"a0bd8381-04c7-5287-82b0-0bf1e59008be\"), \"NonlinearSolveBaseDiffEqBaseExt\")\n",
      "│   Base.PkgId(Base.UUID(\"727e6d20-b764-4bd8-a329-72de5adea6c7\"), \"SimpleNonlinearSolve\")\n",
      "│   Base.PkgId(Base.UUID(\"ebee3dfe-b9aa-5535-b9a3-b63281c92313\"), \"MLDataDevicesMLUtilsExt\")\n",
      "│   Base.PkgId(Base.UUID(\"be0214bd-f91f-a760-ac4e-3421ce2b2da0\"), \"NonlinearSolveBase\")\n",
      "│   Base.PkgId(Base.UUID(\"9f002381-b378-40b7-97a6-27a27c83f129\"), \"OrdinaryDiffEqIMEXMultistep\")\n",
      "│   Base.PkgId(Base.UUID(\"2efcf032-c050-4f8e-a9bb-153293bab1f5\"), \"SymbolicIndexingInterface\")\n",
      "│   Base.PkgId(Base.UUID(\"bbc9ae08-70e9-50a1-83a4-36e0af391677\"), \"DifferentiationInterfaceZygoteExt\")\n",
      "│   Base.PkgId(Base.UUID(\"9985400b-97ec-5583-b534-4f70b643bcf7\"), \"SciMLOperatorsSparseArraysExt\")\n",
      "│   Base.PkgId(Base.UUID(\"8673388c-2cec-59d7-825e-32163c06c3e1\"), \"ArrayInterfaceChainRulesExt\")\n",
      "│   Base.PkgId(Base.UUID(\"31e2f376-db9e-427a-b76e-a14f56347a14\"), \"PredefinedDynamicalSystems\")\n",
      "│   Base.PkgId(Base.UUID(\"e88e6eb3-aa80-5325-afca-941959d7151f\"), \"Zygote\")\n",
      "│   Base.PkgId(Base.UUID(\"f1d291b0-491e-4a28-83b9-f70985020b54\"), \"MLUtils\")\n",
      "└ @ Base.Precompilation precompilation.jl:511\n",
      "\u001b[91m\u001b[1mERROR: \u001b[22m\u001b[39mLoadError: IOError: unlink(\"C:\\\\Users\\\\lihel\\\\.julia\\\\compiled\\\\v1.11\\\\OneHotArrays\\\\tlvsG_gMeKK.ji\"): resource busy or locked (EBUSY)\n",
      "Stacktrace:\n",
      "  [1] \u001b[0m\u001b[1muv_error\u001b[22m\n",
      "\u001b[90m    @\u001b[39m \u001b[90m.\\\u001b[39m\u001b[90m\u001b[4mlibuv.jl:106\u001b[24m\u001b[39m\u001b[90m [inlined]\u001b[39m\n",
      "  [2] \u001b[0m\u001b[1munlink\u001b[22m\u001b[0m\u001b[1m(\u001b[22m\u001b[90mp\u001b[39m::\u001b[0mString\u001b[0m\u001b[1m)\u001b[22m\n",
      "\u001b[90m    @\u001b[39m \u001b[90mBase.Filesystem\u001b[39m \u001b[90m.\\\u001b[39m\u001b[90m\u001b[4mfile.jl:1105\u001b[24m\u001b[39m\n",
      "  [3] \u001b[0m\u001b[1mrm\u001b[22m\u001b[0m\u001b[1m(\u001b[22m\u001b[90mpath\u001b[39m::\u001b[0mString; \u001b[90mforce\u001b[39m::\u001b[0mBool, \u001b[90mrecursive\u001b[39m::\u001b[0mBool\u001b[0m\u001b[1m)\u001b[22m\n",
      "\u001b[90m    @\u001b[39m \u001b[90mBase.Filesystem\u001b[39m \u001b[90m.\\\u001b[39m\u001b[90m\u001b[4mfile.jl:283\u001b[24m\u001b[39m\n",
      "  [4] \u001b[0m\u001b[1mrm\u001b[22m\n",
      "\u001b[90m    @\u001b[39m \u001b[90m.\\\u001b[39m\u001b[90m\u001b[4mfile.jl:273\u001b[24m\u001b[39m\u001b[90m [inlined]\u001b[39m\n",
      "  [5] \u001b[0m\u001b[1mcheckfor_mv_cp_cptree\u001b[22m\u001b[0m\u001b[1m(\u001b[22m\u001b[90msrc\u001b[39m::\u001b[0mString, \u001b[90mdst\u001b[39m::\u001b[0mString, \u001b[90mtxt\u001b[39m::\u001b[0mString; \u001b[90mforce\u001b[39m::\u001b[0mBool\u001b[0m\u001b[1m)\u001b[22m\n",
      "\u001b[90m    @\u001b[39m \u001b[90mBase.Filesystem\u001b[39m \u001b[90m.\\\u001b[39m\u001b[90m\u001b[4mfile.jl:332\u001b[24m\u001b[39m\n",
      "  [6] \u001b[0m\u001b[1mcheckfor_mv_cp_cptree\u001b[22m\n",
      "\u001b[90m    @\u001b[39m \u001b[90m.\\\u001b[39m\u001b[90m\u001b[4mfile.jl:318\u001b[24m\u001b[39m\u001b[90m [inlined]\u001b[39m\n",
      "  [7] \u001b[0m\u001b[1mcp\u001b[22m\u001b[0m\u001b[1m(\u001b[22m\u001b[90msrc\u001b[39m::\u001b[0mString, \u001b[90mdst\u001b[39m::\u001b[0mString; \u001b[90mforce\u001b[39m::\u001b[0mBool, \u001b[90mfollow_symlinks\u001b[39m::\u001b[0mBool\u001b[0m\u001b[1m)\u001b[22m\n",
      "\u001b[90m    @\u001b[39m \u001b[90mBase.Filesystem\u001b[39m \u001b[90m.\\\u001b[39m\u001b[90m\u001b[4mfile.jl:380\u001b[24m\u001b[39m\n",
      "  [8] \u001b[0m\u001b[1mcp\u001b[22m\n",
      "\u001b[90m    @\u001b[39m \u001b[90m.\\\u001b[39m\u001b[90m\u001b[4mfile.jl:378\u001b[24m\u001b[39m\u001b[90m [inlined]\u001b[39m\n",
      "  [9] \u001b[0m\u001b[1mrename\u001b[22m\u001b[0m\u001b[1m(\u001b[22m\u001b[90msrc\u001b[39m::\u001b[0mString, \u001b[90mdst\u001b[39m::\u001b[0mString; \u001b[90mforce\u001b[39m::\u001b[0mBool\u001b[0m\u001b[1m)\u001b[22m\n",
      "\u001b[90m    @\u001b[39m \u001b[90mBase.Filesystem\u001b[39m \u001b[90m.\\\u001b[39m\u001b[90m\u001b[4mfile.jl:1114\u001b[24m\u001b[39m\n",
      " [10] \u001b[0m\u001b[1mrename\u001b[22m\n",
      "\u001b[90m    @\u001b[39m \u001b[90m.\\\u001b[39m\u001b[90m\u001b[4mfile.jl:1110\u001b[24m\u001b[39m\u001b[90m [inlined]\u001b[39m\n",
      " [11] \u001b[0m\u001b[1mcompilecache\u001b[22m\u001b[0m\u001b[1m(\u001b[22m\u001b[90mpkg\u001b[39m::\u001b[0mBase.PkgId, \u001b[90mpath\u001b[39m::\u001b[0mString, \u001b[90minternal_stderr\u001b[39m::\u001b[0mIO, \u001b[90minternal_stdout\u001b[39m::\u001b[0mIO, \u001b[90mkeep_loaded_modules\u001b[39m::\u001b[0mBool; \u001b[90mflags\u001b[39m::\u001b[0mCmd, \u001b[90mcacheflags\u001b[39m::\u001b[0mBase.CacheFlags, \u001b[90mreasons\u001b[39m::\u001b[0mDict\u001b[90m{String, Int64}\u001b[39m, \u001b[90misext\u001b[39m::\u001b[0mBool\u001b[0m\u001b[1m)\u001b[22m\n",
      "\u001b[90m    @\u001b[39m \u001b[90mBase\u001b[39m \u001b[90m.\\\u001b[39m\u001b[90m\u001b[4mloading.jl:3072\u001b[24m\u001b[39m\n",
      " [12] \u001b[0m\u001b[1m(::Base.var\"#1082#1083\"{Base.PkgId})\u001b[22m\u001b[0m\u001b[1m(\u001b[22m\u001b[0m\u001b[1m)\u001b[22m\n",
      "\u001b[90m    @\u001b[39m \u001b[90mBase\u001b[39m \u001b[90m.\\\u001b[39m\u001b[90m\u001b[4mloading.jl:2492\u001b[24m\u001b[39m\n",
      " [13] \u001b[0m\u001b[1mmkpidlock\u001b[22m\u001b[0m\u001b[1m(\u001b[22m\u001b[90mf\u001b[39m::\u001b[0mBase.var\"#1082#1083\"\u001b[90m{Base.PkgId}\u001b[39m, \u001b[90mat\u001b[39m::\u001b[0mString, \u001b[90mpid\u001b[39m::\u001b[0mInt32; \u001b[90mkwopts\u001b[39m::\u001b[0m@Kwargs\u001b[90m{stale_age::Int64, wait::Bool}\u001b[39m\u001b[0m\u001b[1m)\u001b[22m\n",
      "\u001b[90m    @\u001b[39m \u001b[35mFileWatching.Pidfile\u001b[39m \u001b[90mC:\\Users\\lihel\\.julia\\juliaup\\julia-1.11.1+0.x64.w64.mingw32\\share\\julia\\stdlib\\v1.11\\FileWatching\\src\\\u001b[39m\u001b[90m\u001b[4mpidfile.jl:95\u001b[24m\u001b[39m\n",
      " [14] \u001b[0m\u001b[1m#mkpidlock#6\u001b[22m\n",
      "\u001b[90m    @\u001b[39m \u001b[90mC:\\Users\\lihel\\.julia\\juliaup\\julia-1.11.1+0.x64.w64.mingw32\\share\\julia\\stdlib\\v1.11\\FileWatching\\src\\\u001b[39m\u001b[90m\u001b[4mpidfile.jl:90\u001b[24m\u001b[39m\u001b[90m [inlined]\u001b[39m\n",
      " [15] \u001b[0m\u001b[1mtrymkpidlock\u001b[22m\u001b[0m\u001b[1m(\u001b[22m::\u001b[0mFunction, ::\u001b[0mVararg\u001b[90m{Any}\u001b[39m; \u001b[90mkwargs\u001b[39m::\u001b[0m@Kwargs\u001b[90m{stale_age::Int64}\u001b[39m\u001b[0m\u001b[1m)\u001b[22m\n",
      "\u001b[90m    @\u001b[39m \u001b[35mFileWatching.Pidfile\u001b[39m \u001b[90mC:\\Users\\lihel\\.julia\\juliaup\\julia-1.11.1+0.x64.w64.mingw32\\share\\julia\\stdlib\\v1.11\\FileWatching\\src\\\u001b[39m\u001b[90m\u001b[4mpidfile.jl:116\u001b[24m\u001b[39m\n",
      " [16] \u001b[0m\u001b[1m#invokelatest#2\u001b[22m\n",
      "\u001b[90m    @\u001b[39m \u001b[90m.\\\u001b[39m\u001b[90m\u001b[4messentials.jl:1057\u001b[24m\u001b[39m\u001b[90m [inlined]\u001b[39m\n",
      " [17] \u001b[0m\u001b[1minvokelatest\u001b[22m\n",
      "\u001b[90m    @\u001b[39m \u001b[90m.\\\u001b[39m\u001b[90m\u001b[4messentials.jl:1052\u001b[24m\u001b[39m\u001b[90m [inlined]\u001b[39m\n",
      " [18] \u001b[0m\u001b[1mmaybe_cachefile_lock\u001b[22m\u001b[0m\u001b[1m(\u001b[22m\u001b[90mf\u001b[39m::\u001b[0mBase.var\"#1082#1083\"\u001b[90m{Base.PkgId}\u001b[39m, \u001b[90mpkg\u001b[39m::\u001b[0mBase.PkgId, \u001b[90msrcpath\u001b[39m::\u001b[0mString; \u001b[90mstale_age\u001b[39m::\u001b[0mInt64\u001b[0m\u001b[1m)\u001b[22m\n",
      "\u001b[90m    @\u001b[39m \u001b[90mBase\u001b[39m \u001b[90m.\\\u001b[39m\u001b[90m\u001b[4mloading.jl:3609\u001b[24m\u001b[39m\n",
      " [19] \u001b[0m\u001b[1mmaybe_cachefile_lock\u001b[22m\n",
      "\u001b[90m    @\u001b[39m \u001b[90m.\\\u001b[39m\u001b[90m\u001b[4mloading.jl:3606\u001b[24m\u001b[39m\u001b[90m [inlined]\u001b[39m\n",
      " [20] \u001b[0m\u001b[1m_require\u001b[22m\u001b[0m\u001b[1m(\u001b[22m\u001b[90mpkg\u001b[39m::\u001b[0mBase.PkgId, \u001b[90menv\u001b[39m::\u001b[0mString\u001b[0m\u001b[1m)\u001b[22m\n",
      "\u001b[90m    @\u001b[39m \u001b[90mBase\u001b[39m \u001b[90m.\\\u001b[39m\u001b[90m\u001b[4mloading.jl:2488\u001b[24m\u001b[39m\n",
      " [21] \u001b[0m\u001b[1m__require_prelocked\u001b[22m\u001b[0m\u001b[1m(\u001b[22m\u001b[90muuidkey\u001b[39m::\u001b[0mBase.PkgId, \u001b[90menv\u001b[39m::\u001b[0mString\u001b[0m\u001b[1m)\u001b[22m\n",
      "\u001b[90m    @\u001b[39m \u001b[90mBase\u001b[39m \u001b[90m.\\\u001b[39m\u001b[90m\u001b[4mloading.jl:2315\u001b[24m\u001b[39m\n",
      " [22] \u001b[0m\u001b[1m#invoke_in_world#3\u001b[22m\n",
      "\u001b[90m    @\u001b[39m \u001b[90m.\\\u001b[39m\u001b[90m\u001b[4messentials.jl:1089\u001b[24m\u001b[39m\u001b[90m [inlined]\u001b[39m\n",
      " [23] \u001b[0m\u001b[1minvoke_in_world\u001b[22m\n",
      "\u001b[90m    @\u001b[39m \u001b[90m.\\\u001b[39m\u001b[90m\u001b[4messentials.jl:1086\u001b[24m\u001b[39m\u001b[90m [inlined]\u001b[39m\n",
      " [24] \u001b[0m\u001b[1m_require_prelocked\u001b[22m\u001b[0m\u001b[1m(\u001b[22m\u001b[90muuidkey\u001b[39m::\u001b[0mBase.PkgId, \u001b[90menv\u001b[39m::\u001b[0mString\u001b[0m\u001b[1m)\u001b[22m\n",
      "\u001b[90m    @\u001b[39m \u001b[90mBase\u001b[39m \u001b[90m.\\\u001b[39m\u001b[90m\u001b[4mloading.jl:2302\u001b[24m\u001b[39m\n",
      " [25] \u001b[0m\u001b[1mmacro expansion\u001b[22m\n",
      "\u001b[90m    @\u001b[39m \u001b[90m.\\\u001b[39m\u001b[90m\u001b[4mloading.jl:2241\u001b[24m\u001b[39m\u001b[90m [inlined]\u001b[39m\n",
      " [26] \u001b[0m\u001b[1mmacro expansion\u001b[22m\n",
      "\u001b[90m    @\u001b[39m \u001b[90m.\\\u001b[39m\u001b[90m\u001b[4mlock.jl:273\u001b[24m\u001b[39m\u001b[90m [inlined]\u001b[39m\n",
      " [27] \u001b[0m\u001b[1m__require\u001b[22m\u001b[0m\u001b[1m(\u001b[22m\u001b[90minto\u001b[39m::\u001b[0mModule, \u001b[90mmod\u001b[39m::\u001b[0mSymbol\u001b[0m\u001b[1m)\u001b[22m\n",
      "\u001b[90m    @\u001b[39m \u001b[90mBase\u001b[39m \u001b[90m.\\\u001b[39m\u001b[90m\u001b[4mloading.jl:2198\u001b[24m\u001b[39m\n",
      " [28] \u001b[0m\u001b[1m#invoke_in_world#3\u001b[22m\n",
      "\u001b[90m    @\u001b[39m \u001b[90m.\\\u001b[39m\u001b[90m\u001b[4messentials.jl:1089\u001b[24m\u001b[39m\u001b[90m [inlined]\u001b[39m\n",
      " [29] \u001b[0m\u001b[1minvoke_in_world\u001b[22m\n",
      "\u001b[90m    @\u001b[39m \u001b[90m.\\\u001b[39m\u001b[90m\u001b[4messentials.jl:1086\u001b[24m\u001b[39m\u001b[90m [inlined]\u001b[39m\n",
      " [30] \u001b[0m\u001b[1mrequire\u001b[22m\u001b[0m\u001b[1m(\u001b[22m\u001b[90minto\u001b[39m::\u001b[0mModule, \u001b[90mmod\u001b[39m::\u001b[0mSymbol\u001b[0m\u001b[1m)\u001b[22m\n",
      "\u001b[90m    @\u001b[39m \u001b[90mBase\u001b[39m \u001b[90m.\\\u001b[39m\u001b[90m\u001b[4mloading.jl:2191\u001b[24m\u001b[39m\n",
      " [31] \u001b[0m\u001b[1minclude\u001b[22m\n",
      "\u001b[90m    @\u001b[39m \u001b[90m.\\\u001b[39m\u001b[90m\u001b[4mBase.jl:557\u001b[24m\u001b[39m\u001b[90m [inlined]\u001b[39m\n",
      " [32] \u001b[0m\u001b[1minclude_package_for_output\u001b[22m\u001b[0m\u001b[1m(\u001b[22m\u001b[90mpkg\u001b[39m::\u001b[0mBase.PkgId, \u001b[90minput\u001b[39m::\u001b[0mString, \u001b[90mdepot_path\u001b[39m::\u001b[0mVector\u001b[90m{String}\u001b[39m, \u001b[90mdl_load_path\u001b[39m::\u001b[0mVector\u001b[90m{String}\u001b[39m, \u001b[90mload_path\u001b[39m::\u001b[0mVector\u001b[90m{String}\u001b[39m, \u001b[90mconcrete_deps\u001b[39m::\u001b[0mVector\u001b[90m{Pair{Base.PkgId, UInt128}}\u001b[39m, \u001b[90msource\u001b[39m::\u001b[0mString\u001b[0m\u001b[1m)\u001b[22m\n",
      "\u001b[90m    @\u001b[39m \u001b[90mBase\u001b[39m \u001b[90m.\\\u001b[39m\u001b[90m\u001b[4mloading.jl:2790\u001b[24m\u001b[39m\n",
      " [33] top-level scope\n",
      "\u001b[90m    @\u001b[39m \u001b[90m\u001b[4mstdin:5\u001b[24m\u001b[39m\n",
      "in expression starting at C:\\Users\\lihel\\.julia\\packages\\Flux\\3711C\\src\\Flux.jl:1\n",
      "in expression starting at stdin:5\n",
      "\u001b[91m\u001b[1mERROR: \u001b[22m\u001b[39mLoadError: Failed to precompile Flux [587475ba-b771-5e3f-ad9e-33799f191a9c] to \"C:\\\\Users\\\\lihel\\\\.julia\\\\compiled\\\\v1.11\\\\Flux\\\\jl_AEED.tmp\".\n",
      "Stacktrace:\n",
      "  [1] \u001b[0m\u001b[1merror\u001b[22m\u001b[0m\u001b[1m(\u001b[22m\u001b[90ms\u001b[39m::\u001b[0mString\u001b[0m\u001b[1m)\u001b[22m\n",
      "\u001b[90m    @\u001b[39m \u001b[90mBase\u001b[39m \u001b[90m.\\\u001b[39m\u001b[90m\u001b[4merror.jl:35\u001b[24m\u001b[39m\n",
      "  [2] \u001b[0m\u001b[1mcompilecache\u001b[22m\u001b[0m\u001b[1m(\u001b[22m\u001b[90mpkg\u001b[39m::\u001b[0mBase.PkgId, \u001b[90mpath\u001b[39m::\u001b[0mString, \u001b[90minternal_stderr\u001b[39m::\u001b[0mIO, \u001b[90minternal_stdout\u001b[39m::\u001b[0mIO, \u001b[90mkeep_loaded_modules\u001b[39m::\u001b[0mBool; \u001b[90mflags\u001b[39m::\u001b[0mCmd, \u001b[90mcacheflags\u001b[39m::\u001b[0mBase.CacheFlags, \u001b[90mreasons\u001b[39m::\u001b[0mDict\u001b[90m{String, Int64}\u001b[39m, \u001b[90misext\u001b[39m::\u001b[0mBool\u001b[0m\u001b[1m)\u001b[22m\n",
      "\u001b[90m    @\u001b[39m \u001b[90mBase\u001b[39m \u001b[90m.\\\u001b[39m\u001b[90m\u001b[4mloading.jl:3085\u001b[24m\u001b[39m\n",
      "  [3] \u001b[0m\u001b[1m(::Base.var\"#1082#1083\"{Base.PkgId})\u001b[22m\u001b[0m\u001b[1m(\u001b[22m\u001b[0m\u001b[1m)\u001b[22m\n",
      "\u001b[90m    @\u001b[39m \u001b[90mBase\u001b[39m \u001b[90m.\\\u001b[39m\u001b[90m\u001b[4mloading.jl:2492\u001b[24m\u001b[39m\n",
      "  [4] \u001b[0m\u001b[1mmkpidlock\u001b[22m\u001b[0m\u001b[1m(\u001b[22m\u001b[90mf\u001b[39m::\u001b[0mBase.var\"#1082#1083\"\u001b[90m{Base.PkgId}\u001b[39m, \u001b[90mat\u001b[39m::\u001b[0mString, \u001b[90mpid\u001b[39m::\u001b[0mInt32; \u001b[90mkwopts\u001b[39m::\u001b[0m@Kwargs\u001b[90m{stale_age::Int64, wait::Bool}\u001b[39m\u001b[0m\u001b[1m)\u001b[22m\n",
      "\u001b[90m    @\u001b[39m \u001b[35mFileWatching.Pidfile\u001b[39m \u001b[90mC:\\Users\\lihel\\.julia\\juliaup\\julia-1.11.1+0.x64.w64.mingw32\\share\\julia\\stdlib\\v1.11\\FileWatching\\src\\\u001b[39m\u001b[90m\u001b[4mpidfile.jl:95\u001b[24m\u001b[39m\n",
      "  [5] \u001b[0m\u001b[1m#mkpidlock#6\u001b[22m\n",
      "\u001b[90m    @\u001b[39m \u001b[90mC:\\Users\\lihel\\.julia\\juliaup\\julia-1.11.1+0.x64.w64.mingw32\\share\\julia\\stdlib\\v1.11\\FileWatching\\src\\\u001b[39m\u001b[90m\u001b[4mpidfile.jl:90\u001b[24m\u001b[39m\u001b[90m [inlined]\u001b[39m\n",
      "  [6] \u001b[0m\u001b[1mtrymkpidlock\u001b[22m\u001b[0m\u001b[1m(\u001b[22m::\u001b[0mFunction, ::\u001b[0mVararg\u001b[90m{Any}\u001b[39m; \u001b[90mkwargs\u001b[39m::\u001b[0m@Kwargs\u001b[90m{stale_age::Int64}\u001b[39m\u001b[0m\u001b[1m)\u001b[22m\n",
      "\u001b[90m    @\u001b[39m \u001b[35mFileWatching.Pidfile\u001b[39m \u001b[90mC:\\Users\\lihel\\.julia\\juliaup\\julia-1.11.1+0.x64.w64.mingw32\\share\\julia\\stdlib\\v1.11\\FileWatching\\src\\\u001b[39m\u001b[90m\u001b[4mpidfile.jl:116\u001b[24m\u001b[39m\n",
      "  [7] \u001b[0m\u001b[1m#invokelatest#2\u001b[22m\n",
      "\u001b[90m    @\u001b[39m \u001b[90m.\\\u001b[39m\u001b[90m\u001b[4messentials.jl:1057\u001b[24m\u001b[39m\u001b[90m [inlined]\u001b[39m\n",
      "  [8] \u001b[0m\u001b[1minvokelatest\u001b[22m\n",
      "\u001b[90m    @\u001b[39m \u001b[90m.\\\u001b[39m\u001b[90m\u001b[4messentials.jl:1052\u001b[24m\u001b[39m\u001b[90m [inlined]\u001b[39m\n",
      "  [9] \u001b[0m\u001b[1mmaybe_cachefile_lock\u001b[22m\u001b[0m\u001b[1m(\u001b[22m\u001b[90mf\u001b[39m::\u001b[0mBase.var\"#1082#1083\"\u001b[90m{Base.PkgId}\u001b[39m, \u001b[90mpkg\u001b[39m::\u001b[0mBase.PkgId, \u001b[90msrcpath\u001b[39m::\u001b[0mString; \u001b[90mstale_age\u001b[39m::\u001b[0mInt64\u001b[0m\u001b[1m)\u001b[22m\n",
      "\u001b[90m    @\u001b[39m \u001b[90mBase\u001b[39m \u001b[90m.\\\u001b[39m\u001b[90m\u001b[4mloading.jl:3609\u001b[24m\u001b[39m\n",
      " [10] \u001b[0m\u001b[1mmaybe_cachefile_lock\u001b[22m\n",
      "\u001b[90m    @\u001b[39m \u001b[90m.\\\u001b[39m\u001b[90m\u001b[4mloading.jl:3606\u001b[24m\u001b[39m\u001b[90m [inlined]\u001b[39m\n",
      " [11] \u001b[0m\u001b[1m_require\u001b[22m\u001b[0m\u001b[1m(\u001b[22m\u001b[90mpkg\u001b[39m::\u001b[0mBase.PkgId, \u001b[90menv\u001b[39m::\u001b[0mString\u001b[0m\u001b[1m)\u001b[22m\n",
      "\u001b[90m    @\u001b[39m \u001b[90mBase\u001b[39m \u001b[90m.\\\u001b[39m\u001b[90m\u001b[4mloading.jl:2488\u001b[24m\u001b[39m\n",
      " [12] \u001b[0m\u001b[1m__require_prelocked\u001b[22m\u001b[0m\u001b[1m(\u001b[22m\u001b[90muuidkey\u001b[39m::\u001b[0mBase.PkgId, \u001b[90menv\u001b[39m::\u001b[0mString\u001b[0m\u001b[1m)\u001b[22m\n",
      "\u001b[90m    @\u001b[39m \u001b[90mBase\u001b[39m \u001b[90m.\\\u001b[39m\u001b[90m\u001b[4mloading.jl:2315\u001b[24m\u001b[39m\n",
      " [13] \u001b[0m\u001b[1m#invoke_in_world#3\u001b[22m\n",
      "\u001b[90m    @\u001b[39m \u001b[90m.\\\u001b[39m\u001b[90m\u001b[4messentials.jl:1089\u001b[24m\u001b[39m\u001b[90m [inlined]\u001b[39m\n",
      " [14] \u001b[0m\u001b[1minvoke_in_world\u001b[22m\n",
      "\u001b[90m    @\u001b[39m \u001b[90m.\\\u001b[39m\u001b[90m\u001b[4messentials.jl:1086\u001b[24m\u001b[39m\u001b[90m [inlined]\u001b[39m\n",
      " [15] \u001b[0m\u001b[1m_require_prelocked\u001b[22m\u001b[0m\u001b[1m(\u001b[22m\u001b[90muuidkey\u001b[39m::\u001b[0mBase.PkgId, \u001b[90menv\u001b[39m::\u001b[0mString\u001b[0m\u001b[1m)\u001b[22m\n",
      "\u001b[90m    @\u001b[39m \u001b[90mBase\u001b[39m \u001b[90m.\\\u001b[39m\u001b[90m\u001b[4mloading.jl:2302\u001b[24m\u001b[39m\n",
      " [16] \u001b[0m\u001b[1mmacro expansion\u001b[22m\n",
      "\u001b[90m    @\u001b[39m \u001b[90m.\\\u001b[39m\u001b[90m\u001b[4mloading.jl:2241\u001b[24m\u001b[39m\u001b[90m [inlined]\u001b[39m\n",
      " [17] \u001b[0m\u001b[1mmacro expansion\u001b[22m\n",
      "\u001b[90m    @\u001b[39m \u001b[90m.\\\u001b[39m\u001b[90m\u001b[4mlock.jl:273\u001b[24m\u001b[39m\u001b[90m [inlined]\u001b[39m\n",
      " [18] \u001b[0m\u001b[1m__require\u001b[22m\u001b[0m\u001b[1m(\u001b[22m\u001b[90minto\u001b[39m::\u001b[0mModule, \u001b[90mmod\u001b[39m::\u001b[0mSymbol\u001b[0m\u001b[1m)\u001b[22m\n",
      "\u001b[90m    @\u001b[39m \u001b[90mBase\u001b[39m \u001b[90m.\\\u001b[39m\u001b[90m\u001b[4mloading.jl:2198\u001b[24m\u001b[39m\n",
      " [19] \u001b[0m\u001b[1m#invoke_in_world#3\u001b[22m\n",
      "\u001b[90m    @\u001b[39m \u001b[90m.\\\u001b[39m\u001b[90m\u001b[4messentials.jl:1089\u001b[24m\u001b[39m\u001b[90m [inlined]\u001b[39m\n",
      " [20] \u001b[0m\u001b[1minvoke_in_world\u001b[22m\n",
      "\u001b[90m    @\u001b[39m \u001b[90m.\\\u001b[39m\u001b[90m\u001b[4messentials.jl:1086\u001b[24m\u001b[39m\u001b[90m [inlined]\u001b[39m\n",
      " [21] \u001b[0m\u001b[1mrequire\u001b[22m\u001b[0m\u001b[1m(\u001b[22m\u001b[90minto\u001b[39m::\u001b[0mModule, \u001b[90mmod\u001b[39m::\u001b[0mSymbol\u001b[0m\u001b[1m)\u001b[22m\n",
      "\u001b[90m    @\u001b[39m \u001b[90mBase\u001b[39m \u001b[90m.\\\u001b[39m\u001b[90m\u001b[4mloading.jl:2191\u001b[24m\u001b[39m\n",
      " [22] \u001b[0m\u001b[1minclude\u001b[22m\n",
      "\u001b[90m    @\u001b[39m \u001b[90m.\\\u001b[39m\u001b[90m\u001b[4mBase.jl:557\u001b[24m\u001b[39m\u001b[90m [inlined]\u001b[39m\n",
      " [23] \u001b[0m\u001b[1minclude_package_for_output\u001b[22m\u001b[0m\u001b[1m(\u001b[22m\u001b[90mpkg\u001b[39m::\u001b[0mBase.PkgId, \u001b[90minput\u001b[39m::\u001b[0mString, \u001b[90mdepot_path\u001b[39m::\u001b[0mVector\u001b[90m{String}\u001b[39m, \u001b[90mdl_load_path\u001b[39m::\u001b[0mVector\u001b[90m{String}\u001b[39m, \u001b[90mload_path\u001b[39m::\u001b[0mVector\u001b[90m{String}\u001b[39m, \u001b[90mconcrete_deps\u001b[39m::\u001b[0mVector\u001b[90m{Pair{Base.PkgId, UInt128}}\u001b[39m, \u001b[90msource\u001b[39m::\u001b[0mString\u001b[0m\u001b[1m)\u001b[22m\n",
      "\u001b[90m    @\u001b[39m \u001b[90mBase\u001b[39m \u001b[90m.\\\u001b[39m\u001b[90m\u001b[4mloading.jl:2790\u001b[24m\u001b[39m\n",
      " [24] top-level scope\n",
      "\u001b[90m    @\u001b[39m \u001b[90m\u001b[4mstdin:5\u001b[24m\u001b[39m\n",
      "in expression starting at C:\\Users\\lihel\\Documents\\enso_project.jl\\src\\enso_project.jl:1\n",
      "in expression starting at stdin:5\n"
     ]
    },
    {
     "ename": "ErrorException",
     "evalue": "Failed to precompile enso_project [92f8d58f-31a9-439a-b05e-792ebdf1e7ff] to \"C:\\\\Users\\\\lihel\\\\.julia\\\\compiled\\\\v1.11\\\\enso_project\\\\jl_9DE6.tmp\".",
     "output_type": "error",
     "traceback": [
      "Failed to precompile enso_project [92f8d58f-31a9-439a-b05e-792ebdf1e7ff] to \"C:\\\\Users\\\\lihel\\\\.julia\\\\compiled\\\\v1.11\\\\enso_project\\\\jl_9DE6.tmp\".\n",
      "\n",
      "Stacktrace:\n",
      "  [1] error(s::String)\n",
      "    @ Base .\\error.jl:35\n",
      "  [2] compilecache(pkg::Base.PkgId, path::String, internal_stderr::IO, internal_stdout::IO, keep_loaded_modules::Bool; flags::Cmd, cacheflags::Base.CacheFlags, reasons::Dict{String, Int64}, isext::Bool)\n",
      "    @ Base .\\loading.jl:3085\n",
      "  [3] (::Base.var\"#1082#1083\"{Base.PkgId})()\n",
      "    @ Base .\\loading.jl:2492\n",
      "  [4] mkpidlock(f::Base.var\"#1082#1083\"{Base.PkgId}, at::String, pid::Int32; kwopts::@Kwargs{stale_age::Int64, wait::Bool})\n",
      "    @ FileWatching.Pidfile C:\\Users\\lihel\\.julia\\juliaup\\julia-1.11.1+0.x64.w64.mingw32\\share\\julia\\stdlib\\v1.11\\FileWatching\\src\\pidfile.jl:95\n",
      "  [5] #mkpidlock#6\n",
      "    @ C:\\Users\\lihel\\.julia\\juliaup\\julia-1.11.1+0.x64.w64.mingw32\\share\\julia\\stdlib\\v1.11\\FileWatching\\src\\pidfile.jl:90 [inlined]\n",
      "  [6] trymkpidlock(::Function, ::Vararg{Any}; kwargs::@Kwargs{stale_age::Int64})\n",
      "    @ FileWatching.Pidfile C:\\Users\\lihel\\.julia\\juliaup\\julia-1.11.1+0.x64.w64.mingw32\\share\\julia\\stdlib\\v1.11\\FileWatching\\src\\pidfile.jl:116\n",
      "  [7] #invokelatest#2\n",
      "    @ .\\essentials.jl:1057 [inlined]\n",
      "  [8] invokelatest\n",
      "    @ .\\essentials.jl:1052 [inlined]\n",
      "  [9] maybe_cachefile_lock(f::Base.var\"#1082#1083\"{Base.PkgId}, pkg::Base.PkgId, srcpath::String; stale_age::Int64)\n",
      "    @ Base .\\loading.jl:3609\n",
      " [10] maybe_cachefile_lock\n",
      "    @ .\\loading.jl:3606 [inlined]\n",
      " [11] _require(pkg::Base.PkgId, env::String)\n",
      "    @ Base .\\loading.jl:2488\n",
      " [12] __require_prelocked(uuidkey::Base.PkgId, env::String)\n",
      "    @ Base .\\loading.jl:2315\n",
      " [13] #invoke_in_world#3\n",
      "    @ .\\essentials.jl:1089 [inlined]\n",
      " [14] invoke_in_world\n",
      "    @ .\\essentials.jl:1086 [inlined]\n",
      " [15] _require_prelocked(uuidkey::Base.PkgId, env::String)\n",
      "    @ Base .\\loading.jl:2302\n",
      " [16] macro expansion\n",
      "    @ .\\loading.jl:2241 [inlined]\n",
      " [17] macro expansion\n",
      "    @ .\\lock.jl:273 [inlined]\n",
      " [18] __require(into::Module, mod::Symbol)\n",
      "    @ Base .\\loading.jl:2198\n",
      " [19] #invoke_in_world#3\n",
      "    @ .\\essentials.jl:1089 [inlined]\n",
      " [20] invoke_in_world\n",
      "    @ .\\essentials.jl:1086 [inlined]\n",
      " [21] require(into::Module, mod::Symbol)\n",
      "    @ Base .\\loading.jl:2191\n",
      " [22] eval\n",
      "    @ .\\boot.jl:430 [inlined]\n",
      " [23] include_string(mapexpr::typeof(REPL.softscope), mod::Module, code::String, filename::String)\n",
      "    @ Base .\\loading.jl:2643\n",
      " [24] #invokelatest#2\n",
      "    @ .\\essentials.jl:1055 [inlined]\n",
      " [25] invokelatest\n",
      "    @ .\\essentials.jl:1052 [inlined]\n",
      " [26] (::VSCodeServer.var\"#217#218\"{VSCodeServer.NotebookRunCellArguments, String})()\n",
      "    @ VSCodeServer c:\\Users\\lihel\\.vscode\\extensions\\julialang.language-julia-1.127.2\\scripts\\packages\\VSCodeServer\\src\\serve_notebook.jl:24\n",
      " [27] withpath(f::VSCodeServer.var\"#217#218\"{VSCodeServer.NotebookRunCellArguments, String}, path::String)\n",
      "    @ VSCodeServer c:\\Users\\lihel\\.vscode\\extensions\\julialang.language-julia-1.127.2\\scripts\\packages\\VSCodeServer\\src\\repl.jl:276\n",
      " [28] notebook_runcell_request(conn::VSCodeServer.JSONRPC.JSONRPCEndpoint{Base.PipeEndpoint, Base.PipeEndpoint}, params::VSCodeServer.NotebookRunCellArguments)\n",
      "    @ VSCodeServer c:\\Users\\lihel\\.vscode\\extensions\\julialang.language-julia-1.127.2\\scripts\\packages\\VSCodeServer\\src\\serve_notebook.jl:13\n",
      " [29] dispatch_msg(x::VSCodeServer.JSONRPC.JSONRPCEndpoint{Base.PipeEndpoint, Base.PipeEndpoint}, dispatcher::VSCodeServer.JSONRPC.MsgDispatcher, msg::Dict{String, Any})\n",
      "    @ VSCodeServer.JSONRPC c:\\Users\\lihel\\.vscode\\extensions\\julialang.language-julia-1.127.2\\scripts\\packages\\JSONRPC\\src\\typed.jl:67\n",
      " [30] serve_notebook(pipename::String, debugger_pipename::String, outputchannel_logger::Base.CoreLogging.SimpleLogger; error_handler::var\"#5#10\"{String})\n",
      "    @ VSCodeServer c:\\Users\\lihel\\.vscode\\extensions\\julialang.language-julia-1.127.2\\scripts\\packages\\VSCodeServer\\src\\serve_notebook.jl:147\n",
      " [31] top-level scope\n",
      "    @ c:\\Users\\lihel\\.vscode\\extensions\\julialang.language-julia-1.127.2\\scripts\\notebook\\notebook.jl:35"
     ]
    }
   ],
   "source": [
    "using ReservoirComputing, CSV, DataFrames, DynamicalSystems, Plots, enso_project"
   ]
  },
  {
   "cell_type": "code",
   "execution_count": null,
   "metadata": {},
   "outputs": [],
   "source": [
    "# read and format input data for all splits\n",
    "splits = [20,40,50,60,70,80]\n",
    "data = Dict()\n",
    "\n",
    "for s in splits\n",
    "\n",
    "    # set dict keys\n",
    "    key_train = \"train_data_$s\"\n",
    "    key_test = \"test_data_$s\"\n",
    "    key_val = \"val_data_$s\"\n",
    "\n",
    "    # read input data\n",
    "    data[key_train] = CSV.read(\"data/sst_34_data_split_$s/train_sst_34_anomaly_embedded_$s.txt\", DataFrame; delim=',', ignorerepeated=true)\n",
    "    data[key_test] = CSV.read(\"data/sst_34_data_split_$s/test_sst_34_anomaly_embedded_$s.txt\", DataFrame; delim=',', ignorerepeated=true)\n",
    "    data[key_val] = CSV.read(\"data/sst_34_data_split_$s/val_sst_34_anomaly_embedded_$s.txt\", DataFrame; delim=',', ignorerepeated=true)\n",
    "   \n",
    "    # bring into correct format\n",
    "    data[key_train] = Matrix(transpose(Matrix(data[key_train])))\n",
    "    data[key_test] = Matrix(transpose(Matrix(data[key_test])))\n",
    "    data[key_val] = Matrix(transpose(Matrix(data[key_val])))\n",
    "end\n",
    "\n",
    "data"
   ]
  },
  {
   "cell_type": "markdown",
   "metadata": {},
   "source": [
    "## Network Training on Different Data Splits\n",
    "We train the network in the same manner for six different data splits. For each data split, we try our a set of different hyperparameters."
   ]
  },
  {
   "cell_type": "markdown",
   "metadata": {},
   "source": [
    "### Hyperparameter Tuning\n",
    "For each data split, we choose suitable hyperparameters by performing a grid search."
   ]
  },
  {
   "cell_type": "markdown",
   "metadata": {},
   "source": [
    "\n",
    "We create the hyperparameter grid as follows:\n",
    "- We observe that too big reservoir sizes cause singular matrices in the linear regression (due to too little training data), thus we adapt the reservoir size to be adequately small compared to the amount of training data. This means, that the reserovir sizes are changed in each data split.\n",
    "- to ensure the Echo State Property the spectral radius should be smaller than 1 (unless long memory is required). We try out different combinations.\n",
    "- a sparsity of 0.1 is usually recommended, we test different values around 0.1\n",
    "- a input scale of 0.1 is recommended by the literature\n",
    "- we try ridge params as suggested in the lecture"
   ]
  },
  {
   "cell_type": "code",
   "execution_count": null,
   "metadata": {},
   "outputs": [],
   "source": [
    "# set up universal parameter options of parameter grid\n",
    "spectral_radii = [0.8, 0.9, 1.0]\n",
    "sparsities = [0.05, 0.08, 0.1, 0.12, 0.14]\n",
    "input_scales = [0.1]\n",
    "ridge_values = [0.0, 1e-6, 1e-5]"
   ]
  },
  {
   "cell_type": "markdown",
   "metadata": {},
   "source": [
    "### Training Data Split 20%"
   ]
  },
  {
   "cell_type": "markdown",
   "metadata": {},
   "source": [
    "train = 20%,\n",
    "val =  70%,\n",
    "test = 10%"
   ]
  },
  {
   "cell_type": "markdown",
   "metadata": {},
   "source": [
    "We see that smaller reservoir sizes around 10 are favoured and adapt the parameter grid accordingly."
   ]
  },
  {
   "cell_type": "code",
   "execution_count": null,
   "metadata": {},
   "outputs": [],
   "source": [
    "# set reservoir sizes according to amount of training data\n",
    "reservoir_sizes = [8, 9, 10, 11, 12, 13, 14, 15, 16, 17, 18, 19, 20, 30, 40]\n",
    "\n",
    "param_grid_20 = enso_project.create_param_grid(reservoir_sizes, spectral_radii, sparsities, input_scales, ridge_values)\n",
    "\n",
    "length(param_grid_20)"
   ]
  },
  {
   "cell_type": "code",
   "execution_count": null,
   "metadata": {},
   "outputs": [],
   "source": [
    "# network training\n",
    "esn_20, W_out_20 = enso_project.cross_validate_esn(data[\"train_data_20\"], data[\"val_data_20\"], param_grid_20)"
   ]
  },
  {
   "cell_type": "markdown",
   "metadata": {},
   "source": [
    "the validation loss is quite high after training."
   ]
  },
  {
   "cell_type": "code",
   "execution_count": null,
   "metadata": {},
   "outputs": [],
   "source": [
    "enso_project.plot_esn_prediction(esn_20, W_out_20, data[\"test_data_20\"])"
   ]
  },
  {
   "cell_type": "markdown",
   "metadata": {},
   "source": [
    "a visual analysis also yields that the perfomance is not good. We need more training data for a good prediction."
   ]
  },
  {
   "cell_type": "markdown",
   "metadata": {},
   "source": [
    "### Training Data Split 40%"
   ]
  },
  {
   "cell_type": "markdown",
   "metadata": {},
   "source": [
    "train = 40%,\n",
    "val =  50%,\n",
    "test = 10%"
   ]
  },
  {
   "cell_type": "code",
   "execution_count": null,
   "metadata": {},
   "outputs": [],
   "source": [
    "# set reservoir sizes according to amount of training data\n",
    "reservoir_sizes = [9, 10, 12, 14, 16, 18, 20, 30, 40, 50]\n",
    "param_grid_40 = enso_project.create_param_grid(reservoir_sizes, spectral_radii, sparsities, input_scales, ridge_values)\n",
    "length(param_grid_40)"
   ]
  },
  {
   "cell_type": "code",
   "execution_count": null,
   "metadata": {},
   "outputs": [],
   "source": [
    "# network training\n",
    "esn_40, W_out_40 = enso_project.cross_validate_esn(data[\"train_data_40\"], data[\"val_data_40\"], param_grid_40)"
   ]
  },
  {
   "cell_type": "markdown",
   "metadata": {},
   "source": [
    "the validation loss is significantly smaller than in the previous 20% split, but still high"
   ]
  },
  {
   "cell_type": "code",
   "execution_count": null,
   "metadata": {},
   "outputs": [],
   "source": [
    "enso_project.plot_esn_prediction(esn_40, W_out_40, data[\"test_data_40\"])"
   ]
  },
  {
   "cell_type": "markdown",
   "metadata": {},
   "source": [
    "We see that the prediction is still not very accurate, although the dynamics are captured a bit better."
   ]
  },
  {
   "cell_type": "markdown",
   "metadata": {},
   "source": [
    "### Training Data Split 50%"
   ]
  },
  {
   "cell_type": "markdown",
   "metadata": {},
   "source": [
    "train = 50%,\n",
    "val =  40%,\n",
    "test = 10%"
   ]
  },
  {
   "cell_type": "code",
   "execution_count": null,
   "metadata": {},
   "outputs": [],
   "source": [
    "# set reservoir sizes according to amount of training data\n",
    "reservoir_sizes = [9, 10, 12, 14, 16, 18, 20, 30, 40, 50]\n",
    "param_grid_50 = enso_project.create_param_grid(reservoir_sizes, spectral_radii, sparsities, input_scales, ridge_values)\n",
    "length(param_grid_50)"
   ]
  },
  {
   "cell_type": "code",
   "execution_count": null,
   "metadata": {},
   "outputs": [],
   "source": [
    "# network training\n",
    "esn_50, W_out_50 = enso_project.cross_validate_esn(data[\"train_data_50\"], data[\"val_data_50\"], param_grid_50)"
   ]
  },
  {
   "cell_type": "markdown",
   "metadata": {},
   "source": [
    "the validation loss decreased a bit."
   ]
  },
  {
   "cell_type": "code",
   "execution_count": null,
   "metadata": {},
   "outputs": [],
   "source": [
    "enso_project.plot_esn_prediction(esn_50, W_out_50, data[\"test_data_50\"])"
   ]
  },
  {
   "cell_type": "markdown",
   "metadata": {},
   "source": [
    "The prediciton captures the dynamics of the system quite well for approximately 30 months."
   ]
  },
  {
   "cell_type": "markdown",
   "metadata": {},
   "source": [
    "### Training Data Split 60%"
   ]
  },
  {
   "cell_type": "markdown",
   "metadata": {},
   "source": [
    "train = 60%,\n",
    "val =  30%,\n",
    "test = 10%"
   ]
  },
  {
   "cell_type": "code",
   "execution_count": null,
   "metadata": {},
   "outputs": [],
   "source": [
    "# set reservoir sizes according to amount of training data\n",
    "reservoir_sizes = [10, 14, 15, 18, 20, 22, 24, 26, 28, 30, 35, 40, 50]\n",
    "param_grid_60 = enso_project.create_param_grid(reservoir_sizes, spectral_radii, sparsities, input_scales, ridge_values)\n",
    "length(param_grid_60)"
   ]
  },
  {
   "cell_type": "code",
   "execution_count": null,
   "metadata": {},
   "outputs": [],
   "source": [
    "# network training\n",
    "esn_60, W_out_60 = enso_project.cross_validate_esn(data[\"train_data_60\"], data[\"val_data_60\"], param_grid_60)"
   ]
  },
  {
   "cell_type": "markdown",
   "metadata": {},
   "source": [
    "The more data is used for training, the more the validation loss decreases"
   ]
  },
  {
   "cell_type": "code",
   "execution_count": null,
   "metadata": {},
   "outputs": [],
   "source": [
    "enso_project.plot_esn_prediction(esn_60, W_out_60, data[\"test_data_60\"])"
   ]
  },
  {
   "cell_type": "markdown",
   "metadata": {},
   "source": [
    "The predicitons for the first 30 months get more accurate."
   ]
  },
  {
   "cell_type": "markdown",
   "metadata": {},
   "source": [
    "### Training Data Split 70%"
   ]
  },
  {
   "cell_type": "markdown",
   "metadata": {},
   "source": [
    "train = 70%,\n",
    "val =  20%,\n",
    "test = 10%"
   ]
  },
  {
   "cell_type": "code",
   "execution_count": null,
   "metadata": {},
   "outputs": [],
   "source": [
    "# set reservoir sizes according to amount of training data\n",
    "reservoir_sizes = [ 40, 50, 60, 62, 63, 64, 65, 66, 68, 70, 72, 74, 80, 90]\n",
    "param_grid_70 = enso_project.create_param_grid(reservoir_sizes, spectral_radii, sparsities, input_scales, ridge_values)\n",
    "length(param_grid_70)"
   ]
  },
  {
   "cell_type": "code",
   "execution_count": null,
   "metadata": {},
   "outputs": [],
   "source": [
    "# network training\n",
    "esn_70, W_out_70 = enso_project.cross_validate_esn(data[\"train_data_70\"], data[\"val_data_70\"], param_grid_70)"
   ]
  },
  {
   "cell_type": "code",
   "execution_count": null,
   "metadata": {},
   "outputs": [],
   "source": [
    "enso_project.plot_esn_prediction(esn_70, W_out_70, data[\"test_data_70\"])"
   ]
  },
  {
   "cell_type": "markdown",
   "metadata": {},
   "source": [
    "### Training Data Split 80%"
   ]
  },
  {
   "cell_type": "markdown",
   "metadata": {},
   "source": [
    "train = 80%,\n",
    "val =  10%,\n",
    "test = 10%"
   ]
  },
  {
   "cell_type": "code",
   "execution_count": null,
   "metadata": {},
   "outputs": [],
   "source": [
    "# set reservoir sizes according to amount of training data\n",
    "reservoir_sizes = [60, 70, 80, 90, 100, 110, 120, 122, 124, 126, 128, 130, 132, 134, 136, 138, 140, 150]\n",
    "param_grid_80 = enso_project.create_param_grid(reservoir_sizes, spectral_radii, sparsities, input_scales, ridge_values)\n",
    "length(param_grid_80)"
   ]
  },
  {
   "cell_type": "code",
   "execution_count": null,
   "metadata": {},
   "outputs": [],
   "source": [
    "# network training\n",
    "esn_80, W_out_80 = enso_project.cross_validate_esn(data[\"train_data_80\"], data[\"val_data_80\"], param_grid_80)"
   ]
  },
  {
   "cell_type": "markdown",
   "metadata": {},
   "source": [
    "very low validation loss for set of hyperparameters $(130,0.9,0.14,0.1,1.0e-5)$"
   ]
  },
  {
   "cell_type": "code",
   "execution_count": null,
   "metadata": {},
   "outputs": [],
   "source": [
    "enso_project.plot_esn_prediction(esn_80, W_out_80, data[\"test_data_80\"])"
   ]
  },
  {
   "cell_type": "markdown",
   "metadata": {},
   "source": [
    "very accurate prediction for up to 20 months."
   ]
  },
  {
   "cell_type": "code",
   "execution_count": null,
   "metadata": {},
   "outputs": [],
   "source": [
    "# plot against validation data\n",
    "enso_project.plot_esn_prediction(esn_80, W_out_80, data[\"val_data_80\"])"
   ]
  },
  {
   "cell_type": "code",
   "execution_count": null,
   "metadata": {},
   "outputs": [],
   "source": [
    "# plot against training data\n",
    "enso_project.plot_esn_prediction(esn_80, W_out_80, data[\"train_data_80\"])"
   ]
  },
  {
   "cell_type": "markdown",
   "metadata": {},
   "source": [
    "## Comparison of Data Splits"
   ]
  },
  {
   "cell_type": "markdown",
   "metadata": {},
   "source": [
    "put here plots of validation loss evolvement and one figure with all subplots"
   ]
  },
  {
   "cell_type": "markdown",
   "metadata": {},
   "source": [
    "TODO:\n",
    "- find a way to store best validation loss after cross validation\n",
    "- store all 6 losses in an array and line-plot"
   ]
  },
  {
   "cell_type": "markdown",
   "metadata": {},
   "source": [
    "## Evaluation of Prediction Accuracy"
   ]
  }
 ],
 "metadata": {
  "kernelspec": {
   "display_name": "Julia 1.11.1",
   "language": "julia",
   "name": "julia-1.11"
  },
  "language_info": {
   "file_extension": ".jl",
   "mimetype": "application/julia",
   "name": "julia",
   "version": "1.11.1"
  }
 },
 "nbformat": 4,
 "nbformat_minor": 2
}

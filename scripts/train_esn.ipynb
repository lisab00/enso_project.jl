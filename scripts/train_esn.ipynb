{
 "cells": [
  {
   "cell_type": "markdown",
   "metadata": {},
   "source": [
    "# Using an Echo-State Network to predict ENSO"
   ]
  },
  {
   "cell_type": "code",
   "execution_count": 1,
   "metadata": {},
   "outputs": [
    {
     "name": "stderr",
     "output_type": "stream",
     "text": [
      "\u001b[32m\u001b[1m  Activating\u001b[22m\u001b[39m project at `C:\\Users\\lihel\\Documents\\enso_project.jl`\n"
     ]
    }
   ],
   "source": [
    "cd(\"$(homedir())/Documents/enso_project.jl\")\n",
    "using Pkg\n",
    "Pkg.activate(\".\")"
   ]
  },
  {
   "cell_type": "code",
   "execution_count": 2,
   "metadata": {},
   "outputs": [
    {
     "name": "stderr",
     "output_type": "stream",
     "text": [
      "┌ Warning: Circular dependency detected. Precompilation will be skipped for:\n",
      "│   Base.PkgId(Base.UUID(\"e3ecd195-ca82-5397-9546-f380c1e34951\"), \"NonlinearSolveBaseSparseMatrixColoringsExt\")\n",
      "│   Base.PkgId(Base.UUID(\"385e4588-a1a0-5c1d-98fa-d45bf6f8ecf9\"), \"LinearSolveKernelAbstractionsExt\")\n",
      "│   Base.PkgId(Base.UUID(\"3bcf3b12-2128-5d18-8b3b-bcdd6f83637b\"), \"WeightInitializersGPUArraysExt\")\n",
      "│   Base.PkgId(Base.UUID(\"b00db79b-61e3-50fb-b26f-2d35b2d9e4ed\"), \"DiffEqBaseChainRulesCoreExt\")\n",
      "│   Base.PkgId(Base.UUID(\"8913a72c-1f9b-4ce2-8d82-65094dcecaec\"), \"NonlinearSolve\")\n",
      "│   Base.PkgId(Base.UUID(\"7edab7de-1038-5e4f-97a7-6bfc75d44324\"), \"NonlinearSolveQuasiNewtonForwardDiffExt\")\n",
      "│   Base.PkgId(Base.UUID(\"1dea7af3-3e70-54e6-95c3-0bf5283fa5ed\"), \"OrdinaryDiffEq\")\n",
      "│   Base.PkgId(Base.UUID(\"0d7ed370-da01-4f52-bd93-41d350b8b718\"), \"StaticArrayInterface\")\n",
      "│   Base.PkgId(Base.UUID(\"693f0f32-89f9-59b4-b981-3d79b82ef24b\"), \"SparseDiffToolsEnzymeExt\")\n",
      "│   Base.PkgId(Base.UUID(\"63d416d0-6995-5965-81e0-55251226d976\"), \"NonlinearSolveBaseForwardDiffExt\")\n",
      "│   Base.PkgId(Base.UUID(\"63c18a36-062a-441e-b654-da1e3ab1ce7c\"), \"KernelAbstractions\")\n",
      "│   Base.PkgId(Base.UUID(\"8d20b31a-8b56-511a-b573-0bef60e8c8c7\"), \"LineSearchLineSearchesExt\")\n",
      "│   Base.PkgId(Base.UUID(\"0b1bfda6-eb8a-41d2-88d8-f5af5cad476f\"), \"OneHotArrays\")\n",
      "│   Base.PkgId(Base.UUID(\"5865c103-18d1-586a-9b11-010bbc2260a8\"), \"ZygoteDistancesExt\")\n",
      "│   Base.PkgId(Base.UUID(\"d3585ca7-f5d3-4ba6-8057-292ed1abd90f\"), \"OrdinaryDiffEqFunctionMap\")\n",
      "│   Base.PkgId(Base.UUID(\"bb5d69b7-63fc-4a16-80bd-7e42200c7bdb\"), \"MaybeInplace\")\n",
      "│   Base.PkgId(Base.UUID(\"133222a9-3015-5ee0-8b28-65fc8ed13c28\"), \"LinearSolveEnzymeExt\")\n",
      "│   Base.PkgId(Base.UUID(\"f517fe37-dbe3-4b94-8317-1923a5111588\"), \"Polyester\")\n",
      "│   Base.PkgId(Base.UUID(\"521117fe-8c41-49f8-b3b6-30780b3f0fb5\"), \"OrdinaryDiffEqLinear\")\n",
      "│   Base.PkgId(Base.UUID(\"d41bc354-129a-5804-8e4c-c37616107c6c\"), \"NLSolversBase\")\n",
      "│   Base.PkgId(Base.UUID(\"587475ba-b771-5e3f-ad9e-33799f191a9c\"), \"Flux\")\n",
      "│   Base.PkgId(Base.UUID(\"699899dd-2948-59d9-a4f6-ce210f3f1f61\"), \"FiniteDiffSparseArraysExt\")\n",
      "│   Base.PkgId(Base.UUID(\"10f19ff3-798f-405d-979b-55457f8fc047\"), \"LayoutPointers\")\n",
      "│   Base.PkgId(Base.UUID(\"b1df2697-797e-41e3-8120-5422d3b24e4a\"), \"OrdinaryDiffEqTsit5\")\n",
      "│   Base.PkgId(Base.UUID(\"8a688d86-d2bc-5ad3-8ed1-384f9f2c8cc5\"), \"NNlibCUDAExt\")\n",
      "│   Base.PkgId(Base.UUID(\"6ad6398a-0878-4a85-9266-38940aa047c8\"), \"OrdinaryDiffEqBDF\")\n",
      "│   Base.PkgId(Base.UUID(\"8bfb2b13-0715-5af1-8e3a-77651e178280\"), \"RCSparseArraysExt\")\n",
      "│   Base.PkgId(Base.UUID(\"6a86dc24-6348-571c-b903-95158fe2bd41\"), \"FiniteDiff\")\n",
      "│   Base.PkgId(Base.UUID(\"eae2faf6-b232-58cb-a410-7764fda2830c\"), \"ChainRulesCoreExt\")\n",
      "│   Base.PkgId(Base.UUID(\"47a9eef4-7e08-11e9-0b38-333d64bd3804\"), \"SparseDiffTools\")\n",
      "│   Base.PkgId(Base.UUID(\"872c559c-99b0-510c-b3b7-b6c96a88d5cd\"), \"NNlib\")\n",
      "│   Base.PkgId(Base.UUID(\"5b33eab2-c0f1-4480-b2c3-94bc1e80bda1\"), \"OrdinaryDiffEqPRK\")\n",
      "│   Base.PkgId(Base.UUID(\"50262376-6c5a-4cf5-baba-aaf4f84d72d7\"), \"OrdinaryDiffEqDefault\")\n",
      "│   Base.PkgId(Base.UUID(\"ed55bfe0-3725-4db6-871e-a1dc9f42a757\"), \"BoundaryValueDiffEqShooting\")\n",
      "│   Base.PkgId(Base.UUID(\"7d52e85c-72bb-51a3-82f3-f6aed919620f\"), \"ExponentialUtilitiesStaticArraysExt\")\n",
      "│   Base.PkgId(Base.UUID(\"75b8c125-561c-596e-9db0-c79879254aa3\"), \"MLDataDevicesCUDAExt\")\n",
      "│   Base.PkgId(Base.UUID(\"1fe0b789-d9ca-5274-abe4-f8a8503e5a20\"), \"DiffEqBaseForwardDiffExt\")\n",
      "│   Base.PkgId(Base.UUID(\"bb716554-e89b-5af4-bfb6-0f88eb8bb218\"), \"BracketingNonlinearSolveForwardDiffExt\")\n",
      "│   Base.PkgId(Base.UUID(\"a8fab69c-de6f-5f74-aba3-bef19c2d033f\"), \"StaticArrayInterfaceOffsetArraysExt\")\n",
      "│   Base.PkgId(Base.UUID(\"61744808-ddfa-5f27-97ff-6e42cc95d634\"), \"DynamicalSystems\")\n",
      "│   Base.PkgId(Base.UUID(\"acf9803d-64eb-5f69-b965-a71e3e6e1ed4\"), \"LinearSolveSparseArraysExt\")\n",
      "│   Base.PkgId(Base.UUID(\"43230ef6-c299-4910-a778-202eb28ce4ce\"), \"OrdinaryDiffEqRosenbrock\")\n",
      "│   Base.PkgId(Base.UUID(\"9c97de4a-2903-5b9c-add6-4b1aaffe4ab8\"), \"MaybeInplaceSparseArraysExt\")\n",
      "│   Base.PkgId(Base.UUID(\"7227322d-7511-4e07-9247-ad6ff830280e\"), \"BoundaryValueDiffEqAscher\")\n",
      "│   Base.PkgId(Base.UUID(\"ccbc3e58-028d-4f4c-8cd5-9ae44345cda5\"), \"JumpProcesses\")\n",
      "│   Base.PkgId(Base.UUID(\"9672c7b4-1e72-59bd-8a11-6ac3964bc41f\"), \"SteadyStateDiffEq\")\n",
      "│   Base.PkgId(Base.UUID(\"5ef07d41-9f15-5fb1-919e-6a30dc1fea2b\"), \"MLDataDevicesChainRulesExt\")\n",
      "│   Base.PkgId(Base.UUID(\"89bda076-bce5-4f1c-845f-551c83cdda9a\"), \"OrdinaryDiffEqAdamsBashforthMoulton\")\n",
      "│   Base.PkgId(Base.UUID(\"75e56524-3a34-51de-85ea-03aa6eac4b64\"), \"FiniteDiffStaticArraysExt\")\n",
      "│   Base.PkgId(Base.UUID(\"9286f039-9fbf-40e8-bf65-aa933bdc4db0\"), \"OrdinaryDiffEqExplicitRK\")\n",
      "│   Base.PkgId(Base.UUID(\"70df07ce-3d50-431d-a3e7-ca6ddb60ac1e\"), \"BracketingNonlinearSolve\")\n",
      "│   Base.PkgId(Base.UUID(\"da5c29d0-fa7d-589e-88eb-ea29b0a81949\"), \"EllipsisNotation\")\n",
      "│   Base.PkgId(Base.UUID(\"bbf590c4-e513-4bbe-9b18-05decba2e5d8\"), \"OrdinaryDiffEqCore\")\n",
      "│   Base.PkgId(Base.UUID(\"1285c0f1-ff9f-5867-b66e-0f359bcf09ba\"), \"SpecialFunctionsExt\")\n",
      "│   Base.PkgId(Base.UUID(\"18c65b70-2546-5492-ac4c-dad4ac5611e8\"), \"FastPowerTrackerExt\")\n",
      "│   Base.PkgId(Base.UUID(\"ca1c724a-f4aa-55ef-b8e4-2f05449449ac\"), \"OrdinaryDiffEqCoreEnzymeCoreExt\")\n",
      "│   Base.PkgId(Base.UUID(\"0c68f7d7-f131-5f86-a1c3-88cf8149b2d7\"), \"GPUArrays\")\n",
      "│   Base.PkgId(Base.UUID(\"abc30e1f-b6a1-519c-974d-a38484004f35\"), \"MLDataDevicesTrackerExt\")\n",
      "│   Base.PkgId(Base.UUID(\"5dd0a6cf-3d4b-4314-aa06-06d4e299bc89\"), \"OrdinaryDiffEqPDIRK\")\n",
      "│   Base.PkgId(Base.UUID(\"dd41ee52-2073-581e-92e8-26baf003f19a\"), \"FluxCUDAExt\")\n",
      "│   Base.PkgId(Base.UUID(\"58f75c21-254d-53c4-ab12-ca382cd58dd6\"), \"SimpleNonlinearSolveReverseDiffExt\")\n",
      "│   Base.PkgId(Base.UUID(\"ae262b1c-8c8a-50b1-9ef3-b8fcfb893e74\"), \"NonlinearSolveNLsolveExt\")\n",
      "│   Base.PkgId(Base.UUID(\"90d8b1a4-4ff6-5c56-8cd9-0f1832f7d8af\"), \"WeightInitializersCUDAExt\")\n",
      "│   Base.PkgId(Base.UUID(\"7792a7ef-975c-4747-a70f-980b88e8d1da\"), \"StrideArraysCore\")\n",
      "│   Base.PkgId(Base.UUID(\"6e36e845-645a-534a-86f2-f5d4aa5a06b4\"), \"DynamicalSystemsBase\")\n",
      "│   Base.PkgId(Base.UUID(\"9f7883ad-71c0-57eb-9f7f-b5c9e6d3789c\"), \"Tracker\")\n",
      "│   Base.PkgId(Base.UUID(\"358294b1-0aab-51c3-aafe-ad5ab194a2ad\"), \"OrdinaryDiffEqStabilizedRK\")\n",
      "│   Base.PkgId(Base.UUID(\"669c94d9-1f4b-4b64-b377-1aa079aa2388\"), \"OrdinaryDiffEqSSPRK\")\n",
      "│   Base.PkgId(Base.UUID(\"338a49bd-c049-5b4c-976b-5ff9d2bfb7e7\"), \"MLDataDevicesOneHotArraysExt\")\n",
      "│   Base.PkgId(Base.UUID(\"b638a555-8f07-5bb7-814d-c429cc18ac6b\"), \"FluxEnzymeExt\")\n",
      "│   Base.PkgId(Base.UUID(\"56c15bac-5c7d-45b6-b0e6-74117a5d8120\"), \"NODEData\")\n",
      "│   Base.PkgId(Base.UUID(\"bcd4f6db-9728-5f36-b5f7-82caef46ccdb\"), \"DelayDiffEq\")\n",
      "│   Base.PkgId(Base.UUID(\"0c46a032-eb83-5123-abaf-570d42b7fbaa\"), \"DifferentialEquations\")\n",
      "│   Base.PkgId(Base.UUID(\"8494477e-8a74-521a-b11a-5a22161b1bc8\"), \"NonlinearSolveBaseSparseArraysExt\")\n",
      "│   Base.PkgId(Base.UUID(\"052768ef-5323-5732-b1bb-66c8b64840ba\"), \"CUDA\")\n",
      "│   Base.PkgId(Base.UUID(\"85068d23-b5fb-53f1-8204-05c2aba6942f\"), \"SparseArraysExt\")\n",
      "│   Base.PkgId(Base.UUID(\"13011619-4c7c-5ef0-948f-5fc81565cd05\"), \"AtomixCUDAExt\")\n",
      "│   Base.PkgId(Base.UUID(\"37b8f99f-6f97-57a3-b9f9-a4dd545e3a97\"), \"MLDataDevicesZygoteExt\")\n",
      "│   Base.PkgId(Base.UUID(\"1ed8b502-d754-442c-8d5d-10ac956f44a1\"), \"SciMLSensitivity\")\n",
      "│   Base.PkgId(Base.UUID(\"5d45cd70-030a-50f9-801c-65d027cb0d7a\"), \"DifferentiationInterfaceTrackerExt\")\n",
      "│   Base.PkgId(Base.UUID(\"7c2d2b1e-3dd4-11ea-355a-8f6a8116e294\"), \"ReservoirComputing\")\n",
      "│   Base.PkgId(Base.UUID(\"9522afde-9e86-5396-abc8-24b7312356fe\"), \"LinearSolveBandedMatricesExt\")\n",
      "│   Base.PkgId(Base.UUID(\"85d9eb09-370e-4000-bb32-543851f73618\"), \"BoundaryValueDiffEqFIRK\")\n",
      "│   Base.PkgId(Base.UUID(\"06b0261c-7a9b-5753-9bdf-fd6840237b4a\"), \"StaticArrayInterfaceStaticArraysExt\")\n",
      "│   Base.PkgId(Base.UUID(\"1a22d4ce-7765-49ea-b6f2-13c8438986a6\"), \"BoundaryValueDiffEqMIRK\")\n",
      "│   Base.PkgId(Base.UUID(\"af6ede74-add8-4cfd-b1df-9a4dbb109d7a\"), \"OrdinaryDiffEqRKN\")\n",
      "│   Base.PkgId(Base.UUID(\"26075421-4e9a-44e1-8bd1-420ed7ad02b2\"), \"NonlinearSolveSpectralMethods\")\n",
      "│   Base.PkgId(Base.UUID(\"53ae85a6-f571-4167-b2af-e1d143709226\"), \"SciMLStructures\")\n",
      "│   Base.PkgId(Base.UUID(\"18fca43e-4a0b-515d-9822-068bb149f8e9\"), \"NonlinearSolveSpectralMethodsForwardDiffExt\")\n",
      "│   Base.PkgId(Base.UUID(\"7ed4a6bd-45f5-4d41-b270-4a48e9bafcae\"), \"LinearSolve\")\n",
      "│   Base.PkgId(Base.UUID(\"04162be5-8125-4266-98ed-640baecc6514\"), \"OrdinaryDiffEqQPRK\")\n",
      "│   Base.PkgId(Base.UUID(\"14203109-85fb-5f77-af23-1cb7d9032242\"), \"RecursiveArrayToolsForwardDiffExt\")\n",
      "│   Base.PkgId(Base.UUID(\"2203d700-20ca-554d-9228-defc17349bb5\"), \"ZygoteTrackerExt\")\n",
      "│   Base.PkgId(Base.UUID(\"4131c53f-b1d6-5635-a7a3-57f6f930b644\"), \"DiffEqBaseSparseArraysExt\")\n",
      "│   Base.PkgId(Base.UUID(\"e24d4dde-ed20-5ee7-b465-f1dd73f9b6ba\"), \"LinearSolveCUDAExt\")\n",
      "│   Base.PkgId(Base.UUID(\"723d033e-e474-5c37-8984-530550ab56d4\"), \"PreallocationToolsReverseDiffExt\")\n",
      "│   Base.PkgId(Base.UUID(\"eb0c05c4-6780-5852-a67e-5d31d2970b9a\"), \"ArrayInterfaceTrackerExt\")\n",
      "│   Base.PkgId(Base.UUID(\"f3d6eb4f-59b9-5696-a638-eddf66c7554e\"), \"NonlinearSolveBaseBandedMatricesExt\")\n",
      "│   Base.PkgId(Base.UUID(\"5959db7a-ea39-4486-b5fe-2dd0bf03d60d\"), \"NonlinearSolveFirstOrder\")\n",
      "│   Base.PkgId(Base.UUID(\"d236fae5-4411-538c-8e31-a6e3d9e00b46\"), \"PreallocationTools\")\n",
      "│   Base.PkgId(Base.UUID(\"8fc09678-be9c-5e02-9277-3b8563c9ff11\"), \"SparseDiffToolsZygoteExt\")\n",
      "│   Base.PkgId(Base.UUID(\"a2df0a61-553a-563b-aed7-0ce21874eb58\"), \"SciMLOperatorsStaticArraysCoreExt\")\n",
      "│   Base.PkgId(Base.UUID(\"c3572dad-4567-51f8-b174-8c6c989267f4\"), \"Sundials\")\n",
      "│   Base.PkgId(Base.UUID(\"42296aa8-c874-5f57-b5c1-8d6f5ebd5400\"), \"RecursiveArrayToolsFastBroadcastExt\")\n",
      "│   Base.PkgId(Base.UUID(\"0bca4576-84f4-4d90-8ffe-ffa030f20462\"), \"SciMLBase\")\n",
      "│   Base.PkgId(Base.UUID(\"78064ecb-8a7e-51fd-a998-f0197ddca326\"), \"DiffEqBaseCUDAExt\")\n",
      "│   Base.PkgId(Base.UUID(\"f94f2e43-4c39-5f8d-ab9c-7017feb07ff4\"), \"LinearSolveFastAlmostBandedMatricesExt\")\n",
      "│   Base.PkgId(Base.UUID(\"d28bc4f8-55e1-4f49-af69-84c1a99f0f58\"), \"OrdinaryDiffEqHighOrderRK\")\n",
      "│   Base.PkgId(Base.UUID(\"b0944070-b475-4768-8dec-fb6eb410534d\"), \"OrdinaryDiffEqLowStorageRK\")\n",
      "│   Base.PkgId(Base.UUID(\"fa646aed-7ef9-47eb-84c4-9443fc8cbfa8\"), \"OrdinaryDiffEqSymplecticRK\")\n",
      "│   Base.PkgId(Base.UUID(\"e3e12d00-db14-5390-b879-ac3dd2ef6296\"), \"OrdinaryDiffEqStabilizedIRK\")\n",
      "│   Base.PkgId(Base.UUID(\"b7a43d79-68b1-555e-8052-5fba48570bb1\"), \"MLDataDevicesGPUArraysExt\")\n",
      "│   Base.PkgId(Base.UUID(\"1344f307-1e59-4825-a18e-ace9aa3fa4c6\"), \"OrdinaryDiffEqLowOrderRK\")\n",
      "│   Base.PkgId(Base.UUID(\"e0540318-69ee-4070-8777-9e2de6de23de\"), \"OrdinaryDiffEqExponentialRK\")\n",
      "│   Base.PkgId(Base.UUID(\"c8a29c40-e0ac-5e6e-8984-8da3115ac879\"), \"NNlibEnzymeCoreExt\")\n",
      "│   Base.PkgId(Base.UUID(\"f030c83e-7d7f-544f-a855-333e4a237e34\"), \"DiffEqBaseMeasurementsExt\")\n",
      "│   Base.PkgId(Base.UUID(\"6044458a-139e-583a-bc2f-a730a9b54282\"), \"DifferentiationInterfaceFiniteDiffExt\")\n",
      "│   Base.PkgId(Base.UUID(\"7034ab61-46d4-4ed7-9d0f-46aef9175898\"), \"FastBroadcast\")\n",
      "│   Base.PkgId(Base.UUID(\"4302a76b-040a-498a-8c04-15b101fed76b\"), \"OrdinaryDiffEqDifferentiation\")\n",
      "│   Base.PkgId(Base.UUID(\"d4d017d3-3776-5f7e-afef-a10c40355c18\"), \"ExponentialUtilities\")\n",
      "│   Base.PkgId(Base.UUID(\"ac004708-0488-5d74-bdd8-3e2743d441a0\"), \"SimpleNonlinearSolveTrackerExt\")\n",
      "│   Base.PkgId(Base.UUID(\"127b3ac7-2247-4354-8eb6-78cf4e7c58e8\"), \"OrdinaryDiffEqNonlinearSolve\")\n",
      "│   Base.PkgId(Base.UUID(\"9f049cbb-7c7d-5dfe-91f7-cf323d5306ff\"), \"SparseDiffToolsPolyesterExt\")\n",
      "│   Base.PkgId(Base.UUID(\"cbbf52aa-d660-55d4-8a5a-33845bbaa85d\"), \"StructArraysGPUArraysCoreExt\")\n",
      "│   Base.PkgId(Base.UUID(\"2d112036-d095-4a1e-ab9a-08536f3ecdbf\"), \"OrdinaryDiffEqSDIRK\")\n",
      "│   Base.PkgId(Base.UUID(\"6283b665-1224-52f5-a8f0-5953a1198cc4\"), \"RecursiveArrayToolsZygoteExt\")\n",
      "│   Base.PkgId(Base.UUID(\"87fe0de2-c867-4266-b59a-2f0a94fc965b\"), \"LineSearch\")\n",
      "│   Base.PkgId(Base.UUID(\"66d79d19-2cc4-5b0b-ac7a-b340256d1ecd\"), \"LinearAlgebraExt\")\n",
      "│   Base.PkgId(Base.UUID(\"9d29842c-ecb8-4973-b1e9-a27b1157504e\"), \"FastAlmostBandedMatrices\")\n",
      "│   Base.PkgId(Base.UUID(\"6425d1ab-ad86-5f6e-82f1-f5118e0dc800\"), \"EnzymeExt\")\n",
      "│   Base.PkgId(Base.UUID(\"5bae49a2-05de-53bb-8739-0a4838b86c22\"), \"NonlinearSolveSundialsExt\")\n",
      "│   Base.PkgId(Base.UUID(\"4676cac9-c8e0-5d6e-a4e0-e3351593cdf5\"), \"SciMLBaseChainRulesCoreExt\")\n",
      "│   Base.PkgId(Base.UUID(\"becaefa8-8ca2-5cf9-886d-c06f3d2bd2c4\"), \"OrdinaryDiffEqExtrapolation\")\n",
      "│   Base.PkgId(Base.UUID(\"dc05e6ec-7185-572c-9405-d65ccff0d4b4\"), \"RecursiveArrayToolsMeasurementsExt\")\n",
      "│   Base.PkgId(Base.UUID(\"79d7bb75-1356-48c1-b8c0-6832512096c2\"), \"OrdinaryDiffEqVerner\")\n",
      "│   Base.PkgId(Base.UUID(\"073a8d7d-86ee-5d75-9348-f9bf6155b014\"), \"SimpleNonlinearSolveChainRulesCoreExt\")\n",
      "│   Base.PkgId(Base.UUID(\"459566f4-90b8-5000-8ac3-15dfb0a30def\"), \"DiffEqCallbacks\")\n",
      "│   Base.PkgId(Base.UUID(\"9255f1d6-53bf-473e-b6bd-23f1ff009da4\"), \"BoundaryValueDiffEqMIRKN\")\n",
      "│   Base.PkgId(Base.UUID(\"96386cae-6b62-59ad-b532-a94eae05753e\"), \"NNlibFFTWExt\")\n",
      "│   Base.PkgId(Base.UUID(\"24f3332a-0dc5-5d65-94b6-25e75cab9690\"), \"DiffEqBaseDistributionsExt\")\n",
      "│   Base.PkgId(Base.UUID(\"c0aeaf25-5076-4817-a8d5-81caf7dfa961\"), \"SciMLOperators\")\n",
      "│   Base.PkgId(Base.UUID(\"73d9490b-8748-553f-aba9-cf4754de47d8\"), \"FiniteDiffBandedMatricesExt\")\n",
      "│   Base.PkgId(Base.UUID(\"731186ca-8d62-57ce-b412-fbd966d074cd\"), \"RecursiveArrayTools\")\n",
      "│   Base.PkgId(Base.UUID(\"d3d80556-e9d4-5f37-9878-2ab0fcc64255\"), \"LineSearches\")\n",
      "│   Base.PkgId(Base.UUID(\"56b672f2-a5fe-4263-ab2d-da677488eb3a\"), \"BoundaryValueDiffEqCore\")\n",
      "│   Base.PkgId(Base.UUID(\"101fe9f7-ebb6-4678-b671-3a81e7194747\"), \"OrdinaryDiffEqFeagin\")\n",
      "│   Base.PkgId(Base.UUID(\"f3fd9213-ca85-4dba-9dfd-7fc91308fec7\"), \"Attractors\")\n",
      "│   Base.PkgId(Base.UUID(\"789caeaf-c7a9-5a7d-9973-96adeb23e2a0\"), \"StochasticDiffEq\")\n",
      "│   Base.PkgId(Base.UUID(\"2b5f629d-d688-5b77-993f-72d75c75574e\"), \"DiffEqBase\")\n",
      "│   Base.PkgId(Base.UUID(\"082447d4-558c-5d27-93f4-14fc19e9eca2\"), \"ChainRules\")\n",
      "│   Base.PkgId(Base.UUID(\"9a2c21bd-3a47-402d-9113-8faf9a0ee114\"), \"NonlinearSolveQuasiNewton\")\n",
      "│   Base.PkgId(Base.UUID(\"07510ace-05c5-59ac-8535-cc0df8d4a157\"), \"RecursiveArrayToolsStructArraysExt\")\n",
      "│   Base.PkgId(Base.UUID(\"73e54eaf-3344-511d-b088-1ac5413eca63\"), \"RecursiveArrayToolsSparseArraysExt\")\n",
      "│   Base.PkgId(Base.UUID(\"904f2055-56f7-5591-b06b-453cba458f4b\"), \"SimpleNonlinearSolveDiffEqBaseExt\")\n",
      "│   Base.PkgId(Base.UUID(\"f78586ac-ba87-5ec7-b3a5-84bc1b258ee3\"), \"ArrayInterfaceCUDAExt\")\n",
      "│   Base.PkgId(Base.UUID(\"429524aa-4258-5aef-a3af-852621145aeb\"), \"Optim\")\n",
      "│   Base.PkgId(Base.UUID(\"608a59af-f2a3-5ad4-90b4-758bdf3122a7\"), \"ChaosTools\")\n",
      "│   Base.PkgId(Base.UUID(\"413474bb-43f3-55e9-965b-d5648011ca3f\"), \"TrackerPDMatsExt\")\n",
      "│   Base.PkgId(Base.UUID(\"fb6a15b2-703c-40df-9091-08a04967cfa9\"), \"CloseOpenIntervals\")\n",
      "│   Base.PkgId(Base.UUID(\"e00ed65e-ac1d-5cc7-bd70-4e98e6a62a5d\"), \"StochasticSystemsBase\")\n",
      "│   Base.PkgId(Base.UUID(\"54891929-e0db-55d3-b096-c0f3ec60df6b\"), \"SciMLBaseMLStyleExt\")\n",
      "│   Base.PkgId(Base.UUID(\"19f34311-ddf3-4b8b-af20-060888a46c0e\"), \"SciMLJacobianOperators\")\n",
      "│   Base.PkgId(Base.UUID(\"a65b7766-7c26-554a-8b8d-165d7f96f890\"), \"NonlinearSolveBaseLineSearchExt\")\n",
      "│   Base.PkgId(Base.UUID(\"527f56d1-b64a-561a-bf18-c49fb85fda5d\"), \"DiffEqNoiseProcessReverseDiffExt\")\n",
      "│   Base.PkgId(Base.UUID(\"77a26b50-5914-5dd7-bc55-306e6241c503\"), \"DiffEqNoiseProcess\")\n",
      "│   Base.PkgId(Base.UUID(\"201bfbae-74a9-54d9-992e-8e72788965ed\"), \"RecursiveArrayToolsTrackerExt\")\n",
      "│   Base.PkgId(Base.UUID(\"392c259a-06a8-538e-8884-4698e7892fb5\"), \"SciMLBaseZygoteExt\")\n",
      "│   Base.PkgId(Base.UUID(\"c5f39a36-1949-51cd-b5fc-0f226c89d745\"), \"RecursiveArrayToolsReverseDiffExt\")\n",
      "│   Base.PkgId(Base.UUID(\"aeb06bb4-539b-5a1b-8332-034ed9f8ca66\"), \"DiffEqBaseUnitfulExt\")\n",
      "│   Base.PkgId(Base.UUID(\"e68c091a-8ea5-5ca7-be4f-380657d4ad79\"), \"ZygoteColorsExt\")\n",
      "│   Base.PkgId(Base.UUID(\"1ba67e42-7aa7-5162-ac9b-c09642cdebbf\"), \"DiffEqBaseTrackerExt\")\n",
      "│   Base.PkgId(Base.UUID(\"3d4538b4-647b-544e-b0c2-b52d0495c932\"), \"NonlinearSolveBaseLinearSolveExt\")\n",
      "│   Base.PkgId(Base.UUID(\"2774e3e8-f4cf-5e23-947b-6d7e65073b56\"), \"NLsolve\")\n",
      "│   Base.PkgId(Base.UUID(\"c9986a66-5c92-4813-8696-a7ec84c806c8\"), \"OrdinaryDiffEqNordsieck\")\n",
      "│   Base.PkgId(Base.UUID(\"92f8d58f-31a9-439a-b05e-792ebdf1e7ff\"), \"enso_project\")\n",
      "│   Base.PkgId(Base.UUID(\"f08752e2-9bef-53a6-94a4-9c20ca55f0a4\"), \"DiffEqBaseEnzymeExt\")\n",
      "│   Base.PkgId(Base.UUID(\"5960d6e9-dd7a-4743-88e7-cf307b64f125\"), \"OrdinaryDiffEqFIRK\")\n",
      "│   Base.PkgId(Base.UUID(\"58a0a981-ddd9-5446-b230-82741bf17c47\"), \"DiffEqBaseReverseDiffExt\")\n",
      "│   Base.PkgId(Base.UUID(\"c3ed20f3-746d-5a71-99a7-df1cca8c2b90\"), \"EnzymeCoreExt\")\n",
      "│   Base.PkgId(Base.UUID(\"c6a149b2-afdf-53b0-83bb-237b19d30693\"), \"MLDataDevicesRecursiveArrayToolsExt\")\n",
      "│   Base.PkgId(Base.UUID(\"e8958739-db86-5f80-9e4c-f7c96aa15038\"), \"NNlibForwardDiffExt\")\n",
      "│   Base.PkgId(Base.UUID(\"a0bd8381-04c7-5287-82b0-0bf1e59008be\"), \"NonlinearSolveBaseDiffEqBaseExt\")\n",
      "│   Base.PkgId(Base.UUID(\"727e6d20-b764-4bd8-a329-72de5adea6c7\"), \"SimpleNonlinearSolve\")\n",
      "│   Base.PkgId(Base.UUID(\"ebee3dfe-b9aa-5535-b9a3-b63281c92313\"), \"MLDataDevicesMLUtilsExt\")\n",
      "│   Base.PkgId(Base.UUID(\"be0214bd-f91f-a760-ac4e-3421ce2b2da0\"), \"NonlinearSolveBase\")\n",
      "│   Base.PkgId(Base.UUID(\"9f002381-b378-40b7-97a6-27a27c83f129\"), \"OrdinaryDiffEqIMEXMultistep\")\n",
      "│   Base.PkgId(Base.UUID(\"2efcf032-c050-4f8e-a9bb-153293bab1f5\"), \"SymbolicIndexingInterface\")\n",
      "│   Base.PkgId(Base.UUID(\"bbc9ae08-70e9-50a1-83a4-36e0af391677\"), \"DifferentiationInterfaceZygoteExt\")\n",
      "│   Base.PkgId(Base.UUID(\"9985400b-97ec-5583-b534-4f70b643bcf7\"), \"SciMLOperatorsSparseArraysExt\")\n",
      "│   Base.PkgId(Base.UUID(\"8673388c-2cec-59d7-825e-32163c06c3e1\"), \"ArrayInterfaceChainRulesExt\")\n",
      "│   Base.PkgId(Base.UUID(\"31e2f376-db9e-427a-b76e-a14f56347a14\"), \"PredefinedDynamicalSystems\")\n",
      "│   Base.PkgId(Base.UUID(\"764a87c0-6b3e-53db-9096-fe964310641d\"), \"BoundaryValueDiffEq\")\n",
      "│   Base.PkgId(Base.UUID(\"e88e6eb3-aa80-5325-afca-941959d7151f\"), \"Zygote\")\n",
      "│   Base.PkgId(Base.UUID(\"f1d291b0-491e-4a28-83b9-f70985020b54\"), \"MLUtils\")\n",
      "└ @ Base.Precompilation precompilation.jl:511\n",
      "\u001b[33m\u001b[1m┌ \u001b[22m\u001b[39m\u001b[33m\u001b[1mWarning: \u001b[22m\u001b[39mThe use of `Flux.@functor` is deprecated.\n",
      "\u001b[33m\u001b[1m│ \u001b[22m\u001b[39mMost likely, you should write `Flux.@layer MyLayer`which will add various convenience methods for your type,such as pretty-printing and use with Adapt.jl.\n",
      "\u001b[33m\u001b[1m│ \u001b[22m\u001b[39mHowever, this is not required. Flux.jl v0.15 uses Functors.jl v0.5,which makes exploration of most nested `struct`s opt-out instead of opt-in...so Flux will automatically see inside any custom struct definitions.\n",
      "\u001b[33m\u001b[1m│ \u001b[22m\u001b[39mIf you really want to apply the `@functor` macro to a custom struct, use `Functors.@functor` instead.\n",
      "\u001b[33m\u001b[1m└ \u001b[22m\u001b[39m\u001b[90m@ Flux C:\\Users\\lihel\\.julia\\packages\\Flux\\3711C\\src\\deprecations.jl:101\u001b[39m\n"
     ]
    }
   ],
   "source": [
    "using ReservoirComputing, CSV, DataFrames, DynamicalSystems, Plots, enso_project"
   ]
  },
  {
   "cell_type": "code",
   "execution_count": null,
   "metadata": {},
   "outputs": [],
   "source": [
    "# read whole input data frame\n",
    "df_data = CSV.read(\"data/sst_34_anomaly_embedded.txt\", DataFrame; delim=',', ignorerepeated=true)\n",
    "\n",
    "# bring into correct format\n",
    "data = Matrix(transpose(Matrix(df_data)))"
   ]
  },
  {
   "cell_type": "markdown",
   "metadata": {},
   "source": [
    "## Network Training\n",
    "We train the network in the same manner for six different data splits. For each data split, we try our a set of different hyperparameters."
   ]
  },
  {
   "cell_type": "markdown",
   "metadata": {},
   "source": [
    "### Hyperparameter Tuning\n",
    "For each data split, we choose suitable hyperparameters by performing a grid search."
   ]
  },
  {
   "cell_type": "markdown",
   "metadata": {},
   "source": [
    "\n",
    "We create the hyperparameter grid as follows:\n",
    "- We observe that too big reservoir sizes cause singular matrices in the linear regression (due to too little training data), thus we adapt the reservoir size to be adequately small compared to the amount of training data. When performing the regression we note that smaller reservoir sizes are favoured in our use case.\n",
    "- to ensure the Echo State Property the spectral radius should be smaller than 1 (unless long memory is required). We try out different combinations.\n",
    "- a sparsity of 0.1 is usually recommended, we test different values around 0.1\n",
    "- a input scale of 0.1 is recommended by the literature\n",
    "- we try ridge params as suggested in the lecture"
   ]
  },
  {
   "cell_type": "code",
   "execution_count": 3,
   "metadata": {},
   "outputs": [
    {
     "data": {
      "text/plain": [
       "495-element Vector{Any}:\n",
       " enso_project.ESNHyperparams(60, 0.8, 0.05, 0.1, 0.0)\n",
       " enso_project.ESNHyperparams(70, 0.8, 0.05, 0.1, 0.0)\n",
       " enso_project.ESNHyperparams(80, 0.8, 0.05, 0.1, 0.0)\n",
       " enso_project.ESNHyperparams(90, 0.8, 0.05, 0.1, 0.0)\n",
       " enso_project.ESNHyperparams(95, 0.8, 0.05, 0.1, 0.0)\n",
       " enso_project.ESNHyperparams(100, 0.8, 0.05, 0.1, 0.0)\n",
       " enso_project.ESNHyperparams(105, 0.8, 0.05, 0.1, 0.0)\n",
       " enso_project.ESNHyperparams(110, 0.8, 0.05, 0.1, 0.0)\n",
       " enso_project.ESNHyperparams(115, 0.8, 0.05, 0.1, 0.0)\n",
       " enso_project.ESNHyperparams(120, 0.8, 0.05, 0.1, 0.0)\n",
       " ⋮\n",
       " enso_project.ESNHyperparams(80, 1.0, 0.14, 0.1, 1.0e-5)\n",
       " enso_project.ESNHyperparams(90, 1.0, 0.14, 0.1, 1.0e-5)\n",
       " enso_project.ESNHyperparams(95, 1.0, 0.14, 0.1, 1.0e-5)\n",
       " enso_project.ESNHyperparams(100, 1.0, 0.14, 0.1, 1.0e-5)\n",
       " enso_project.ESNHyperparams(105, 1.0, 0.14, 0.1, 1.0e-5)\n",
       " enso_project.ESNHyperparams(110, 1.0, 0.14, 0.1, 1.0e-5)\n",
       " enso_project.ESNHyperparams(115, 1.0, 0.14, 0.1, 1.0e-5)\n",
       " enso_project.ESNHyperparams(120, 1.0, 0.14, 0.1, 1.0e-5)\n",
       " enso_project.ESNHyperparams(130, 1.0, 0.14, 0.1, 1.0e-5)"
      ]
     },
     "metadata": {},
     "output_type": "display_data"
    }
   ],
   "source": [
    "# set up parameter grid\n",
    "reservoir_sizes = [60, 70, 80, 90, 95, 100, 105, 110, 115, 120, 130]\n",
    "spectral_radii = [0.8, 0.9, 1.0]\n",
    "sparsities = [0.05, 0.08, 0.1, 0.12, 0.14]\n",
    "input_scales = [0.1]\n",
    "ridge_values = [0.0, 1e-6, 1e-5]\n",
    "\n",
    "param_grid = enso_project.create_param_grid(reservoir_sizes, spectral_radii, sparsities, input_scales, ridge_values)"
   ]
  },
  {
   "cell_type": "markdown",
   "metadata": {},
   "source": [
    "### Training Data Split 20%"
   ]
  },
  {
   "cell_type": "markdown",
   "metadata": {},
   "source": [
    "train = 20%,\n",
    "val =  70%,\n",
    "test = 10%"
   ]
  },
  {
   "cell_type": "code",
   "execution_count": 6,
   "metadata": {},
   "outputs": [
    {
     "data": {
      "text/plain": [
       "5×49 Matrix{Float64}:\n",
       "  0.67   0.71   0.97   0.72   0.75  …  -0.93  -0.85  -0.93  -0.84  -0.69\n",
       "  0.42   0.15  -0.01   0.52   0.46     -0.01   0.19   0.47   0.88   1.07\n",
       "  0.52   0.35   0.46   0.41  -0.21      1.53   1.59   1.9    1.99   1.78\n",
       " -0.14  -0.52  -0.64  -1.13  -1.23      1.24   0.81   0.31   0.24   0.21\n",
       " -0.9   -0.87  -0.55  -0.57  -0.32     -0.15  -0.28  -0.14  -0.62  -0.71"
      ]
     },
     "metadata": {},
     "output_type": "display_data"
    }
   ],
   "source": [
    "# read input data\n",
    "df_train_data_20 = CSV.read(\"data/sst_34_data_split_20/train_sst_34_anomaly_embedded_20.txt\", DataFrame; delim=',', ignorerepeated=true)\n",
    "df_val_data_20 = CSV.read(\"data/sst_34_data_split_20/val_sst_34_anomaly_embedded_20.txt\", DataFrame; delim=',', ignorerepeated=true)\n",
    "df_test_data_20 = CSV.read(\"data/sst_34_data_split_20/test_sst_34_anomaly_embedded_20.txt\", DataFrame; delim=',', ignorerepeated=true)\n",
    "\n",
    "# bring into correct format\n",
    "train_data_20 = Matrix(transpose(Matrix(df_train_data_20)))\n",
    "val_data_20 = Matrix(transpose(Matrix(df_val_data_20)))\n",
    "test_data_20 = Matrix(transpose(Matrix(df_test_data_20)))"
   ]
  },
  {
   "cell_type": "code",
   "execution_count": 8,
   "metadata": {},
   "outputs": [
    {
     "name": "stdout",
     "output_type": "stream",
     "text": [
      "enso_project.ESNHyperparams(60, 0.8, 0.05, 0.1, 0.0)\n",
      "Validation loss = 7.201424571500899e8\n",
      "enso_project.ESNHyperparams(70, 0.8, 0.05, 0.1, 0.0)\n",
      "Validation loss = 1.2341563365429726e8\n"
     ]
    },
    {
     "ename": "LinearAlgebra.SingularException",
     "evalue": "LinearAlgebra.SingularException(99)",
     "output_type": "error",
     "traceback": [
      "LinearAlgebra.SingularException(99)\n",
      "\n",
      "Stacktrace:\n",
      "  [1] chknonsingular\n",
      "    @ C:\\Users\\lihel\\.julia\\juliaup\\julia-1.11.1+0.x64.w64.mingw32\\share\\julia\\stdlib\\v1.11\\LinearAlgebra\\src\\lapack.jl:48 [inlined]\n",
      "  [2] chklapackerror_positive\n",
      "    @ C:\\Users\\lihel\\.julia\\juliaup\\julia-1.11.1+0.x64.w64.mingw32\\share\\julia\\stdlib\\v1.11\\LinearAlgebra\\src\\lapack.jl:3638 [inlined]\n",
      "  [3] chklapackerror\n",
      "    @ C:\\Users\\lihel\\.julia\\juliaup\\julia-1.11.1+0.x64.w64.mingw32\\share\\julia\\stdlib\\v1.11\\LinearAlgebra\\src\\lapack.jl:40 [inlined]\n",
      "  [4] trtrs!(uplo::Char, trans::Char, diag::Char, A::SubArray{Float64, 2, Matrix{Float64}, Tuple{UnitRange{Int64}, UnitRange{Int64}}, false}, B::SubArray{Float64, 2, Matrix{Float64}, Tuple{UnitRange{Int64}, UnitRange{Int64}}, false})\n",
      "    @ LinearAlgebra.LAPACK C:\\Users\\lihel\\.julia\\juliaup\\julia-1.11.1+0.x64.w64.mingw32\\share\\julia\\stdlib\\v1.11\\LinearAlgebra\\src\\lapack.jl:3633\n",
      "  [5] generic_trimatdiv!\n",
      "    @ C:\\Users\\lihel\\.julia\\juliaup\\julia-1.11.1+0.x64.w64.mingw32\\share\\julia\\stdlib\\v1.11\\LinearAlgebra\\src\\triangular.jl:1017 [inlined]\n",
      "  [6] _ldiv!\n",
      "    @ C:\\Users\\lihel\\.julia\\juliaup\\julia-1.11.1+0.x64.w64.mingw32\\share\\julia\\stdlib\\v1.11\\LinearAlgebra\\src\\triangular.jl:939 [inlined]\n",
      "  [7] ldiv!\n",
      "    @ C:\\Users\\lihel\\.julia\\juliaup\\julia-1.11.1+0.x64.w64.mingw32\\share\\julia\\stdlib\\v1.11\\LinearAlgebra\\src\\triangular.jl:944 [inlined]\n",
      "  [8] ldiv!(A::LinearAlgebra.QRCompactWY{Float64, Matrix{Float64}, Matrix{Float64}}, B::Matrix{Float64})\n",
      "    @ LinearAlgebra C:\\Users\\lihel\\.julia\\juliaup\\julia-1.11.1+0.x64.w64.mingw32\\share\\julia\\stdlib\\v1.11\\LinearAlgebra\\src\\qr.jl:534\n",
      "  [9] ldiv(F::LinearAlgebra.QRCompactWY{Float64, Matrix{Float64}, Matrix{Float64}}, B::Matrix{Float64})\n",
      "    @ LinearAlgebra C:\\Users\\lihel\\.julia\\juliaup\\julia-1.11.1+0.x64.w64.mingw32\\share\\julia\\stdlib\\v1.11\\LinearAlgebra\\src\\LinearAlgebra.jl:656\n",
      " [10] \\(F::LinearAlgebra.QRCompactWY{Float64, Matrix{Float64}, Matrix{Float64}}, B::Matrix{Float64})\n",
      "    @ LinearAlgebra C:\\Users\\lihel\\.julia\\juliaup\\julia-1.11.1+0.x64.w64.mingw32\\share\\julia\\stdlib\\v1.11\\LinearAlgebra\\src\\LinearAlgebra.jl:631\n",
      " [11] train(sr::StandardRidge, states::Matrix{Float64}, target_data::Matrix{Float64})\n",
      "    @ ReservoirComputing C:\\Users\\lihel\\.julia\\packages\\ReservoirComputing\\WiiGL\\src\\train\\linear_regression.jl:37\n",
      " [12] #train#140\n",
      "    @ C:\\Users\\lihel\\.julia\\packages\\ReservoirComputing\\WiiGL\\src\\esn\\esn.jl:133 [inlined]\n",
      " [13] train\n",
      "    @ C:\\Users\\lihel\\.julia\\packages\\ReservoirComputing\\WiiGL\\src\\esn\\esn.jl:130 [inlined]\n",
      " [14] train_esn!\n",
      "    @ C:\\Users\\lihel\\Documents\\enso_project.jl\\src\\esn.jl:21 [inlined]\n",
      " [15] cross_validate_esn(train_data::Matrix{Float64}, val_data::Matrix{Float64}, param_grid::Vector{Any})\n",
      "    @ enso_project C:\\Users\\lihel\\Documents\\enso_project.jl\\src\\esn.jl:50\n",
      " [16] top-level scope\n",
      "    @ c:\\Users\\lihel\\Documents\\enso_project.jl\\scripts\\jl_notebook_cell_df34fa98e69747e1a8f8a730347b8e2f_Y160sZmlsZQ==.jl:2"
     ]
    }
   ],
   "source": [
    "# network training\n",
    "esn_20, W_out_20 = enso_project.cross_validate_esn(train_data_20, val_data_20, param_grid)"
   ]
  },
  {
   "cell_type": "code",
   "execution_count": null,
   "metadata": {},
   "outputs": [],
   "source": [
    "enso_project.plot_esn_prediction(esn_20, W_out_20, test_data_20)"
   ]
  },
  {
   "cell_type": "markdown",
   "metadata": {},
   "source": [
    "We now also plot the ESN against the validation data set."
   ]
  },
  {
   "cell_type": "code",
   "execution_count": null,
   "metadata": {},
   "outputs": [],
   "source": [
    "enso_project.plot_esn_prediction(esn, W_out, val_data)"
   ]
  }
 ],
 "metadata": {
  "kernelspec": {
   "display_name": "Julia 1.11.1",
   "language": "julia",
   "name": "julia-1.11"
  },
  "language_info": {
   "file_extension": ".jl",
   "mimetype": "application/julia",
   "name": "julia",
   "version": "1.11.1"
  }
 },
 "nbformat": 4,
 "nbformat_minor": 2
}

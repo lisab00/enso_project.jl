{
 "cells": [
  {
   "cell_type": "code",
   "execution_count": 3,
   "metadata": {},
   "outputs": [],
   "source": [
    "cd(\"$(homedir())/Documents/enso_project.jl\")"
   ]
  },
  {
   "cell_type": "code",
   "execution_count": 13,
   "metadata": {},
   "outputs": [
    {
     "name": "stderr",
     "output_type": "stream",
     "text": [
      "\u001b[32m\u001b[1m  Activating\u001b[22m\u001b[39m project at `C:\\Users\\lihel\\Documents\\enso_project.jl`\n"
     ]
    }
   ],
   "source": [
    "using Pkg\n",
    "Pkg.activate(\".\")\n",
    "#Pkg.add(\"ReservoirComputing\")"
   ]
  },
  {
   "cell_type": "code",
   "execution_count": 15,
   "metadata": {},
   "outputs": [],
   "source": [
    "using ReservoirComputing, CSV, DataFrames"
   ]
  },
  {
   "cell_type": "code",
   "execution_count": 68,
   "metadata": {},
   "outputs": [
    {
     "data": {
      "text/html": [
       "<div><div style = \"float: left;\"><span>74×5 DataFrame</span></div><div style = \"float: right;\"><span style = \"font-style: italic;\">49 rows omitted</span></div><div style = \"clear: both;\"></div></div><div class = \"data-frame\" style = \"overflow-x: scroll;\"><table class = \"data-frame\" style = \"margin-bottom: 6px;\"><thead><tr class = \"header\"><th class = \"rowNumber\" style = \"font-weight: bold; text-align: right;\">Row</th><th style = \"text-align: left;\">Column1</th><th style = \"text-align: left;\">Column2</th><th style = \"text-align: left;\">Column3</th><th style = \"text-align: left;\">Column4</th><th style = \"text-align: left;\">Column5</th></tr><tr class = \"subheader headerLastRow\"><th class = \"rowNumber\" style = \"font-weight: bold; text-align: right;\"></th><th title = \"Float64\" style = \"text-align: left;\">Float64</th><th title = \"Float64\" style = \"text-align: left;\">Float64</th><th title = \"Float64\" style = \"text-align: left;\">Float64</th><th title = \"Float64\" style = \"text-align: left;\">Float64</th><th title = \"Float64\" style = \"text-align: left;\">Float64</th></tr></thead><tbody><tr><td class = \"rowNumber\" style = \"font-weight: bold; text-align: right;\">1</td><td style = \"text-align: right;\">-0.33</td><td style = \"text-align: right;\">0.39</td><td style = \"text-align: right;\">-0.93</td><td style = \"text-align: right;\">0.15</td><td style = \"text-align: right;\">0.9</td></tr><tr><td class = \"rowNumber\" style = \"font-weight: bold; text-align: right;\">2</td><td style = \"text-align: right;\">-0.26</td><td style = \"text-align: right;\">0.28</td><td style = \"text-align: right;\">-0.7</td><td style = \"text-align: right;\">0.22</td><td style = \"text-align: right;\">0.67</td></tr><tr><td class = \"rowNumber\" style = \"font-weight: bold; text-align: right;\">3</td><td style = \"text-align: right;\">0.1</td><td style = \"text-align: right;\">-0.06</td><td style = \"text-align: right;\">-0.67</td><td style = \"text-align: right;\">0.28</td><td style = \"text-align: right;\">0.71</td></tr><tr><td class = \"rowNumber\" style = \"font-weight: bold; text-align: right;\">4</td><td style = \"text-align: right;\">0.21</td><td style = \"text-align: right;\">-0.32</td><td style = \"text-align: right;\">-0.73</td><td style = \"text-align: right;\">0.33</td><td style = \"text-align: right;\">0.97</td></tr><tr><td class = \"rowNumber\" style = \"font-weight: bold; text-align: right;\">5</td><td style = \"text-align: right;\">0.36</td><td style = \"text-align: right;\">-0.37</td><td style = \"text-align: right;\">-0.49</td><td style = \"text-align: right;\">0.86</td><td style = \"text-align: right;\">0.72</td></tr><tr><td class = \"rowNumber\" style = \"font-weight: bold; text-align: right;\">6</td><td style = \"text-align: right;\">0.42</td><td style = \"text-align: right;\">-0.91</td><td style = \"text-align: right;\">-0.11</td><td style = \"text-align: right;\">0.86</td><td style = \"text-align: right;\">0.75</td></tr><tr><td class = \"rowNumber\" style = \"font-weight: bold; text-align: right;\">7</td><td style = \"text-align: right;\">0.39</td><td style = \"text-align: right;\">-0.93</td><td style = \"text-align: right;\">0.15</td><td style = \"text-align: right;\">0.9</td><td style = \"text-align: right;\">0.6</td></tr><tr><td class = \"rowNumber\" style = \"font-weight: bold; text-align: right;\">8</td><td style = \"text-align: right;\">0.28</td><td style = \"text-align: right;\">-0.7</td><td style = \"text-align: right;\">0.22</td><td style = \"text-align: right;\">0.67</td><td style = \"text-align: right;\">0.42</td></tr><tr><td class = \"rowNumber\" style = \"font-weight: bold; text-align: right;\">9</td><td style = \"text-align: right;\">-0.06</td><td style = \"text-align: right;\">-0.67</td><td style = \"text-align: right;\">0.28</td><td style = \"text-align: right;\">0.71</td><td style = \"text-align: right;\">0.15</td></tr><tr><td class = \"rowNumber\" style = \"font-weight: bold; text-align: right;\">10</td><td style = \"text-align: right;\">-0.32</td><td style = \"text-align: right;\">-0.73</td><td style = \"text-align: right;\">0.33</td><td style = \"text-align: right;\">0.97</td><td style = \"text-align: right;\">-0.01</td></tr><tr><td class = \"rowNumber\" style = \"font-weight: bold; text-align: right;\">11</td><td style = \"text-align: right;\">-0.37</td><td style = \"text-align: right;\">-0.49</td><td style = \"text-align: right;\">0.86</td><td style = \"text-align: right;\">0.72</td><td style = \"text-align: right;\">0.52</td></tr><tr><td class = \"rowNumber\" style = \"font-weight: bold; text-align: right;\">12</td><td style = \"text-align: right;\">-0.91</td><td style = \"text-align: right;\">-0.11</td><td style = \"text-align: right;\">0.86</td><td style = \"text-align: right;\">0.75</td><td style = \"text-align: right;\">0.46</td></tr><tr><td class = \"rowNumber\" style = \"font-weight: bold; text-align: right;\">13</td><td style = \"text-align: right;\">-0.93</td><td style = \"text-align: right;\">0.15</td><td style = \"text-align: right;\">0.9</td><td style = \"text-align: right;\">0.6</td><td style = \"text-align: right;\">0.44</td></tr><tr><td style = \"text-align: right;\">&vellip;</td><td style = \"text-align: right;\">&vellip;</td><td style = \"text-align: right;\">&vellip;</td><td style = \"text-align: right;\">&vellip;</td><td style = \"text-align: right;\">&vellip;</td><td style = \"text-align: right;\">&vellip;</td></tr><tr><td class = \"rowNumber\" style = \"font-weight: bold; text-align: right;\">63</td><td style = \"text-align: right;\">-0.71</td><td style = \"text-align: right;\">-0.98</td><td style = \"text-align: right;\">-0.44</td><td style = \"text-align: right;\">1.3</td><td style = \"text-align: right;\">1.53</td></tr><tr><td class = \"rowNumber\" style = \"font-weight: bold; text-align: right;\">64</td><td style = \"text-align: right;\">-0.89</td><td style = \"text-align: right;\">-0.93</td><td style = \"text-align: right;\">-0.01</td><td style = \"text-align: right;\">1.53</td><td style = \"text-align: right;\">1.24</td></tr><tr><td class = \"rowNumber\" style = \"font-weight: bold; text-align: right;\">65</td><td style = \"text-align: right;\">-0.95</td><td style = \"text-align: right;\">-0.85</td><td style = \"text-align: right;\">0.19</td><td style = \"text-align: right;\">1.59</td><td style = \"text-align: right;\">0.81</td></tr><tr><td class = \"rowNumber\" style = \"font-weight: bold; text-align: right;\">66</td><td style = \"text-align: right;\">-1.05</td><td style = \"text-align: right;\">-0.93</td><td style = \"text-align: right;\">0.47</td><td style = \"text-align: right;\">1.9</td><td style = \"text-align: right;\">0.31</td></tr><tr><td class = \"rowNumber\" style = \"font-weight: bold; text-align: right;\">67</td><td style = \"text-align: right;\">-0.68</td><td style = \"text-align: right;\">-0.84</td><td style = \"text-align: right;\">0.88</td><td style = \"text-align: right;\">1.99</td><td style = \"text-align: right;\">0.24</td></tr><tr><td class = \"rowNumber\" style = \"font-weight: bold; text-align: right;\">68</td><td style = \"text-align: right;\">-0.62</td><td style = \"text-align: right;\">-0.69</td><td style = \"text-align: right;\">1.07</td><td style = \"text-align: right;\">1.78</td><td style = \"text-align: right;\">0.21</td></tr><tr><td class = \"rowNumber\" style = \"font-weight: bold; text-align: right;\">69</td><td style = \"text-align: right;\">-0.98</td><td style = \"text-align: right;\">-0.44</td><td style = \"text-align: right;\">1.3</td><td style = \"text-align: right;\">1.53</td><td style = \"text-align: right;\">-0.07</td></tr><tr><td class = \"rowNumber\" style = \"font-weight: bold; text-align: right;\">70</td><td style = \"text-align: right;\">-0.93</td><td style = \"text-align: right;\">-0.01</td><td style = \"text-align: right;\">1.53</td><td style = \"text-align: right;\">1.24</td><td style = \"text-align: right;\">-0.15</td></tr><tr><td class = \"rowNumber\" style = \"font-weight: bold; text-align: right;\">71</td><td style = \"text-align: right;\">-0.85</td><td style = \"text-align: right;\">0.19</td><td style = \"text-align: right;\">1.59</td><td style = \"text-align: right;\">0.81</td><td style = \"text-align: right;\">-0.28</td></tr><tr><td class = \"rowNumber\" style = \"font-weight: bold; text-align: right;\">72</td><td style = \"text-align: right;\">-0.93</td><td style = \"text-align: right;\">0.47</td><td style = \"text-align: right;\">1.9</td><td style = \"text-align: right;\">0.31</td><td style = \"text-align: right;\">-0.14</td></tr><tr><td class = \"rowNumber\" style = \"font-weight: bold; text-align: right;\">73</td><td style = \"text-align: right;\">-0.84</td><td style = \"text-align: right;\">0.88</td><td style = \"text-align: right;\">1.99</td><td style = \"text-align: right;\">0.24</td><td style = \"text-align: right;\">-0.62</td></tr><tr><td class = \"rowNumber\" style = \"font-weight: bold; text-align: right;\">74</td><td style = \"text-align: right;\">-0.69</td><td style = \"text-align: right;\">1.07</td><td style = \"text-align: right;\">1.78</td><td style = \"text-align: right;\">0.21</td><td style = \"text-align: right;\">-0.71</td></tr></tbody></table></div>"
      ],
      "text/latex": [
       "\\begin{tabular}{r|ccccc}\n",
       "\t& Column1 & Column2 & Column3 & Column4 & Column5\\\\\n",
       "\t\\hline\n",
       "\t& Float64 & Float64 & Float64 & Float64 & Float64\\\\\n",
       "\t\\hline\n",
       "\t1 & -0.33 & 0.39 & -0.93 & 0.15 & 0.9 \\\\\n",
       "\t2 & -0.26 & 0.28 & -0.7 & 0.22 & 0.67 \\\\\n",
       "\t3 & 0.1 & -0.06 & -0.67 & 0.28 & 0.71 \\\\\n",
       "\t4 & 0.21 & -0.32 & -0.73 & 0.33 & 0.97 \\\\\n",
       "\t5 & 0.36 & -0.37 & -0.49 & 0.86 & 0.72 \\\\\n",
       "\t6 & 0.42 & -0.91 & -0.11 & 0.86 & 0.75 \\\\\n",
       "\t7 & 0.39 & -0.93 & 0.15 & 0.9 & 0.6 \\\\\n",
       "\t8 & 0.28 & -0.7 & 0.22 & 0.67 & 0.42 \\\\\n",
       "\t9 & -0.06 & -0.67 & 0.28 & 0.71 & 0.15 \\\\\n",
       "\t10 & -0.32 & -0.73 & 0.33 & 0.97 & -0.01 \\\\\n",
       "\t11 & -0.37 & -0.49 & 0.86 & 0.72 & 0.52 \\\\\n",
       "\t12 & -0.91 & -0.11 & 0.86 & 0.75 & 0.46 \\\\\n",
       "\t13 & -0.93 & 0.15 & 0.9 & 0.6 & 0.44 \\\\\n",
       "\t14 & -0.7 & 0.22 & 0.67 & 0.42 & 0.52 \\\\\n",
       "\t15 & -0.67 & 0.28 & 0.71 & 0.15 & 0.35 \\\\\n",
       "\t16 & -0.73 & 0.33 & 0.97 & -0.01 & 0.46 \\\\\n",
       "\t17 & -0.49 & 0.86 & 0.72 & 0.52 & 0.41 \\\\\n",
       "\t18 & -0.11 & 0.86 & 0.75 & 0.46 & -0.21 \\\\\n",
       "\t19 & 0.15 & 0.9 & 0.6 & 0.44 & -0.27 \\\\\n",
       "\t20 & 0.22 & 0.67 & 0.42 & 0.52 & -0.14 \\\\\n",
       "\t21 & 0.28 & 0.71 & 0.15 & 0.35 & -0.52 \\\\\n",
       "\t22 & 0.33 & 0.97 & -0.01 & 0.46 & -0.64 \\\\\n",
       "\t23 & 0.86 & 0.72 & 0.52 & 0.41 & -1.13 \\\\\n",
       "\t24 & 0.86 & 0.75 & 0.46 & -0.21 & -1.23 \\\\\n",
       "\t$\\dots$ & $\\dots$ & $\\dots$ & $\\dots$ & $\\dots$ & $\\dots$ \\\\\n",
       "\\end{tabular}\n"
      ],
      "text/plain": [
       "\u001b[1m74×5 DataFrame\u001b[0m\n",
       "\u001b[1m Row \u001b[0m│\u001b[1m Column1 \u001b[0m\u001b[1m Column2 \u001b[0m\u001b[1m Column3 \u001b[0m\u001b[1m Column4 \u001b[0m\u001b[1m Column5 \u001b[0m\n",
       "     │\u001b[90m Float64 \u001b[0m\u001b[90m Float64 \u001b[0m\u001b[90m Float64 \u001b[0m\u001b[90m Float64 \u001b[0m\u001b[90m Float64 \u001b[0m\n",
       "─────┼─────────────────────────────────────────────\n",
       "   1 │   -0.33     0.39    -0.93     0.15     0.9\n",
       "   2 │   -0.26     0.28    -0.7      0.22     0.67\n",
       "   3 │    0.1     -0.06    -0.67     0.28     0.71\n",
       "   4 │    0.21    -0.32    -0.73     0.33     0.97\n",
       "   5 │    0.36    -0.37    -0.49     0.86     0.72\n",
       "   6 │    0.42    -0.91    -0.11     0.86     0.75\n",
       "   7 │    0.39    -0.93     0.15     0.9      0.6\n",
       "   8 │    0.28    -0.7      0.22     0.67     0.42\n",
       "  ⋮  │    ⋮        ⋮        ⋮        ⋮        ⋮\n",
       "  68 │   -0.62    -0.69     1.07     1.78     0.21\n",
       "  69 │   -0.98    -0.44     1.3      1.53    -0.07\n",
       "  70 │   -0.93    -0.01     1.53     1.24    -0.15\n",
       "  71 │   -0.85     0.19     1.59     0.81    -0.28\n",
       "  72 │   -0.93     0.47     1.9      0.31    -0.14\n",
       "  73 │   -0.84     0.88     1.99     0.24    -0.62\n",
       "  74 │   -0.69     1.07     1.78     0.21    -0.71\n",
       "\u001b[36m                                    59 rows omitted\u001b[0m"
      ]
     },
     "metadata": {},
     "output_type": "display_data"
    }
   ],
   "source": [
    "# read input data\n",
    "df_train_data = CSV.read(\"data/train_sst_34_anomaly_embedded_15.txt\", DataFrame; delim=',', ignorerepeated=true)\n",
    "df_val_data = CSV.read(\"data/val_sst_34_anomaly_embedded_15.txt\", DataFrame; delim=',', ignorerepeated=true)\n",
    "df_test_data = CSV.read(\"data/test_sst_34_anomaly_embedded_15.txt\", DataFrame; delim=',', ignorerepeated=true)"
   ]
  },
  {
   "cell_type": "markdown",
   "metadata": {},
   "source": [
    "Now, we generate our first ESN"
   ]
  },
  {
   "cell_type": "code",
   "execution_count": 75,
   "metadata": {},
   "outputs": [
    {
     "data": {
      "text/plain": [
       "5×345 Matrix{Float64}:\n",
       "  0.08  -0.2   -0.14   0.02   0.49  …  -0.11  -0.55  -0.92  -1.21  -1.31\n",
       "  0.27   0.86   1.24   1.73   1.68     -1.44  -1.21  -1.48  -1.19  -0.83\n",
       "  2.13   1.81   1.22   0.68   0.68     -0.39  -0.31  -0.19  -0.42  -0.67\n",
       " -0.33  -0.44  -0.38  -1.02  -1.29     -0.98  -0.99  -0.65  -0.55  -0.44\n",
       " -0.96  -0.16  -0.52  -0.54  -0.69     -0.19   0.24   0.27   0.68   0.44"
      ]
     },
     "metadata": {},
     "output_type": "display_data"
    }
   ],
   "source": [
    "train_data = Matrix(transpose(Matrix(df_train_data)))"
   ]
  },
  {
   "cell_type": "code",
   "execution_count": null,
   "metadata": {},
   "outputs": [
    {
     "data": {
      "text/plain": [
       "esn"
      ]
     },
     "metadata": {},
     "output_type": "display_data"
    }
   ],
   "source": [
    "\"\"\"\n",
    "esn = ESN(input_data, # matrix of training data 'num_features x time_steps'\n",
    "    input_size, # num_features\n",
    "    res_size;\n",
    "    reservoir= ,\n",
    "    input_layer= ,\n",
    "\n",
    ")\n",
    "\"\"\"\n",
    "esn = ESN(train_data,\n",
    "    5,\n",
    "    300;\n",
    "    reservoir=rand_sparse(; radius=1.0, sparsity=0.1),\n",
    "    input_layer=scaled_rand(; scaling=0.1)\n",
    "    )"
   ]
  }
 ],
 "metadata": {
  "kernelspec": {
   "display_name": "Julia 1.11.1",
   "language": "julia",
   "name": "julia-1.11"
  },
  "language_info": {
   "file_extension": ".jl",
   "mimetype": "application/julia",
   "name": "julia",
   "version": "1.11.1"
  }
 },
 "nbformat": 4,
 "nbformat_minor": 2
}

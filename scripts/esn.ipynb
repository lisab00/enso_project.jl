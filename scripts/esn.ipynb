{
 "cells": [
  {
   "cell_type": "code",
   "execution_count": 3,
   "metadata": {},
   "outputs": [],
   "source": [
    "cd(\"$(homedir())/Documents/enso_project.jl\")"
   ]
  },
  {
   "cell_type": "code",
   "execution_count": 13,
   "metadata": {},
   "outputs": [
    {
     "name": "stderr",
     "output_type": "stream",
     "text": [
      "\u001b[32m\u001b[1m  Activating\u001b[22m\u001b[39m project at `C:\\Users\\lihel\\Documents\\enso_project.jl`\n"
     ]
    }
   ],
   "source": [
    "using Pkg\n",
    "Pkg.activate(\".\")\n",
    "#Pkg.add(\"ReservoirComputing\")"
   ]
  },
  {
   "cell_type": "code",
   "execution_count": 15,
   "metadata": {},
   "outputs": [],
   "source": [
    "using ReservoirComputing, CSV, DataFrames"
   ]
  },
  {
   "cell_type": "code",
   "execution_count": null,
   "metadata": {},
   "outputs": [
    {
     "data": {
      "text/html": [
       "<div><div style = \"float: left;\"><span>75×5 DataFrame</span></div><div style = \"float: right;\"><span style = \"font-style: italic;\">50 rows omitted</span></div><div style = \"clear: both;\"></div></div><div class = \"data-frame\" style = \"overflow-x: scroll;\"><table class = \"data-frame\" style = \"margin-bottom: 6px;\"><thead><tr class = \"header\"><th class = \"rowNumber\" style = \"font-weight: bold; text-align: right;\">Row</th><th style = \"text-align: left;\">Column1</th><th style = \"text-align: left;\">Column2</th><th style = \"text-align: left;\">Column3</th><th style = \"text-align: left;\">Column4</th><th style = \"text-align: left;\">Column5</th></tr><tr class = \"subheader headerLastRow\"><th class = \"rowNumber\" style = \"font-weight: bold; text-align: right;\"></th><th title = \"String7\" style = \"text-align: left;\">String7</th><th title = \"String7\" style = \"text-align: left;\">String7</th><th title = \"String7\" style = \"text-align: left;\">String7</th><th title = \"String7\" style = \"text-align: left;\">String7</th><th title = \"String7\" style = \"text-align: left;\">String7</th></tr></thead><tbody><tr><td class = \"rowNumber\" style = \"font-weight: bold; text-align: right;\">1</td><td style = \"text-align: left;\">Column1</td><td style = \"text-align: left;\">Column2</td><td style = \"text-align: left;\">Column3</td><td style = \"text-align: left;\">Column4</td><td style = \"text-align: left;\">Column5</td></tr><tr><td class = \"rowNumber\" style = \"font-weight: bold; text-align: right;\">2</td><td style = \"text-align: left;\">-0.33</td><td style = \"text-align: left;\">0.39</td><td style = \"text-align: left;\">-0.93</td><td style = \"text-align: left;\">0.15</td><td style = \"text-align: left;\">0.9</td></tr><tr><td class = \"rowNumber\" style = \"font-weight: bold; text-align: right;\">3</td><td style = \"text-align: left;\">-0.26</td><td style = \"text-align: left;\">0.28</td><td style = \"text-align: left;\">-0.7</td><td style = \"text-align: left;\">0.22</td><td style = \"text-align: left;\">0.67</td></tr><tr><td class = \"rowNumber\" style = \"font-weight: bold; text-align: right;\">4</td><td style = \"text-align: left;\">0.1</td><td style = \"text-align: left;\">-0.06</td><td style = \"text-align: left;\">-0.67</td><td style = \"text-align: left;\">0.28</td><td style = \"text-align: left;\">0.71</td></tr><tr><td class = \"rowNumber\" style = \"font-weight: bold; text-align: right;\">5</td><td style = \"text-align: left;\">0.21</td><td style = \"text-align: left;\">-0.32</td><td style = \"text-align: left;\">-0.73</td><td style = \"text-align: left;\">0.33</td><td style = \"text-align: left;\">0.97</td></tr><tr><td class = \"rowNumber\" style = \"font-weight: bold; text-align: right;\">6</td><td style = \"text-align: left;\">0.36</td><td style = \"text-align: left;\">-0.37</td><td style = \"text-align: left;\">-0.49</td><td style = \"text-align: left;\">0.86</td><td style = \"text-align: left;\">0.72</td></tr><tr><td class = \"rowNumber\" style = \"font-weight: bold; text-align: right;\">7</td><td style = \"text-align: left;\">0.42</td><td style = \"text-align: left;\">-0.91</td><td style = \"text-align: left;\">-0.11</td><td style = \"text-align: left;\">0.86</td><td style = \"text-align: left;\">0.75</td></tr><tr><td class = \"rowNumber\" style = \"font-weight: bold; text-align: right;\">8</td><td style = \"text-align: left;\">0.39</td><td style = \"text-align: left;\">-0.93</td><td style = \"text-align: left;\">0.15</td><td style = \"text-align: left;\">0.9</td><td style = \"text-align: left;\">0.6</td></tr><tr><td class = \"rowNumber\" style = \"font-weight: bold; text-align: right;\">9</td><td style = \"text-align: left;\">0.28</td><td style = \"text-align: left;\">-0.7</td><td style = \"text-align: left;\">0.22</td><td style = \"text-align: left;\">0.67</td><td style = \"text-align: left;\">0.42</td></tr><tr><td class = \"rowNumber\" style = \"font-weight: bold; text-align: right;\">10</td><td style = \"text-align: left;\">-0.06</td><td style = \"text-align: left;\">-0.67</td><td style = \"text-align: left;\">0.28</td><td style = \"text-align: left;\">0.71</td><td style = \"text-align: left;\">0.15</td></tr><tr><td class = \"rowNumber\" style = \"font-weight: bold; text-align: right;\">11</td><td style = \"text-align: left;\">-0.32</td><td style = \"text-align: left;\">-0.73</td><td style = \"text-align: left;\">0.33</td><td style = \"text-align: left;\">0.97</td><td style = \"text-align: left;\">-0.01</td></tr><tr><td class = \"rowNumber\" style = \"font-weight: bold; text-align: right;\">12</td><td style = \"text-align: left;\">-0.37</td><td style = \"text-align: left;\">-0.49</td><td style = \"text-align: left;\">0.86</td><td style = \"text-align: left;\">0.72</td><td style = \"text-align: left;\">0.52</td></tr><tr><td class = \"rowNumber\" style = \"font-weight: bold; text-align: right;\">13</td><td style = \"text-align: left;\">-0.91</td><td style = \"text-align: left;\">-0.11</td><td style = \"text-align: left;\">0.86</td><td style = \"text-align: left;\">0.75</td><td style = \"text-align: left;\">0.46</td></tr><tr><td style = \"text-align: right;\">&vellip;</td><td style = \"text-align: right;\">&vellip;</td><td style = \"text-align: right;\">&vellip;</td><td style = \"text-align: right;\">&vellip;</td><td style = \"text-align: right;\">&vellip;</td><td style = \"text-align: right;\">&vellip;</td></tr><tr><td class = \"rowNumber\" style = \"font-weight: bold; text-align: right;\">64</td><td style = \"text-align: left;\">-0.71</td><td style = \"text-align: left;\">-0.98</td><td style = \"text-align: left;\">-0.44</td><td style = \"text-align: left;\">1.3</td><td style = \"text-align: left;\">1.53</td></tr><tr><td class = \"rowNumber\" style = \"font-weight: bold; text-align: right;\">65</td><td style = \"text-align: left;\">-0.89</td><td style = \"text-align: left;\">-0.93</td><td style = \"text-align: left;\">-0.01</td><td style = \"text-align: left;\">1.53</td><td style = \"text-align: left;\">1.24</td></tr><tr><td class = \"rowNumber\" style = \"font-weight: bold; text-align: right;\">66</td><td style = \"text-align: left;\">-0.95</td><td style = \"text-align: left;\">-0.85</td><td style = \"text-align: left;\">0.19</td><td style = \"text-align: left;\">1.59</td><td style = \"text-align: left;\">0.81</td></tr><tr><td class = \"rowNumber\" style = \"font-weight: bold; text-align: right;\">67</td><td style = \"text-align: left;\">-1.05</td><td style = \"text-align: left;\">-0.93</td><td style = \"text-align: left;\">0.47</td><td style = \"text-align: left;\">1.9</td><td style = \"text-align: left;\">0.31</td></tr><tr><td class = \"rowNumber\" style = \"font-weight: bold; text-align: right;\">68</td><td style = \"text-align: left;\">-0.68</td><td style = \"text-align: left;\">-0.84</td><td style = \"text-align: left;\">0.88</td><td style = \"text-align: left;\">1.99</td><td style = \"text-align: left;\">0.24</td></tr><tr><td class = \"rowNumber\" style = \"font-weight: bold; text-align: right;\">69</td><td style = \"text-align: left;\">-0.62</td><td style = \"text-align: left;\">-0.69</td><td style = \"text-align: left;\">1.07</td><td style = \"text-align: left;\">1.78</td><td style = \"text-align: left;\">0.21</td></tr><tr><td class = \"rowNumber\" style = \"font-weight: bold; text-align: right;\">70</td><td style = \"text-align: left;\">-0.98</td><td style = \"text-align: left;\">-0.44</td><td style = \"text-align: left;\">1.3</td><td style = \"text-align: left;\">1.53</td><td style = \"text-align: left;\">-0.07</td></tr><tr><td class = \"rowNumber\" style = \"font-weight: bold; text-align: right;\">71</td><td style = \"text-align: left;\">-0.93</td><td style = \"text-align: left;\">-0.01</td><td style = \"text-align: left;\">1.53</td><td style = \"text-align: left;\">1.24</td><td style = \"text-align: left;\">-0.15</td></tr><tr><td class = \"rowNumber\" style = \"font-weight: bold; text-align: right;\">72</td><td style = \"text-align: left;\">-0.85</td><td style = \"text-align: left;\">0.19</td><td style = \"text-align: left;\">1.59</td><td style = \"text-align: left;\">0.81</td><td style = \"text-align: left;\">-0.28</td></tr><tr><td class = \"rowNumber\" style = \"font-weight: bold; text-align: right;\">73</td><td style = \"text-align: left;\">-0.93</td><td style = \"text-align: left;\">0.47</td><td style = \"text-align: left;\">1.9</td><td style = \"text-align: left;\">0.31</td><td style = \"text-align: left;\">-0.14</td></tr><tr><td class = \"rowNumber\" style = \"font-weight: bold; text-align: right;\">74</td><td style = \"text-align: left;\">-0.84</td><td style = \"text-align: left;\">0.88</td><td style = \"text-align: left;\">1.99</td><td style = \"text-align: left;\">0.24</td><td style = \"text-align: left;\">-0.62</td></tr><tr><td class = \"rowNumber\" style = \"font-weight: bold; text-align: right;\">75</td><td style = \"text-align: left;\">-0.69</td><td style = \"text-align: left;\">1.07</td><td style = \"text-align: left;\">1.78</td><td style = \"text-align: left;\">0.21</td><td style = \"text-align: left;\">-0.71</td></tr></tbody></table></div>"
      ],
      "text/latex": [
       "\\begin{tabular}{r|ccccc}\n",
       "\t& Column1 & Column2 & Column3 & Column4 & Column5\\\\\n",
       "\t\\hline\n",
       "\t& String7 & String7 & String7 & String7 & String7\\\\\n",
       "\t\\hline\n",
       "\t1 & Column1 & Column2 & Column3 & Column4 & Column5 \\\\\n",
       "\t2 & -0.33 & 0.39 & -0.93 & 0.15 & 0.9 \\\\\n",
       "\t3 & -0.26 & 0.28 & -0.7 & 0.22 & 0.67 \\\\\n",
       "\t4 & 0.1 & -0.06 & -0.67 & 0.28 & 0.71 \\\\\n",
       "\t5 & 0.21 & -0.32 & -0.73 & 0.33 & 0.97 \\\\\n",
       "\t6 & 0.36 & -0.37 & -0.49 & 0.86 & 0.72 \\\\\n",
       "\t7 & 0.42 & -0.91 & -0.11 & 0.86 & 0.75 \\\\\n",
       "\t8 & 0.39 & -0.93 & 0.15 & 0.9 & 0.6 \\\\\n",
       "\t9 & 0.28 & -0.7 & 0.22 & 0.67 & 0.42 \\\\\n",
       "\t10 & -0.06 & -0.67 & 0.28 & 0.71 & 0.15 \\\\\n",
       "\t11 & -0.32 & -0.73 & 0.33 & 0.97 & -0.01 \\\\\n",
       "\t12 & -0.37 & -0.49 & 0.86 & 0.72 & 0.52 \\\\\n",
       "\t13 & -0.91 & -0.11 & 0.86 & 0.75 & 0.46 \\\\\n",
       "\t14 & -0.93 & 0.15 & 0.9 & 0.6 & 0.44 \\\\\n",
       "\t15 & -0.7 & 0.22 & 0.67 & 0.42 & 0.52 \\\\\n",
       "\t16 & -0.67 & 0.28 & 0.71 & 0.15 & 0.35 \\\\\n",
       "\t17 & -0.73 & 0.33 & 0.97 & -0.01 & 0.46 \\\\\n",
       "\t18 & -0.49 & 0.86 & 0.72 & 0.52 & 0.41 \\\\\n",
       "\t19 & -0.11 & 0.86 & 0.75 & 0.46 & -0.21 \\\\\n",
       "\t20 & 0.15 & 0.9 & 0.6 & 0.44 & -0.27 \\\\\n",
       "\t21 & 0.22 & 0.67 & 0.42 & 0.52 & -0.14 \\\\\n",
       "\t22 & 0.28 & 0.71 & 0.15 & 0.35 & -0.52 \\\\\n",
       "\t23 & 0.33 & 0.97 & -0.01 & 0.46 & -0.64 \\\\\n",
       "\t24 & 0.86 & 0.72 & 0.52 & 0.41 & -1.13 \\\\\n",
       "\t$\\dots$ & $\\dots$ & $\\dots$ & $\\dots$ & $\\dots$ & $\\dots$ \\\\\n",
       "\\end{tabular}\n"
      ],
      "text/plain": [
       "\u001b[1m75×5 DataFrame\u001b[0m\n",
       "\u001b[1m Row \u001b[0m│\u001b[1m Column1 \u001b[0m\u001b[1m Column2 \u001b[0m\u001b[1m Column3 \u001b[0m\u001b[1m Column4 \u001b[0m\u001b[1m Column5 \u001b[0m\n",
       "     │\u001b[90m String7 \u001b[0m\u001b[90m String7 \u001b[0m\u001b[90m String7 \u001b[0m\u001b[90m String7 \u001b[0m\u001b[90m String7 \u001b[0m\n",
       "─────┼─────────────────────────────────────────────\n",
       "   1 │ Column1  Column2  Column3  Column4  Column5\n",
       "   2 │ -0.33    0.39     -0.93    0.15     0.9\n",
       "   3 │ -0.26    0.28     -0.7     0.22     0.67\n",
       "   4 │ 0.1      -0.06    -0.67    0.28     0.71\n",
       "   5 │ 0.21     -0.32    -0.73    0.33     0.97\n",
       "   6 │ 0.36     -0.37    -0.49    0.86     0.72\n",
       "   7 │ 0.42     -0.91    -0.11    0.86     0.75\n",
       "   8 │ 0.39     -0.93    0.15     0.9      0.6\n",
       "  ⋮  │    ⋮        ⋮        ⋮        ⋮        ⋮\n",
       "  69 │ -0.62    -0.69    1.07     1.78     0.21\n",
       "  70 │ -0.98    -0.44    1.3      1.53     -0.07\n",
       "  71 │ -0.93    -0.01    1.53     1.24     -0.15\n",
       "  72 │ -0.85    0.19     1.59     0.81     -0.28\n",
       "  73 │ -0.93    0.47     1.9      0.31     -0.14\n",
       "  74 │ -0.84    0.88     1.99     0.24     -0.62\n",
       "  75 │ -0.69    1.07     1.78     0.21     -0.71\n",
       "\u001b[36m                                    60 rows omitted\u001b[0m"
      ]
     },
     "metadata": {},
     "output_type": "display_data"
    }
   ],
   "source": [
    "# read input data\n",
    "train_data = CSV.read(\"data/train_sst_34_anomaly_embedded_15.txt\", DataFrame; delim=',', ignorerepeated=true, header=0)\n",
    "val_data = CSV.read(\"data/val_sst_34_anomaly_embedded_15.txt\", DataFrame; delim=',', ignorerepeated=true, header=0)\n",
    "test_data = CSV.read(\"data/test_sst_34_anomaly_embedded_15.txt\", DataFrame; delim=',', ignorerepeated=true, header=0)"
   ]
  },
  {
   "cell_type": "code",
   "execution_count": null,
   "metadata": {},
   "outputs": [],
   "source": []
  }
 ],
 "metadata": {
  "kernelspec": {
   "display_name": "Julia 1.11.1",
   "language": "julia",
   "name": "julia-1.11"
  },
  "language_info": {
   "file_extension": ".jl",
   "mimetype": "application/julia",
   "name": "julia",
   "version": "1.11.1"
  }
 },
 "nbformat": 4,
 "nbformat_minor": 2
}

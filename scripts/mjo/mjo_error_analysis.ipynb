{
 "cells": [
  {
   "cell_type": "code",
   "execution_count": 63,
   "id": "bb528432",
   "metadata": {},
   "outputs": [
    {
     "name": "stderr",
     "output_type": "stream",
     "text": [
      "\u001b[32m\u001b[1m  Activating\u001b[22m\u001b[39m project at `C:\\Users\\lisah\\Documents\\Repos\\enso_project.jl`\n"
     ]
    }
   ],
   "source": [
    "cd(\"$(homedir())/Documents/Repos/enso_project.jl\")\n",
    "using Pkg\n",
    "Pkg.activate(\".\")"
   ]
  },
  {
   "cell_type": "code",
   "execution_count": 64,
   "id": "862d462e",
   "metadata": {},
   "outputs": [],
   "source": [
    "using ReservoirComputing, CSV, DataFrames, DynamicalSystems, Plots, enso_project, Statistics, JLD2"
   ]
  },
  {
   "cell_type": "markdown",
   "id": "02a427d3",
   "metadata": {},
   "source": [
    "## Perform error analysis on MJO predictions"
   ]
  },
  {
   "cell_type": "markdown",
   "id": "31a11139",
   "metadata": {},
   "source": [
    "### prepare data"
   ]
  },
  {
   "cell_type": "code",
   "execution_count": 65,
   "id": "7a05575e",
   "metadata": {},
   "outputs": [
    {
     "name": "stdout",
     "output_type": "stream",
     "text": [
      "Algorithm stopped due to convergence of E₁-statistic. Valid embedding achieved ✓.\n",
      "Algorithm stopped due to convergence of E₁-statistic. Valid embedding achieved ✓.\n"
     ]
    }
   ],
   "source": [
    "# load data\n",
    "header = [\"year\", \"month\", \"day\", \"hour\", \"PC1 coeff\", \"PC2 coeff\", \"PC1+PC2 amplitude\"]\n",
    "data = CSV.read(\"data/mjo_data/mjo_romi.txt\", DataFrame; delim=\" \", ignorerepeated=true, header=header)\n",
    "pc1 = data[!,\"PC1 coeff\"]\n",
    "pc2 = data[!,\"PC2 coeff\"];\n",
    "\n",
    "# perform TDE\n",
    "D1, τ1, E1 = optimal_separated_de(pc1)\n",
    "D2, τ2, E2 = optimal_separated_de(pc2);\n",
    "D1, D2 = Matrix(transpose(Matrix(D1))), Matrix(transpose(Matrix(D2)));"
   ]
  },
  {
   "cell_type": "code",
   "execution_count": 66,
   "id": "014d0fee",
   "metadata": {},
   "outputs": [
    {
     "data": {
      "text/plain": [
       "\"train_pc1, train_pc2 = D1[:, 1:train_size],  D2[:, 1:train_size]\\nval_pc1, val_pc2 = D1[:, train_size+1:train_size+val_size], D2[:, train_size+1:train_size+val_size]\\ntest_pc1, test_pc2 = D1[:, train_size+val_size+1:train_size+val_size+test_size], D2[:, train_size+val_size+1:train_size+val_size+test_size];\""
      ]
     },
     "execution_count": 66,
     "metadata": {},
     "output_type": "execute_result"
    }
   ],
   "source": [
    "# train, test, val splits\n",
    "train_size = 10000\n",
    "val_size = 2000\n",
    "test_size = size(D1,2) - train_size - val_size\n",
    "\n",
    "\"\"\"train_pc1, train_pc2 = D1[:, 1:train_size],  D2[:, 1:train_size]\n",
    "val_pc1, val_pc2 = D1[:, train_size+1:train_size+val_size], D2[:, train_size+1:train_size+val_size]\n",
    "test_pc1, test_pc2 = D1[:, train_size+val_size+1:train_size+val_size+test_size], D2[:, train_size+val_size+1:train_size+val_size+test_size];\"\"\""
   ]
  },
  {
   "cell_type": "markdown",
   "id": "7218cbdf",
   "metadata": {},
   "source": [
    "### gather prediction samples"
   ]
  },
  {
   "cell_type": "code",
   "execution_count": 72,
   "id": "0f25388d",
   "metadata": {},
   "outputs": [],
   "source": [
    "# sample size N\n",
    "N = 1\n",
    "\n",
    "# lead time L\n",
    "L = 60;"
   ]
  },
  {
   "cell_type": "markdown",
   "id": "db805a86",
   "metadata": {},
   "source": [
    "### training"
   ]
  },
  {
   "cell_type": "code",
   "execution_count": 73,
   "id": "0763e67d",
   "metadata": {},
   "outputs": [],
   "source": [
    "spectral_radii = [0.8,0.9,1.0]\n",
    "sparsities = [0.14,0.1,0.5]\n",
    "input_scales = [0.1,1.0]\n",
    "ridge_values = [0.0,1e-5, 1e-6]\n",
    "reservoir_sizes = [500,700,1000]\n",
    "\n",
    "param_grid = enso_project.create_param_grid(reservoir_sizes, spectral_radii, sparsities, input_scales, ridge_values);"
   ]
  },
  {
   "cell_type": "code",
   "execution_count": 74,
   "id": "dd785076",
   "metadata": {},
   "outputs": [
    {
     "data": {
      "text/plain": [
       "sample_lead_times (generic function with 1 method)"
      ]
     },
     "execution_count": 74,
     "metadata": {},
     "output_type": "execute_result"
    }
   ],
   "source": [
    "function sample_lead_times(L, N, data, train_size, initial_val_size, param_grid)\n",
    "    datasets_test = zeros(N,L)\n",
    "    predictions = zeros(N,L)\n",
    "\n",
    "    for n in 0:(N-1)\n",
    "        # include data shift n\n",
    "        train_data = data[:, 1:train_size]\n",
    "        val_data = data[:, train_size+1:train_size+initial_val_size+n]\n",
    "        test_data = data[:, train_size+initial_val_size+n+1:train_size+initial_val_size+n+L]\n",
    "\n",
    "        # train\n",
    "        esn, W_out, val_loss = enso_project.cross_validate_esn(train_data, val_data, param_grid) \n",
    "        prediction = enso_project.esn_eval_pred(esn, W_out, test_data)\n",
    "\n",
    "        # store \n",
    "        datasets_test[n+1,:] = test_data[1,:]\n",
    "        predictions[n+1,:] = prediction\n",
    "\n",
    "        # progress control\n",
    "        println(\"Finished sample $(n+1)\")\n",
    "    end\n",
    "    return predictions, datasets_test\n",
    "end"
   ]
  },
  {
   "cell_type": "code",
   "execution_count": 75,
   "id": "e590d603",
   "metadata": {},
   "outputs": [
    {
     "name": "stdout",
     "output_type": "stream",
     "text": [
      "enso_project.ESNHyperparams(500, 0.8, 0.14, 0.1, 0.0)\n",
      "Validation loss = 15044.143070206772\n",
      "enso_project.ESNHyperparams(500, 0.8, 0.5, 0.1, 0.0)\n",
      "Validation loss = 14028.332117730697\n",
      "Finished sample 1\n"
     ]
    },
    {
     "data": {
      "text/plain": [
       "([-0.27566749046206046 -0.4180764487501046 … 1.3414115528832302 1.0233338669390457], [-0.26594 -0.4044 … 1.12644 0.92548])"
      ]
     },
     "execution_count": 75,
     "metadata": {},
     "output_type": "execute_result"
    }
   ],
   "source": [
    "# pc1\n",
    "predictions_pc1, datasets_test_pc1 = sample_lead_times(L,N,D1, train_size, val_size,param_grid)\n"
   ]
  },
  {
   "cell_type": "code",
   "execution_count": 77,
   "id": "a2413383",
   "metadata": {},
   "outputs": [
    {
     "data": {
      "text/plain": [
       "\"C:/Users/lisah/Documents/Repos/enso_project.jl/temp_saves/error_saves/mjo_L60_N1_testsets_pc1.csv\""
      ]
     },
     "execution_count": 77,
     "metadata": {},
     "output_type": "execute_result"
    }
   ],
   "source": [
    "\n",
    "CSV.write(\"C:/Users/lisah/Documents/Repos/enso_project.jl/temp_saves/error_saves/mjo_L$(L)_N$(N)_predictions_pc1.csv\", DataFrame(predictions_pc1, :auto))\n",
    "CSV.write(\"C:/Users/lisah/Documents/Repos/enso_project.jl/temp_saves/error_saves/mjo_L$(L)_N$(N)_testsets_pc1.csv\", DataFrame(datasets_test_pc1, :auto))"
   ]
  },
  {
   "cell_type": "code",
   "execution_count": null,
   "id": "1f7be7db",
   "metadata": {},
   "outputs": [],
   "source": [
    "# pc2\n",
    "predictions_pc2, datasets_test_pc2 = sample_lead_times(L,N,D2, train_size, val_size,param_grid)"
   ]
  },
  {
   "cell_type": "code",
   "execution_count": null,
   "id": "af3db22a",
   "metadata": {},
   "outputs": [],
   "source": [
    "\n",
    "CSV.write(\"C:/Users/lisah/Documents/Repos/enso_project.jl/temp_saves/error_saves/mjo_L$(L)_N$(N)_predictions_pc2.csv\", DataFrame(predictions_pc2, :auto))\n",
    "CSV.write(\"C:/Users/lisah/Documents/Repos/enso_project.jl/temp_saves/error_saves/mjo_L$(L)_N$(N)_testsets_pc2.csv\", DataFrame(datasets_test_pc2, :auto))"
   ]
  }
 ],
 "metadata": {
  "kernelspec": {
   "display_name": "julia_enso 1.11.5",
   "language": "julia",
   "name": "julia_enso-1.11"
  },
  "language_info": {
   "file_extension": ".jl",
   "mimetype": "application/julia",
   "name": "julia",
   "version": "1.11.5"
  }
 },
 "nbformat": 4,
 "nbformat_minor": 5
}

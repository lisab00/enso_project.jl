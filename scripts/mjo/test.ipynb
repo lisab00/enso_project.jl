{
 "cells": [
  {
   "cell_type": "markdown",
   "id": "fa2df125",
   "metadata": {},
   "source": [
    "# Performance Comparison MJO"
   ]
  },
  {
   "cell_type": "code",
   "execution_count": 48,
   "id": "896ea5da",
   "metadata": {},
   "outputs": [],
   "source": [
    "using enso_project, ReservoirComputing, JLD2, CSV, DataFrames, JLD2"
   ]
  },
  {
   "cell_type": "code",
   "execution_count": 53,
   "id": "847a72f6",
   "metadata": {},
   "outputs": [],
   "source": [
    "# load required esns\n",
    "\n",
    "# unified pecuzal embedding (only on pc2 time series)\n",
    "@load \"C:/Users/lisah/Documents/Repos/enso_project.jl/esn_saves/mjo_tde_pecuzal_pc2.jld2\" mjo_tde_pecuzal_pc2\n",
    "@load \"C:/Users/lisah/Documents/Repos/enso_project.jl/esn_saves/mjo_tde_pecuzal_pc2_W.jld2\" mjo_tde_pecuzal_pc2_W\n",
    "\n",
    "# seperate embedding (on pc1, pc2)\n",
    "@load \"C:/Users/lisah/Documents/Repos/enso_project.jl/esn_saves/mjo_tde_seperate_pc1.jld2\" mjo_tde_seperate_pc1\n",
    "@load \"C:/Users/lisah/Documents/Repos/enso_project.jl/esn_saves/mjo_tde_seperate_pc1_W.jld2\" mjo_tde_seperate_pc1_W\n",
    "@load \"C:/Users/lisah/Documents/Repos/enso_project.jl/esn_saves/mjo_tde_seperate_pc2.jld2\" mjo_tde_seperate_pc2\n",
    "@load \"C:/Users/lisah/Documents/Repos/enso_project.jl/esn_saves/mjo_tde_seperate_pc2_W.jld2\" mjo_tde_seperate_pc2_W;"
   ]
  },
  {
   "cell_type": "code",
   "execution_count": 37,
   "id": "3bf04167",
   "metadata": {},
   "outputs": [],
   "source": [
    "header = [\"year\", \"month\", \"day\", \"hour\", \"PC1 coeff\", \"PC2 coeff\", \"PC1+PC2 amplitude\"]\n",
    "data = CSV.read(\"C:/Users/lisah/Documents/Repos/enso_project.jl/data/mjo_data/mjo_romi.txt\", DataFrame; delim=\" \", ignorerepeated=true, header=header)\n",
    "\n",
    "pc1 = data[!,\"PC1 coeff\"]\n",
    "pc2 = data[!,\"PC2 coeff\"]\n",
    "amp = data[!, \"PC1+PC2 amplitude\"];"
   ]
  },
  {
   "cell_type": "code",
   "execution_count": 45,
   "id": "5ae64723",
   "metadata": {},
   "outputs": [
    {
     "data": {
      "text/plain": [
       "1×100 Matrix{Float64}:\n",
       " 0.657777  0.82532  0.211072  0.579789  …  0.0791227  0.791308  0.0988613"
      ]
     },
     "execution_count": 45,
     "metadata": {},
     "output_type": "execute_result"
    }
   ],
   "source": [
    "data_pc2_emb = pc2\n",
    "\n",
    "test_size = 100\n",
    "\n",
    "data_pc2_emb_test = rand(1,100)"
   ]
  },
  {
   "cell_type": "code",
   "execution_count": 47,
   "id": "9a91f1af",
   "metadata": {},
   "outputs": [
    {
     "data": {
      "text/plain": [
       "100-element Vector{Float64}:\n",
       " -0.3233208526890091\n",
       " -0.5137589984127946\n",
       " -0.5810809458856999\n",
       " -0.5648525401098169\n",
       " -0.4906440170771575\n",
       " -0.39606837850091586\n",
       " -0.3226514916467736\n",
       " -0.2492721537014159\n",
       " -0.16939737251088732\n",
       " -0.1909265430042244\n",
       " -0.34289961404440533\n",
       " -0.6280668875618376\n",
       " -0.9506464103524668\n",
       "  ⋮\n",
       "  0.45830038058435996\n",
       "  0.5080064761523445\n",
       "  0.5534128486212636\n",
       "  0.5985821381103394\n",
       "  0.6402427896858134\n",
       "  0.6754576147129401\n",
       "  0.6973677247885581\n",
       "  0.7112313180482411\n",
       "  0.7105704171901394\n",
       "  0.6904101579246965\n",
       "  0.6515617027756038\n",
       "  0.5920062817675978"
      ]
     },
     "execution_count": 47,
     "metadata": {},
     "output_type": "execute_result"
    }
   ],
   "source": [
    "prediction = enso_project.esn_eval_pred(mjo_tde_pecuzal_pc2\n",
    ", mjo_tde_pecuzal_pc2_W, data_pc2_emb_test)"
   ]
  },
  {
   "cell_type": "code",
   "execution_count": 54,
   "id": "21a26c53",
   "metadata": {},
   "outputs": [
    {
     "data": {
      "text/plain": [
       "(:res_size, :train_data, :nla_type, :input_matrix, :reservoir_driver, :reservoir_matrix, :bias_vector, :states_type, :washout, :states)"
      ]
     },
     "execution_count": 54,
     "metadata": {},
     "output_type": "execute_result"
    }
   ],
   "source": [
    "fieldnames(typeof(mjo_tde_pecuzal_pc2))"
   ]
  }
 ],
 "metadata": {
  "kernelspec": {
   "display_name": "julia_enso 1.11.5",
   "language": "julia",
   "name": "julia_enso-1.11"
  },
  "language_info": {
   "file_extension": ".jl",
   "mimetype": "application/julia",
   "name": "julia",
   "version": "1.11.5"
  }
 },
 "nbformat": 4,
 "nbformat_minor": 5
}
